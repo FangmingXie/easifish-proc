{
 "cells": [
  {
   "cell_type": "markdown",
   "id": "8c753145-1a59-480d-abb2-60f2fa3f416f",
   "metadata": {},
   "source": [
    "# Inputs\n",
    "---"
   ]
  },
  {
   "cell_type": "code",
   "execution_count": 5,
   "id": "2b6aeb01",
   "metadata": {},
   "outputs": [],
   "source": [
    "import numpy as np, zarr, nrrd\n",
    "# alignment functions\n",
    "from bigstream.align import alignment_pipeline\n",
    "from bigstream.transform import apply_transform\n",
    "import tifffile\n",
    "\n",
    "import seaborn as sns\n",
    "import matplotlib.pyplot as plt"
   ]
  },
  {
   "cell_type": "code",
   "execution_count": 12,
   "id": "f9e34109-0b59-441f-bb7a-2f75c90d30eb",
   "metadata": {
    "tags": []
   },
   "outputs": [],
   "source": [
    "p1      = '/u/home/f/f7xiesnm/project-zipursky/data/01_fused'\n",
    "p2      = '/u/home/f/f7xiesnm/project-zipursky/data/03_flatfused'\n",
    "outdir = '/u/home/f/f7xiesnm/project-zipursky/easifish/results/viz_all_projections_jan29'\n",
    "!mkdir -p $outdir"
   ]
  },
  {
   "cell_type": "code",
   "execution_count": 7,
   "id": "1a7af7f6-f047-4f66-8e9d-43cfc2fc5922",
   "metadata": {
    "tags": []
   },
   "outputs": [],
   "source": [
    "# !rm -r $outdir"
   ]
  },
  {
   "cell_type": "code",
   "execution_count": 8,
   "id": "8460a4e9-1d9b-41af-8f88-f7b0f29c3999",
   "metadata": {
    "tags": []
   },
   "outputs": [
    {
     "name": "stdout",
     "output_type": "stream",
     "text": [
      "cdf03_c3-2_r1_export.n5\t\t    easi001_2_r1_export.n5\n",
      "cdf3_c3-2_sample1_r1_export.n5\t    easi002_1_r1_export.n5\n",
      "cdf4_c3-2_sample1_r1_export.n5\t    easi002_2_r1_export.n5\n",
      "demo_small_autos1_export.n5\t    easi002_2_r2_export.n5\n",
      "demo_small_autos1_stitch_export.n5  lt185_r1_export.n5\n",
      "demo_small_s1_export-ds-try10.n5    lt186_r1_export.n5\n",
      "easi001_1_r1_export.n5\t\t    sparse06_r1_autos1_export.n5\n"
     ]
    }
   ],
   "source": [
    "!ls $p1"
   ]
  },
  {
   "cell_type": "markdown",
   "id": "060aca49-8874-4f7c-8f00-91945062bea9",
   "metadata": {},
   "source": [
    "# raw"
   ]
  },
  {
   "cell_type": "code",
   "execution_count": 5,
   "id": "4074c8c1-9d5a-4fd1-8a21-d382bcf4734c",
   "metadata": {
    "tags": []
   },
   "outputs": [
    {
     "name": "stdout",
     "output_type": "stream",
     "text": [
      "(273, 561, 561)\n",
      "6345 70\n",
      "/u/home/f/f7xiesnm/project-zipursky/easifish/results/viz_cdf4-c3-2_sample1_r1_feb1/r1_c1_s4.tiff\n",
      "(273, 561, 561)\n",
      "22303 74\n",
      "/u/home/f/f7xiesnm/project-zipursky/easifish/results/viz_cdf4-c3-2_sample1_r1_feb1/r1_c2_s4.tiff\n",
      "(273, 561, 561)\n",
      "3948 71\n",
      "/u/home/f/f7xiesnm/project-zipursky/easifish/results/viz_cdf4-c3-2_sample1_r1_feb1/r1_c3_s4.tiff\n",
      "(273, 561, 561)\n",
      "18937 71\n",
      "/u/home/f/f7xiesnm/project-zipursky/easifish/results/viz_cdf4-c3-2_sample1_r1_feb1/r1_c4_s4.tiff\n",
      "(273, 561, 561)\n",
      "6439 72\n",
      "/u/home/f/f7xiesnm/project-zipursky/easifish/results/viz_cdf4-c3-2_sample1_r1_feb1/r1_c5_s4.tiff\n"
     ]
    }
   ],
   "source": [
    "r = 'r1'\n",
    "path = p1 + f'/cdf4_c3-2_sample1_r1_export.n5'\n",
    "zarr_data = zarr.open(store=zarr.N5Store(path), mode='r')\n",
    "for c in ['c1', 'c2', 'c3', 'c4', 'c5']:\n",
    "    img = zarr_data[f'/{c}/s4'] \n",
    "    print(img.shape)\n",
    "    print(np.max(img), np.min(img))\n",
    "    output = outdir+f'/{r}_{c}_s4.tiff'\n",
    "    print(output)\n",
    "    tifffile.imwrite(output, img)"
   ]
  },
  {
   "cell_type": "code",
   "execution_count": 14,
   "id": "70cd700e-efc2-4775-b723-461d7c4dc86d",
   "metadata": {},
   "outputs": [
    {
     "name": "stdout",
     "output_type": "stream",
     "text": [
      "(228, 451, 451)\n",
      "17394 69\n",
      "/u/home/f/f7xiesnm/project-zipursky/easifish/results/viz_all_projections_jan29/cdf3_c3-2_sample1_r1_c0_s4.tiff\n",
      "(228, 451, 451)\n",
      "22389 69\n",
      "/u/home/f/f7xiesnm/project-zipursky/easifish/results/viz_all_projections_jan29/cdf3_c3-2_sample1_r1_c1_s4.tiff\n",
      "(228, 451, 451)\n",
      "37011 69\n",
      "/u/home/f/f7xiesnm/project-zipursky/easifish/results/viz_all_projections_jan29/cdf3_c3-2_sample1_r1_c2_s4.tiff\n",
      "(228, 451, 451)\n",
      "14667 69\n",
      "/u/home/f/f7xiesnm/project-zipursky/easifish/results/viz_all_projections_jan29/cdf3_c3-2_sample1_r1_c3_s4.tiff\n",
      "(228, 451, 451)\n",
      "26057 69\n",
      "/u/home/f/f7xiesnm/project-zipursky/easifish/results/viz_all_projections_jan29/cdf3_c3-2_sample1_r1_c4_s4.tiff\n"
     ]
    }
   ],
   "source": [
    "r = 'r1'\n",
    "path = p1 + f'/cdf3_c3-2_sample1_r1_export.n5'\n",
    "zarr_data = zarr.open(store=zarr.N5Store(path), mode='r')\n",
    "for c in ['c0', 'c1', 'c2', 'c3', 'c4']:\n",
    "    img = zarr_data[f'/{c}/s4'] \n",
    "    print(img.shape)\n",
    "    print(np.max(img), np.min(img))\n",
    "    output = outdir+f'/cdf3_c3-2_sample1_{r}_{c}_s4.tiff'\n",
    "    print(output)\n",
    "    tifffile.imwrite(output, img)"
   ]
  },
  {
   "cell_type": "code",
   "execution_count": null,
   "id": "6d5190c5-b7f7-4106-b57f-93411fdc8707",
   "metadata": {},
   "outputs": [],
   "source": []
  }
 ],
 "metadata": {
  "kernelspec": {
   "display_name": "napari",
   "language": "python",
   "name": "napari"
  },
  "language_info": {
   "codemirror_mode": {
    "name": "ipython",
    "version": 3
   },
   "file_extension": ".py",
   "mimetype": "text/x-python",
   "name": "python",
   "nbconvert_exporter": "python",
   "pygments_lexer": "ipython3",
   "version": "3.9.16"
  }
 },
 "nbformat": 4,
 "nbformat_minor": 5
}
