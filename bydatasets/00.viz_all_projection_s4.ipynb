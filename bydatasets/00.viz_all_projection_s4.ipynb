{
 "cells": [
  {
   "cell_type": "markdown",
   "id": "8c753145-1a59-480d-abb2-60f2fa3f416f",
   "metadata": {},
   "source": [
    "# Inputs\n",
    "---"
   ]
  },
  {
   "cell_type": "code",
   "execution_count": 1,
   "id": "2b6aeb01",
   "metadata": {},
   "outputs": [],
   "source": [
    "import numpy as np, zarr, nrrd\n",
    "import os\n",
    "# alignment functions\n",
    "from bigstream.align import alignment_pipeline\n",
    "from bigstream.transform import apply_transform\n",
    "import tifffile\n",
    "\n",
    "import seaborn as sns\n",
    "import matplotlib.pyplot as plt"
   ]
  },
  {
   "cell_type": "code",
   "execution_count": 2,
   "id": "f9e34109-0b59-441f-bb7a-2f75c90d30eb",
   "metadata": {
    "tags": []
   },
   "outputs": [],
   "source": [
    "p1      = '/u/home/f/f7xiesnm/project-zipursky/data/01_fused'\n",
    "outdir = '/u/home/f/f7xiesnm/project-zipursky/easifish/results/viz_all_projections_jan29'\n",
    "!mkdir -p $outdir"
   ]
  },
  {
   "cell_type": "code",
   "execution_count": 3,
   "id": "1a7af7f6-f047-4f66-8e9d-43cfc2fc5922",
   "metadata": {
    "tags": []
   },
   "outputs": [],
   "source": [
    "# !rm -r $outdir"
   ]
  },
  {
   "cell_type": "code",
   "execution_count": 4,
   "id": "8460a4e9-1d9b-41af-8f88-f7b0f29c3999",
   "metadata": {
    "tags": []
   },
   "outputs": [
    {
     "name": "stdout",
     "output_type": "stream",
     "text": [
      "cdf03_c3-2_r1_export.n5\t\t    easi002_1_r1_export.n5\n",
      "demo_small_autos1_export.n5\t    easi002_2_r1_export.n5\n",
      "demo_small_autos1_stitch_export.n5  easi002_2_r2_export.n5\n",
      "demo_small_s1_export-ds-try10.n5    lt185_r1_export.n5\n",
      "easi001_1_r1_export.n5\t\t    lt186_r1_export.n5\n",
      "easi001_2_r1_export.n5\t\t    sparse06_r1_autos1_export.n5\n"
     ]
    }
   ],
   "source": [
    "!ls $p1"
   ]
  },
  {
   "cell_type": "markdown",
   "id": "060aca49-8874-4f7c-8f00-91945062bea9",
   "metadata": {},
   "source": [
    "# raw"
   ]
  },
  {
   "cell_type": "code",
   "execution_count": 5,
   "id": "4074c8c1-9d5a-4fd1-8a21-d382bcf4734c",
   "metadata": {
    "tags": []
   },
   "outputs": [
    {
     "name": "stdout",
     "output_type": "stream",
     "text": [
      "(288, 456, 565)\n",
      "3648 88\n",
      "/u/home/f/f7xiesnm/project-zipursky/easifish/results/viz_all_projections_jan29/lt186_r1_c0_s4.tiff\n",
      "(288, 456, 565)\n",
      "851 88\n",
      "/u/home/f/f7xiesnm/project-zipursky/easifish/results/viz_all_projections_jan29/lt186_r1_c1_s4.tiff\n",
      "(288, 456, 565)\n",
      "3304 87\n",
      "/u/home/f/f7xiesnm/project-zipursky/easifish/results/viz_all_projections_jan29/lt186_r1_c2_s4.tiff\n",
      "(288, 456, 565)\n",
      "167 88\n",
      "/u/home/f/f7xiesnm/project-zipursky/easifish/results/viz_all_projections_jan29/lt186_r1_c3_s4.tiff\n",
      "(288, 456, 565)\n",
      "837 87\n",
      "/u/home/f/f7xiesnm/project-zipursky/easifish/results/viz_all_projections_jan29/lt186_r1_c4_s4.tiff\n",
      "(324, 456, 568)\n",
      "2652 88\n",
      "/u/home/f/f7xiesnm/project-zipursky/easifish/results/viz_all_projections_jan29/lt185_r1_c0_s4.tiff\n",
      "(324, 456, 568)\n",
      "1439 88\n",
      "/u/home/f/f7xiesnm/project-zipursky/easifish/results/viz_all_projections_jan29/lt185_r1_c1_s4.tiff\n",
      "(324, 456, 568)\n",
      "1495 87\n",
      "/u/home/f/f7xiesnm/project-zipursky/easifish/results/viz_all_projections_jan29/lt185_r1_c2_s4.tiff\n",
      "(324, 456, 568)\n",
      "6976 87\n",
      "/u/home/f/f7xiesnm/project-zipursky/easifish/results/viz_all_projections_jan29/lt185_r1_c3_s4.tiff\n",
      "(324, 456, 568)\n",
      "288 87\n",
      "/u/home/f/f7xiesnm/project-zipursky/easifish/results/viz_all_projections_jan29/lt185_r1_c4_s4.tiff\n",
      "(268, 336, 446)\n",
      "2474 0\n",
      "/u/home/f/f7xiesnm/project-zipursky/easifish/results/viz_all_projections_jan29/easi001_1_r1_c0_s4.tiff\n",
      "(268, 336, 446)\n",
      "194 0\n",
      "/u/home/f/f7xiesnm/project-zipursky/easifish/results/viz_all_projections_jan29/easi001_1_r1_c1_s4.tiff\n",
      "(268, 336, 446)\n",
      "4324 0\n",
      "/u/home/f/f7xiesnm/project-zipursky/easifish/results/viz_all_projections_jan29/easi001_1_r1_c2_s4.tiff\n",
      "(268, 336, 446)\n",
      "2357 0\n",
      "/u/home/f/f7xiesnm/project-zipursky/easifish/results/viz_all_projections_jan29/easi001_1_r1_c3_s4.tiff\n",
      "(268, 336, 446)\n",
      "7941 0\n",
      "/u/home/f/f7xiesnm/project-zipursky/easifish/results/viz_all_projections_jan29/easi001_1_r1_c4_s4.tiff\n",
      "(271, 553, 557)\n",
      "20255 0\n",
      "/u/home/f/f7xiesnm/project-zipursky/easifish/results/viz_all_projections_jan29/easi001_2_r1_c0_s4.tiff\n",
      "(271, 553, 557)\n",
      "168 0\n",
      "/u/home/f/f7xiesnm/project-zipursky/easifish/results/viz_all_projections_jan29/easi001_2_r1_c1_s4.tiff\n",
      "(271, 553, 557)\n",
      "3232 0\n",
      "/u/home/f/f7xiesnm/project-zipursky/easifish/results/viz_all_projections_jan29/easi001_2_r1_c2_s4.tiff\n",
      "(271, 553, 557)\n",
      "3534 0\n",
      "/u/home/f/f7xiesnm/project-zipursky/easifish/results/viz_all_projections_jan29/easi001_2_r1_c3_s4.tiff\n",
      "(271, 553, 557)\n",
      "5672 0\n",
      "/u/home/f/f7xiesnm/project-zipursky/easifish/results/viz_all_projections_jan29/easi001_2_r1_c4_s4.tiff\n",
      "(273, 552, 555)\n",
      "3023 0\n",
      "/u/home/f/f7xiesnm/project-zipursky/easifish/results/viz_all_projections_jan29/easi002_1_r1_c0_s4.tiff\n",
      "(273, 552, 555)\n",
      "454 0\n",
      "/u/home/f/f7xiesnm/project-zipursky/easifish/results/viz_all_projections_jan29/easi002_1_r1_c1_s4.tiff\n",
      "(273, 552, 555)\n",
      "1944 0\n",
      "/u/home/f/f7xiesnm/project-zipursky/easifish/results/viz_all_projections_jan29/easi002_1_r1_c2_s4.tiff\n",
      "(273, 552, 555)\n",
      "9799 0\n",
      "/u/home/f/f7xiesnm/project-zipursky/easifish/results/viz_all_projections_jan29/easi002_1_r1_c3_s4.tiff\n",
      "(273, 552, 555)\n",
      "10458 0\n",
      "/u/home/f/f7xiesnm/project-zipursky/easifish/results/viz_all_projections_jan29/easi002_1_r1_c4_s4.tiff\n",
      "(252, 336, 555)\n",
      "6417 0\n",
      "/u/home/f/f7xiesnm/project-zipursky/easifish/results/viz_all_projections_jan29/easi002_2_r1_c0_s4.tiff\n",
      "(252, 336, 555)\n",
      "354 0\n",
      "/u/home/f/f7xiesnm/project-zipursky/easifish/results/viz_all_projections_jan29/easi002_2_r1_c1_s4.tiff\n",
      "(252, 336, 555)\n",
      "3982 0\n",
      "/u/home/f/f7xiesnm/project-zipursky/easifish/results/viz_all_projections_jan29/easi002_2_r1_c2_s4.tiff\n",
      "(252, 336, 555)\n",
      "21466 0\n",
      "/u/home/f/f7xiesnm/project-zipursky/easifish/results/viz_all_projections_jan29/easi002_2_r1_c3_s4.tiff\n",
      "(252, 336, 555)\n",
      "8806 0\n",
      "/u/home/f/f7xiesnm/project-zipursky/easifish/results/viz_all_projections_jan29/easi002_2_r1_c4_s4.tiff\n",
      "(271, 340, 561)\n",
      "65236 60\n",
      "/u/home/f/f7xiesnm/project-zipursky/easifish/results/viz_all_projections_jan29/easi002_2_r2_c0_s4.tiff\n",
      "(271, 340, 561)\n",
      "65535 59\n",
      "/u/home/f/f7xiesnm/project-zipursky/easifish/results/viz_all_projections_jan29/easi002_2_r2_c2_s4.tiff\n",
      "(271, 340, 561)\n",
      "43155 63\n",
      "/u/home/f/f7xiesnm/project-zipursky/easifish/results/viz_all_projections_jan29/easi002_2_r2_c3_s4.tiff\n",
      "(271, 340, 561)\n",
      "39629 62\n",
      "/u/home/f/f7xiesnm/project-zipursky/easifish/results/viz_all_projections_jan29/easi002_2_r2_c4_s4.tiff\n",
      "(220, 451, 451)\n",
      "4862 69\n",
      "/u/home/f/f7xiesnm/project-zipursky/easifish/results/viz_all_projections_jan29/cdf03_c3-2_r1_c0_s4.tiff\n",
      "(220, 451, 451)\n",
      "31925 69\n",
      "/u/home/f/f7xiesnm/project-zipursky/easifish/results/viz_all_projections_jan29/cdf03_c3-2_r1_c1_s4.tiff\n",
      "(220, 451, 451)\n",
      "44987 69\n",
      "/u/home/f/f7xiesnm/project-zipursky/easifish/results/viz_all_projections_jan29/cdf03_c3-2_r1_c2_s4.tiff\n",
      "(220, 451, 451)\n",
      "3695 70\n",
      "/u/home/f/f7xiesnm/project-zipursky/easifish/results/viz_all_projections_jan29/cdf03_c3-2_r1_c3_s4.tiff\n",
      "(220, 451, 451)\n",
      "17383 69\n",
      "/u/home/f/f7xiesnm/project-zipursky/easifish/results/viz_all_projections_jan29/cdf03_c3-2_r1_c4_s4.tiff\n"
     ]
    }
   ],
   "source": [
    "r = 'r1'\n",
    "datasets = [\n",
    "    'lt186_r1',\n",
    "    'lt185_r1',\n",
    "    'easi001_1_r1',\n",
    "    'easi001_2_r1',\n",
    "    'easi002_1_r1',\n",
    "    'easi002_2_r1',\n",
    "    'easi002_2_r2',\n",
    "    'cdf03_c3-2_r1',\n",
    "]\n",
    "\n",
    "for dataset in datasets:\n",
    "    path = p1 + f'/{dataset}_export.n5'\n",
    "    assert os.path.exists(path)\n",
    "    \n",
    "    zarr_data = zarr.open(store=zarr.N5Store(path), mode='r')\n",
    "    for c in ['c0', 'c1', 'c2', 'c3', 'c4']:\n",
    "        try:\n",
    "            img = zarr_data[f'/{c}/s4'] \n",
    "            print(img.shape)\n",
    "            print(np.max(img), np.min(img))\n",
    "            output = outdir+f'/{dataset}_{c}_s4.tiff'\n",
    "            print(output)\n",
    "            tifffile.imwrite(output, img)\n",
    "        except:\n",
    "            pass"
   ]
  },
  {
   "cell_type": "code",
   "execution_count": null,
   "id": "70cd700e-efc2-4775-b723-461d7c4dc86d",
   "metadata": {},
   "outputs": [],
   "source": []
  }
 ],
 "metadata": {
  "kernelspec": {
   "display_name": "napari",
   "language": "python",
   "name": "napari"
  },
  "language_info": {
   "codemirror_mode": {
    "name": "ipython",
    "version": 3
   },
   "file_extension": ".py",
   "mimetype": "text/x-python",
   "name": "python",
   "nbconvert_exporter": "python",
   "pygments_lexer": "ipython3",
   "version": "3.9.16"
  }
 },
 "nbformat": 4,
 "nbformat_minor": 5
}
