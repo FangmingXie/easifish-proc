{
 "cells": [
  {
   "cell_type": "code",
   "execution_count": 1,
   "id": "b3becb0f",
   "metadata": {
    "tags": []
   },
   "outputs": [
    {
     "data": {
      "text/plain": [
       "<module 'easi_fish.intensity' from '/u/project/zipursky/f7xiesnm/code/easifish-proc/bydatasets/sparse06/../../easi_fish/intensity.py'>"
      ]
     },
     "execution_count": 1,
     "metadata": {},
     "output_type": "execute_result"
    }
   ],
   "source": [
    "import os, sys\n",
    "from os.path import abspath, dirname\n",
    "import zarr\n",
    "import z5py\n",
    "import numpy as np\n",
    "import pandas as pd\n",
    "from glob import glob \n",
    "from skimage.measure import regionprops\n",
    "from skimage.io import imread, imsave\n",
    "from scipy import stats\n",
    "from scipy.stats import skewnorm, lognorm\n",
    "from scipy.optimize import minimize\n",
    "import itertools\n",
    "import collections\n",
    "\n",
    "sys.path.append('../../')\n",
    "from easi_fish import n5_metadata_utils as n5mu\n",
    "from easi_fish import roi_prop, spot, intensity\n",
    "import warnings\n",
    "warnings.filterwarnings('ignore')\n",
    "\n",
    "import importlib\n",
    "importlib.reload(spot)\n",
    "importlib.reload(roi_prop)\n",
    "importlib.reload(intensity)"
   ]
  },
  {
   "cell_type": "code",
   "execution_count": 2,
   "id": "3d8d47bc-7198-4dd5-9e7a-192c20214bf5",
   "metadata": {
    "tags": []
   },
   "outputs": [],
   "source": [
    "import matplotlib.pyplot as plt\n",
    "import seaborn as sns"
   ]
  },
  {
   "cell_type": "code",
   "execution_count": 3,
   "id": "7bfea4a2-050a-4ae9-9b92-c030a5c7eadd",
   "metadata": {
    "tags": []
   },
   "outputs": [],
   "source": [
    "from IPython.display import set_matplotlib_formats\n",
    "set_matplotlib_formats('retina')\n",
    "\n",
    "sns.set_style('white', rc={'axes.grid':True})\n",
    "sns.set_context('talk')"
   ]
  },
  {
   "cell_type": "markdown",
   "id": "288d5d2b-eb54-4aa8-885f-16f68ed8c9a8",
   "metadata": {},
   "source": [
    "Spot counts for cells with highly expressed genes (dense spots)\n",
    "1. Measure total intensity of every ROI after bleed-through correction and background subtraction.\n",
    "2. Calculate the number of spot from total intensity based on unit-spot intensity\n",
    "3. Correlate the number of spots (from air-localize) with the total fluorescence intensity/voxel in each ROI and determine a 'cutoff'. \n",
    "   Spot count > cutoff: use spot count converted based on total fluorescence intensity; \n",
    "   Spot count < cutoff: use spot count from Airlocalize"
   ]
  },
  {
   "cell_type": "markdown",
   "id": "6278a8d4-b2d9-47e0-b1bf-1da0c98b3164",
   "metadata": {},
   "source": [
    "### On units\n",
    "- all images are based on pixel units - \n",
    "- roi meta file (output) are based on physical unit (um - pre-expansion)\n",
    "- spots files are in um (post-expansion)"
   ]
  },
  {
   "cell_type": "code",
   "execution_count": 4,
   "id": "f4700e17-343b-4195-8558-be2cba22cc7c",
   "metadata": {
    "tags": []
   },
   "outputs": [
    {
     "name": "stdout",
     "output_type": "stream",
     "text": [
      "roi_all.csv  roi.csv  spotcount.csv\n"
     ]
    }
   ],
   "source": [
    "ddir = '/u/home/f/f7xiesnm/project-zipursky/easifish/sparse06'\n",
    "output_dir = ddir + '/proc/r1-v2-1'\n",
    "!mkdir -p $output_dir\n",
    "!ls $output_dir"
   ]
  },
  {
   "cell_type": "code",
   "execution_count": 5,
   "id": "d3d89d9a",
   "metadata": {
    "tags": []
   },
   "outputs": [],
   "source": [
    "## input\n",
    "\n",
    "# theround = 'r2'\n",
    "# rounds = [theround]\n",
    "# channels = ['c0', 'c1', 'c2', 'c4']\n",
    "\n",
    "\n",
    "fix_round = 'r1'\n",
    "mov_rounds = [] #['r2', 'r6', 'r7']\n",
    "round_channels = collections.OrderedDict({\n",
    "    'r1': ('c0', 'c2', 'c4'),\n",
    "})\n",
    "\n",
    "dapi_channel = 'c3'\n",
    "lb_scale = 's3'\n",
    "lb_res = [1.84,1.84,1.68]\n",
    "ex = 2\n",
    "\n",
    "# images\n",
    "fix_dir  =  ddir + f\"/outputs/{fix_round}/stitching/export.n5\"\n",
    "lb_dir  =   ddir + f\"/outputs/{fix_round}/segmentation/{fix_round}-{dapi_channel}.tif\"\n",
    "reg_dirs = []\n",
    "# reg_dirs = [\n",
    "#     ddir + f\"/outputs/r2/registration/usable/r2-to-r1/warped\",\n",
    "#     ddir + f\"/outputs/r7/registration/usable/r7-to-r1/warped\",\n",
    "#     ]\n",
    "subpath =   f'/{dapi_channel}/{lb_scale}' \n",
    "\n",
    "\n",
    "# spot dir for every gene\n",
    "fx_spots = [\n",
    "    ddir + f'/outputs/r1/spots/spots_c0.txt',\n",
    "    ddir + f'/outputs/r1/spots/spots_c2.txt',\n",
    "    ddir + f'/outputs/r1/spots/spots_c4.txt',\n",
    "]\n",
    "\n",
    "\n",
    "# intn_threshs = [\n",
    "#     150, \n",
    "#     150, \n",
    "#     150, \n",
    "# ]\n",
    "\n",
    "intn_threshs = [\n",
    "    100, \n",
    "    100, \n",
    "    100, \n",
    "]\n",
    "    \n",
    "for f in fx_spots:\n",
    "    assert os.path.isfile(f)\n",
    "\n",
    "## output\n",
    "out_badroi = os.path.join(output_dir, 'bad_roi_list.npy')\n",
    "out_allroi = os.path.join(output_dir, \"roi_all.csv\") \n",
    "out_roi = os.path.join(output_dir, \"roi.csv\") \n",
    "out_spots = os.path.join(output_dir, \"spotcount.csv\")"
   ]
  },
  {
   "cell_type": "code",
   "execution_count": 6,
   "id": "6000559c-9784-4bb8-91c6-1d48d82ae917",
   "metadata": {
    "tags": []
   },
   "outputs": [
    {
     "data": {
      "text/html": [
       "<div>\n",
       "<style scoped>\n",
       "    .dataframe tbody tr th:only-of-type {\n",
       "        vertical-align: middle;\n",
       "    }\n",
       "\n",
       "    .dataframe tbody tr th {\n",
       "        vertical-align: top;\n",
       "    }\n",
       "\n",
       "    .dataframe thead th {\n",
       "        text-align: right;\n",
       "    }\n",
       "</style>\n",
       "<table border=\"1\" class=\"dataframe\">\n",
       "  <thead>\n",
       "    <tr style=\"text-align: right;\">\n",
       "      <th></th>\n",
       "      <th>roi</th>\n",
       "      <th>weighted_centroid</th>\n",
       "      <th>weighted_local_centroid</th>\n",
       "      <th>mean_intensity</th>\n",
       "    </tr>\n",
       "  </thead>\n",
       "  <tbody>\n",
       "    <tr>\n",
       "      <th>0</th>\n",
       "      <td>1</td>\n",
       "      <td>2.361220e-310</td>\n",
       "      <td>4.640336e-310</td>\n",
       "      <td>90.028198</td>\n",
       "    </tr>\n",
       "    <tr>\n",
       "      <th>1</th>\n",
       "      <td>2</td>\n",
       "      <td>5.562987e-307</td>\n",
       "      <td>5.562987e-307</td>\n",
       "      <td>90.157022</td>\n",
       "    </tr>\n",
       "    <tr>\n",
       "      <th>2</th>\n",
       "      <td>3</td>\n",
       "      <td>5.562990e-307</td>\n",
       "      <td>5.562987e-307</td>\n",
       "      <td>95.789548</td>\n",
       "    </tr>\n",
       "    <tr>\n",
       "      <th>3</th>\n",
       "      <td>4</td>\n",
       "      <td>5.562990e-307</td>\n",
       "      <td>6.008005e-307</td>\n",
       "      <td>88.729637</td>\n",
       "    </tr>\n",
       "    <tr>\n",
       "      <th>4</th>\n",
       "      <td>5</td>\n",
       "      <td>5.785498e-307</td>\n",
       "      <td>5.785501e-307</td>\n",
       "      <td>90.787868</td>\n",
       "    </tr>\n",
       "    <tr>\n",
       "      <th>...</th>\n",
       "      <td>...</td>\n",
       "      <td>...</td>\n",
       "      <td>...</td>\n",
       "      <td>...</td>\n",
       "    </tr>\n",
       "    <tr>\n",
       "      <th>36217</th>\n",
       "      <td>36218</td>\n",
       "      <td>5.562990e-307</td>\n",
       "      <td>5.340476e-307</td>\n",
       "      <td>74.216888</td>\n",
       "    </tr>\n",
       "    <tr>\n",
       "      <th>36218</th>\n",
       "      <td>36219</td>\n",
       "      <td>5.562983e-307</td>\n",
       "      <td>5.562987e-307</td>\n",
       "      <td>88.531509</td>\n",
       "    </tr>\n",
       "    <tr>\n",
       "      <th>36219</th>\n",
       "      <td>36220</td>\n",
       "      <td>5.562987e-307</td>\n",
       "      <td>5.340476e-307</td>\n",
       "      <td>90.439289</td>\n",
       "    </tr>\n",
       "    <tr>\n",
       "      <th>36220</th>\n",
       "      <td>36221</td>\n",
       "      <td>5.562987e-307</td>\n",
       "      <td>5.562987e-307</td>\n",
       "      <td>86.373626</td>\n",
       "    </tr>\n",
       "    <tr>\n",
       "      <th>36221</th>\n",
       "      <td>36222</td>\n",
       "      <td>5.562987e-307</td>\n",
       "      <td>5.785498e-307</td>\n",
       "      <td>90.997729</td>\n",
       "    </tr>\n",
       "  </tbody>\n",
       "</table>\n",
       "<p>36222 rows × 4 columns</p>\n",
       "</div>"
      ],
      "text/plain": [
       "         roi  weighted_centroid  weighted_local_centroid  mean_intensity\n",
       "0          1      2.361220e-310            4.640336e-310       90.028198\n",
       "1          2      5.562987e-307            5.562987e-307       90.157022\n",
       "2          3      5.562990e-307            5.562987e-307       95.789548\n",
       "3          4      5.562990e-307            6.008005e-307       88.729637\n",
       "4          5      5.785498e-307            5.785501e-307       90.787868\n",
       "...      ...                ...                      ...             ...\n",
       "36217  36218      5.562990e-307            5.340476e-307       74.216888\n",
       "36218  36219      5.562983e-307            5.562987e-307       88.531509\n",
       "36219  36220      5.562987e-307            5.340476e-307       90.439289\n",
       "36220  36221      5.562987e-307            5.562987e-307       86.373626\n",
       "36221  36222      5.562987e-307            5.785498e-307       90.997729\n",
       "\n",
       "[36222 rows x 4 columns]"
      ]
     },
     "execution_count": 6,
     "metadata": {},
     "output_type": "execute_result"
    }
   ],
   "source": [
    "f_gcamp = ddir +  f'/outputs/r1/intensities/r1_c1_intensity.csv' \n",
    "df_gcamp = pd.read_csv(f_gcamp)\n",
    "df_gcamp"
   ]
  },
  {
   "cell_type": "code",
   "execution_count": 7,
   "id": "06c53b42-c8ad-4379-a404-dc87fc9f933b",
   "metadata": {
    "tags": []
   },
   "outputs": [],
   "source": [
    "REMOVE_BLEEDTHRU = False\n",
    "\n",
    "# remove bleed through!\n",
    "if REMOVE_BLEEDTHRU:\n",
    "    \n",
    "    bleed_thru_epsilon = 1\n",
    "    c_qry = 'c0'\n",
    "    c_ref = 'c4'\n",
    "\n",
    "    f_ref = ddir+f'/outputs/{theround}/spots/spots_{c_ref}.txt'\n",
    "    f_qry = ddir+f'/outputs/{theround}/spots/spots_{c_qry}.txt'\n",
    "    f_qry_kept = os.path.join(output_dir, f'kept_spots_{theround}_{c_qry}.txt')\n",
    "\n",
    "    ref_dots = np.loadtxt(f_ref, delimiter=',')\n",
    "    qry_dots = np.loadtxt(f_qry, delimiter=',')\n",
    "    qry_kept, qry_removed = spot.remove_bleed_thru_spots(ref_dots, qry_dots, epsilon=bleed_thru_epsilon)\n",
    "\n",
    "    # save \n",
    "    np.savetxt(f_qry_kept, qry_kept, delimiter=\",\")\n",
    "    \n",
    "    ### TODO - replace f_qry with f_qry_kept in spot list"
   ]
  },
  {
   "cell_type": "code",
   "execution_count": 8,
   "id": "698b1837",
   "metadata": {
    "tags": []
   },
   "outputs": [
    {
     "name": "stdout",
     "output_type": "stream",
     "text": [
      "subpath:  /c3/s3\n",
      "voxel size:  [1.84 1.84 1.68]\n",
      "image size (pixel):  [1241  991  709]\n",
      "image size (um post-ex):  [2283.44   1823.4401 1191.12  ]\n",
      "(709, 991, 1241)\n",
      "num roi:  36222\n",
      "CPU times: user 11.5 s, sys: 4.69 s, total: 16.2 s\n",
      "Wall time: 11.8 s\n"
     ]
    }
   ],
   "source": [
    "%%time\n",
    "# output dir\n",
    "if not os.path.isdir(output_dir):\n",
    "    print(output_dir)\n",
    "    os.mkdir(output_dir)\n",
    "    \n",
    "# image size in pixel (x, y, z)\n",
    "grid = n5mu.read_voxel_grid(fix_dir, subpath)\n",
    "# voxel resolution in µm (x, y, z) (post-expansion)\n",
    "vox  = n5mu.read_voxel_spacing(fix_dir, subpath)\n",
    "# image size in physical space (x, y, z) (post-expansion)\n",
    "size = grid*vox\n",
    "print('subpath: ', subpath)\n",
    "print('voxel size: ', vox)\n",
    "print('image size (pixel): ', grid)\n",
    "print('image size (um post-ex): ', size)\n",
    "\n",
    "# get image data\n",
    "# print(\"loading images...\")\n",
    "# fix = zarr.open(store=zarr.N5Store(fix_dir), mode='r')     \n",
    "# img1 = fix[subpath][:, :, :]\n",
    "\n",
    "# get segmentation mask\n",
    "lb = imread(lb_dir)\n",
    "# roi = np.max(lb) # this is only correct if this lb is uncropped\n",
    "roi = len(np.unique(lb[lb!=0])) # this would be better\n",
    "print(lb.shape)\n",
    "print('num roi: ', roi)"
   ]
  },
  {
   "cell_type": "code",
   "execution_count": 9,
   "id": "579b0b93-ffd0-48de-a509-4f5bbe22fcd1",
   "metadata": {
    "tags": []
   },
   "outputs": [],
   "source": [
    "# %%time\n",
    "# bad_roi = []\n",
    "# for reg_dir in reg_dirs:\n",
    "#     reg = zarr.open(store=zarr.N5Store(reg_dir), mode='r')     \n",
    "#     img2 = reg[subpath][...]\n",
    "#     print(\"image loaded\")\n",
    "    \n",
    "#     # get bad pixels -> bad roi\n",
    "#     bad_roi_thisround = np.unique(lb[np.nonzero(img2==0)])\n",
    "#     bad_roi.append(bad_roi_thisround)\n",
    "#     print(\"# of ROIs rejected this round:\", len(bad_roi_thisround))\n",
    "    \n",
    "# bad_roi = np.unique(np.hstack(bad_roi))\n",
    "# print(\"# of ROIs rejected:\", len(bad_roi))\n",
    "# bad_roi"
   ]
  },
  {
   "cell_type": "code",
   "execution_count": 10,
   "id": "88b47857-3f8c-4148-9dff-b73004211542",
   "metadata": {
    "tags": []
   },
   "outputs": [
    {
     "name": "stdout",
     "output_type": "stream",
     "text": [
      "CPU times: user 3 µs, sys: 2 µs, total: 5 µs\n",
      "Wall time: 7.15 µs\n"
     ]
    }
   ],
   "source": [
    "%%time\n",
    "# # Get list of ROIs that are fully or partially outside the mask \n",
    "### Make sure to only include ROIs that are intact and in the overlapping regions across all rounds of FISH\n",
    "### remove any unregistered parts\n",
    "if len(reg_dirs) > 0:\n",
    "    mask = np.ones(grid[::-1])\n",
    "    for reg_dir in reg_dirs:\n",
    "        reg = zarr.open(store=zarr.N5Store(reg_dir), mode='r')     \n",
    "        img2 = reg[subpath][...]\n",
    "        print(\"image loaded\")\n",
    "        mask[img2==0]=0\n",
    "    print(\"mask generated\")\n",
    "\n",
    "    bad_roi=np.unique(lb[mask==0])\n",
    "    if bad_roi[0] == 0: # remove the label 0 - extracellular space\n",
    "        bad_roi = bad_roi[1:]\n",
    "    np.save(out_badroi, bad_roi)\n",
    "    print(\"# of ROIs rejected:\", len(bad_roi))"
   ]
  },
  {
   "cell_type": "code",
   "execution_count": 11,
   "id": "7c0f7f66",
   "metadata": {
    "tags": []
   },
   "outputs": [
    {
     "name": "stdout",
     "output_type": "stream",
     "text": [
      "CPU times: user 21.1 s, sys: 2.17 s, total: 23.3 s\n",
      "Wall time: 23.4 s\n"
     ]
    }
   ],
   "source": [
    "%%time\n",
    "# get cell locations (in um - pre-expansion) from segmentation mask\n",
    "roi_meta_all = roi_prop.roi_prop_v2(lb, lb_res, ex)\n",
    "roi_meta_all.to_csv(out_allroi)\n",
    "\n",
    "roi_meta = roi_meta_all.set_index('roi').copy()\n",
    "roi_meta = roi_meta #.loc[roi_meta.index.difference(bad_roi)]\n",
    "roi_meta.to_csv(out_roi)"
   ]
  },
  {
   "cell_type": "code",
   "execution_count": 12,
   "id": "dd767d92-47eb-449b-9455-fc9522d2fc01",
   "metadata": {
    "tags": []
   },
   "outputs": [
    {
     "name": "stdout",
     "output_type": "stream",
     "text": [
      "r1 c0 /u/home/f/f7xiesnm/project-zipursky/easifish/sparse06/outputs/r1/spots/spots_c0.txt\n",
      "8459750\n",
      "1267459\n",
      "removed 0 spots due to nan\n",
      "1,266,556/1,267,459 spots in range (1241, 991, 709)\n",
      "r1 c2 /u/home/f/f7xiesnm/project-zipursky/easifish/sparse06/outputs/r1/spots/spots_c2.txt\n",
      "7913444\n",
      "700203\n",
      "removed 0 spots due to nan\n",
      "699,887/700,203 spots in range (1241, 991, 709)\n",
      "r1 c4 /u/home/f/f7xiesnm/project-zipursky/easifish/sparse06/outputs/r1/spots/spots_c4.txt\n",
      "7983001\n",
      "834431\n",
      "removed 0 spots due to nan\n",
      "831,041/834,431 spots in range (1241, 991, 709)\n",
      "CPU times: user 2min 14s, sys: 5.53 s, total: 2min 19s\n",
      "Wall time: 2min 20s\n"
     ]
    }
   ],
   "source": [
    "%%time\n",
    "\n",
    "# count spots for every cell (roi)\n",
    "\n",
    "# all labels\n",
    "lb_id = np.unique(lb[lb!=0]) # exclude 0\n",
    "lb_id = np.hstack([[0], lb_id]) # include 0 - noncell\n",
    "# selected cells\n",
    "lb_id_selected = roi_meta.index.values\n",
    "\n",
    "# prep\n",
    "spotcount = pd.DataFrame(index=lb_id_selected, dtype=int)\n",
    "# spotcount_intn = pd.DataFrame(index=lb_id_selected, dtype=float)\n",
    "\n",
    "i = 0\n",
    "for r,chs in round_channels.items():\n",
    "    for c in chs:\n",
    "        # f_intns = fx_intns[i]\n",
    "        f_spots = fx_spots[i]\n",
    "        intn_th = intn_threshs[i]\n",
    "        print(r, c, f_spots) #, f_intns)\n",
    "\n",
    "        # spots\n",
    "        spots_rc = np.loadtxt(f_spots, delimiter=',')\n",
    "        print(len(spots_rc))\n",
    "\n",
    "        # filter\n",
    "        filter_cond = spots_rc[:,3] > intn_th\n",
    "        spots_rc = spots_rc[filter_cond]\n",
    "        print(len(spots_rc))\n",
    "\n",
    "        # count spots\n",
    "        res = spot.spot_counts_worker(lb, spots_rc, lb_res,\n",
    "                                      lb_id=lb_id, \n",
    "                                      remove_noncell=True, \n",
    "                                      selected_roi_list=lb_id_selected,\n",
    "                                      )\n",
    "        spotcount[f\"{r}_{c}\"] = res \n",
    "\n",
    "        # # count spots by intensity\n",
    "        # res = spot.get_spot_counts_from_intn(f_intns, f_spots, roi_meta, lb_res)\n",
    "        # spotcount_intn[f'{r}_{c}'] = res\n",
    "        i = i + 1\n",
    "    \n",
    "# save results\n",
    "spotcount.to_csv(out_spots)\n",
    "# spotcount_intn.to_csv(out_spots_intn)"
   ]
  },
  {
   "cell_type": "code",
   "execution_count": 13,
   "id": "34116fe0",
   "metadata": {
    "tags": []
   },
   "outputs": [],
   "source": [
    "# # reconcile two spot counts\n",
    "# dist_cutoff = 2 # um pre-expansion\n",
    "# density = spotcount.divide(roi_meta['area'], axis=0)\n",
    "# cond = density < 1/(dist_cutoff**3) # keep spots if density is low\n",
    "\n",
    "# print(\"# cells have high density: \", (~cond).sum()) \n",
    "# spotcount_merged = spotcount.where(cond, spotcount_intn)  # replace where the condition is False\n",
    "# spotcount_merged.to_csv(out_spots_merged)\n",
    "# spotcount_merged"
   ]
  },
  {
   "cell_type": "code",
   "execution_count": 14,
   "id": "713a5d5c-1faf-4dcf-8753-a659aa6eb2db",
   "metadata": {},
   "outputs": [
    {
     "data": {
      "text/html": [
       "<div>\n",
       "<style scoped>\n",
       "    .dataframe tbody tr th:only-of-type {\n",
       "        vertical-align: middle;\n",
       "    }\n",
       "\n",
       "    .dataframe tbody tr th {\n",
       "        vertical-align: top;\n",
       "    }\n",
       "\n",
       "    .dataframe thead th {\n",
       "        text-align: right;\n",
       "    }\n",
       "</style>\n",
       "<table border=\"1\" class=\"dataframe\">\n",
       "  <thead>\n",
       "    <tr style=\"text-align: right;\">\n",
       "      <th></th>\n",
       "      <th>r1_c0</th>\n",
       "      <th>r1_c2</th>\n",
       "      <th>r1_c4</th>\n",
       "    </tr>\n",
       "  </thead>\n",
       "  <tbody>\n",
       "    <tr>\n",
       "      <th>1</th>\n",
       "      <td>30.0</td>\n",
       "      <td>14.0</td>\n",
       "      <td>74.0</td>\n",
       "    </tr>\n",
       "    <tr>\n",
       "      <th>2</th>\n",
       "      <td>70.0</td>\n",
       "      <td>52.0</td>\n",
       "      <td>88.0</td>\n",
       "    </tr>\n",
       "    <tr>\n",
       "      <th>3</th>\n",
       "      <td>120.0</td>\n",
       "      <td>65.0</td>\n",
       "      <td>253.0</td>\n",
       "    </tr>\n",
       "    <tr>\n",
       "      <th>4</th>\n",
       "      <td>87.0</td>\n",
       "      <td>112.0</td>\n",
       "      <td>1.0</td>\n",
       "    </tr>\n",
       "    <tr>\n",
       "      <th>5</th>\n",
       "      <td>27.0</td>\n",
       "      <td>25.0</td>\n",
       "      <td>71.0</td>\n",
       "    </tr>\n",
       "    <tr>\n",
       "      <th>...</th>\n",
       "      <td>...</td>\n",
       "      <td>...</td>\n",
       "      <td>...</td>\n",
       "    </tr>\n",
       "    <tr>\n",
       "      <th>36218</th>\n",
       "      <td>6.0</td>\n",
       "      <td>1.0</td>\n",
       "      <td>0.0</td>\n",
       "    </tr>\n",
       "    <tr>\n",
       "      <th>36219</th>\n",
       "      <td>4.0</td>\n",
       "      <td>0.0</td>\n",
       "      <td>1.0</td>\n",
       "    </tr>\n",
       "    <tr>\n",
       "      <th>36220</th>\n",
       "      <td>6.0</td>\n",
       "      <td>1.0</td>\n",
       "      <td>4.0</td>\n",
       "    </tr>\n",
       "    <tr>\n",
       "      <th>36221</th>\n",
       "      <td>10.0</td>\n",
       "      <td>0.0</td>\n",
       "      <td>1.0</td>\n",
       "    </tr>\n",
       "    <tr>\n",
       "      <th>36222</th>\n",
       "      <td>5.0</td>\n",
       "      <td>1.0</td>\n",
       "      <td>2.0</td>\n",
       "    </tr>\n",
       "  </tbody>\n",
       "</table>\n",
       "<p>36222 rows × 3 columns</p>\n",
       "</div>"
      ],
      "text/plain": [
       "       r1_c0  r1_c2  r1_c4\n",
       "1       30.0   14.0   74.0\n",
       "2       70.0   52.0   88.0\n",
       "3      120.0   65.0  253.0\n",
       "4       87.0  112.0    1.0\n",
       "5       27.0   25.0   71.0\n",
       "...      ...    ...    ...\n",
       "36218    6.0    1.0    0.0\n",
       "36219    4.0    0.0    1.0\n",
       "36220    6.0    1.0    4.0\n",
       "36221   10.0    0.0    1.0\n",
       "36222    5.0    1.0    2.0\n",
       "\n",
       "[36222 rows x 3 columns]"
      ]
     },
     "execution_count": 14,
     "metadata": {},
     "output_type": "execute_result"
    }
   ],
   "source": [
    "spotcount"
   ]
  }
 ],
 "metadata": {
  "kernelspec": {
   "display_name": "Python 3 (ipykernel)",
   "language": "python",
   "name": "python3"
  },
  "language_info": {
   "codemirror_mode": {
    "name": "ipython",
    "version": 3
   },
   "file_extension": ".py",
   "mimetype": "text/x-python",
   "name": "python",
   "nbconvert_exporter": "python",
   "pygments_lexer": "ipython3",
   "version": "3.9.16"
  }
 },
 "nbformat": 4,
 "nbformat_minor": 5
}
