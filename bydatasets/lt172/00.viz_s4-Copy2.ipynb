{
 "cells": [
  {
   "cell_type": "markdown",
   "id": "8c753145-1a59-480d-abb2-60f2fa3f416f",
   "metadata": {},
   "source": [
    "# Inputs\n",
    "---"
   ]
  },
  {
   "cell_type": "code",
   "execution_count": 1,
   "id": "2b6aeb01",
   "metadata": {},
   "outputs": [],
   "source": [
    "import numpy as np, zarr, nrrd\n",
    "# alignment functions\n",
    "from bigstream.align import alignment_pipeline\n",
    "from bigstream.transform import apply_transform\n",
    "import tifffile\n",
    "\n",
    "import seaborn as sns\n",
    "import matplotlib.pyplot as plt"
   ]
  },
  {
   "cell_type": "code",
   "execution_count": 2,
   "id": "f9e34109-0b59-441f-bb7a-2f75c90d30eb",
   "metadata": {
    "tags": []
   },
   "outputs": [],
   "source": [
    "p      = '/u/home/f/f7xiesnm/project-zipursky/data/hold/lt172/'\n",
    "outdir = '/u/home/f/f7xiesnm/project-zipursky/easifish/results/viz_lt172'\n",
    "!mkdir -p $outdir"
   ]
  },
  {
   "cell_type": "code",
   "execution_count": 3,
   "id": "8460a4e9-1d9b-41af-8f88-f7b0f29c3999",
   "metadata": {
    "tags": []
   },
   "outputs": [
    {
     "name": "stdout",
     "output_type": "stream",
     "text": [
      "r1_export.n5\tr2_export.n5  r4_export.n5\n",
      "r2-1_export.n5\tr3_export.n5  r5_export.n5\n"
     ]
    }
   ],
   "source": [
    "!ls $p"
   ]
  },
  {
   "cell_type": "markdown",
   "id": "060aca49-8874-4f7c-8f00-91945062bea9",
   "metadata": {},
   "source": [
    "# raw"
   ]
  },
  {
   "cell_type": "code",
   "execution_count": 4,
   "id": "08dae79d-075b-4bd9-b12a-efb0389f2fd9",
   "metadata": {
    "tags": []
   },
   "outputs": [
    {
     "name": "stdout",
     "output_type": "stream",
     "text": [
      "750 0\n",
      "2860 0\n",
      "987 0\n",
      "521 0\n",
      "244 0\n",
      "477 0\n",
      "433 0\n",
      "563 0\n",
      "2924 0\n",
      "302 0\n",
      "2160 0\n",
      "2043 0\n",
      "3631 0\n",
      "9271 0\n",
      "1071 0\n",
      "3121 10\n",
      "5454 11\n",
      "7672 11\n",
      "41144 11\n",
      "1127 10\n",
      "14703 0\n",
      "4921 0\n",
      "14613 0\n",
      "21572 0\n",
      "1378 0\n"
     ]
    }
   ],
   "source": [
    "\n",
    "rounds = ['r1', 'r2', 'r3', 'r4', 'r5']\n",
    "for r in rounds:\n",
    "    path = p + f'/{r}_export.n5'\n",
    "    zarr_data = zarr.open(store=zarr.N5Store(path), mode='r')\n",
    "    for c in ['c0', 'c1', 'c2', 'c3', 'c4']:\n",
    "        img = zarr_data[f'/{c}/s4'] \n",
    "        print(np.max(img), np.min(img))\n",
    "        output = outdir+f'/{r}_{c}_s4.tiff'\n",
    "        print(output)\n",
    "        tifffile.imwrite(output, img)"
   ]
  },
  {
   "cell_type": "markdown",
   "id": "90ab38b1-9ee7-4faf-9255-52cb1684e015",
   "metadata": {},
   "source": [
    "# reg"
   ]
  },
  {
   "cell_type": "code",
   "execution_count": 5,
   "id": "7136a506-fe2b-4be8-88cc-589b6b43dd57",
   "metadata": {
    "tags": []
   },
   "outputs": [
    {
     "name": "stdout",
     "output_type": "stream",
     "text": [
      "/u/home/f/f7xiesnm/project-zipursky/easifish/results/viz_lt172/r1_c3_reg_s3d2x.tiff\n",
      "/u/home/f/f7xiesnm/project-zipursky/easifish/results/viz_lt172/r2_c3_reg_s3d2x.tiff\n",
      "/u/home/f/f7xiesnm/project-zipursky/easifish/results/viz_lt172/r4_c3_reg_s3d2x.tiff\n",
      "/u/home/f/f7xiesnm/project-zipursky/easifish/results/viz_lt172/r5_c3_reg_s3d2x.tiff\n"
     ]
    }
   ],
   "source": [
    "rounds = ['r1', 'r2', 'r4', 'r5']\n",
    "for r in rounds:\n",
    "    path = f'/u/home/f/f7xiesnm/project-zipursky/easifish/lt172/outputs/{r}/registration/{r}-to-r3/warped'\n",
    "    \n",
    "    zarr_data = zarr.open(store=zarr.N5Store(path), mode='r')\n",
    "    img = zarr_data[f'/c3_reg/s3'][::2,::2,::2] \n",
    "    output = outdir+f'/{r}_c3_reg_s3d2x.tiff'\n",
    "    print(output)\n",
    "    tifffile.imwrite(output, img)"
   ]
  },
  {
   "cell_type": "code",
   "execution_count": 7,
   "id": "9ccbca68-3696-4920-a6ff-1140e2a95086",
   "metadata": {
    "tags": []
   },
   "outputs": [],
   "source": []
  },
  {
   "cell_type": "code",
   "execution_count": null,
   "id": "81488a3f-b98e-4adf-b583-f7c854063cd4",
   "metadata": {},
   "outputs": [],
   "source": []
  }
 ],
 "metadata": {
  "kernelspec": {
   "display_name": "napari",
   "language": "python",
   "name": "napari"
  },
  "language_info": {
   "codemirror_mode": {
    "name": "ipython",
    "version": 3
   },
   "file_extension": ".py",
   "mimetype": "text/x-python",
   "name": "python",
   "nbconvert_exporter": "python",
   "pygments_lexer": "ipython3",
   "version": "3.9.16"
  }
 },
 "nbformat": 4,
 "nbformat_minor": 5
}
