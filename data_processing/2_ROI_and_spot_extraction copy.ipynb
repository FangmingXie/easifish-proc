{
 "cells": [
  {
   "cell_type": "markdown",
   "metadata": {},
   "source": [
    "### import packages"
   ]
  },
  {
   "cell_type": "code",
   "execution_count": 1,
   "metadata": {},
   "outputs": [],
   "source": [
    "import os, sys\n",
    "sys.path.append('..')\n",
    "import numpy as np\n",
    "import pandas as pd\n",
    "from glob import glob \n",
    "from skimage.io import imread, imsave\n",
    "from easi_fish import n5_metadata_utils as n5mu\n",
    "from easi_fish import roi_prop, spot, intensity"
   ]
  },
  {
   "cell_type": "markdown",
   "metadata": {},
   "source": [
    "### Specify directories to data files"
   ]
  },
  {
   "cell_type": "code",
   "execution_count": 2,
   "metadata": {},
   "outputs": [],
   "source": [
    "lb_dir = \"/LHA3_R3_medium/segmentation/LHA3_R3_medium-c2.tif\"\n",
    "bad_roi='/test/bad_roi_list.npy'\n",
    "spot_dir = '/test/LHA3_R3_medium/spots/'\n",
    "out_dir = '/test/LHA3_R3_medium/spots/'\n",
    "img_dir='/test/LHA3_R3_medium/stitching/export.n5'"
   ]
  },
  {
   "cell_type": "markdown",
   "metadata": {},
   "source": [
    "### Load segmentation mask"
   ]
  },
  {
   "cell_type": "code",
   "execution_count": 3,
   "metadata": {},
   "outputs": [
    {
     "name": "stdout",
     "output_type": "stream",
     "text": [
      "number of ROIs in total: 2113\n",
      "number of bad ROIs: 539\n"
     ]
    }
   ],
   "source": [
    "### Get list of ROIs that are fully or partially outside the mask \n",
    "### Make sure to only include ROIs that are intact and in the overlapping regions across all rounds of FISH\n",
    "lb=imread(lb_dir)\n",
    "roi = np.max(lb)\n",
    "print(\"number of ROIs in total:\",roi)\n",
    "\n",
    "bad_roi_list=np.load(bad_roi)\n",
    "print('number of bad ROIs:', len(bad_roi_list))"
   ]
  },
  {
   "cell_type": "markdown",
   "metadata": {},
   "source": [
    "### Extract ROI properties\n",
    "The roi_prop function exports the following: \n",
    "- ROI ID\n",
    "- position (x, y, z in um, pre-expansion)\n",
    "- size (volume, pre-expansion) \n",
    "- mionr_axis_length\n",
    "- major_axis_length\n",
    "- eccentricity =  mionr_axis_length/major_axis_length\n",
    "- solidity = ROI volume/ROI convex hull"
   ]
  },
  {
   "cell_type": "code",
   "execution_count": 4,
   "metadata": {},
   "outputs": [],
   "source": [
    "df=roi_prop.roi_prop(lb)"
   ]
  },
  {
   "cell_type": "markdown",
   "metadata": {},
   "source": [
    "### Remove bad ROIs and save the file"
   ]
  },
  {
   "cell_type": "code",
   "execution_count": 15,
   "metadata": {},
   "outputs": [],
   "source": [
    "df_filtered=df.loc[~df['roi'].isin(bad_roi_list)]\n",
    "df_filtered.roi=df_filtered.roi.astype(int)\n",
    "df_filtered.to_csv(out_dir+'roi.csv')"
   ]
  },
  {
   "cell_type": "markdown",
   "metadata": {},
   "source": [
    "### Lipofuscin subtraction (optional)"
   ]
  },
  {
   "cell_type": "code",
   "execution_count": 7,
   "metadata": {},
   "outputs": [],
   "source": [
    "# Load spot files for lipofuscin subtraction\n",
    "channel_1=np.loadtxt(spot_dir+'/'+'merged_points_c0.txt',delimiter=',')\n",
    "channel_2=np.loadtxt(spot_dir+'/'+'merged_points_c1.txt',delimiter=',')\n",
    "# Identify lipofuscin spots\n",
    "c0,c1,pAind,pBind=spot.rm_lipofuscin(channel_1,channel_2)\n",
    "# Remove lipofuscin spots\n",
    "true_pos_c0 = np.delete(channel_1, pAind, axis=0)\n",
    "true_pos_c1 = np.delete(channel_2, pBind, axis=0)"
   ]
  },
  {
   "cell_type": "markdown",
   "metadata": {},
   "source": [
    "### spot extraction and save file"
   ]
  },
  {
   "cell_type": "code",
   "execution_count": 10,
   "metadata": {
    "scrolled": true
   },
   "outputs": [
    {
     "name": "stdout",
     "output_type": "stream",
     "text": [
      "Load: /Volumes/multifish/Pipeline/test/LHA3_R3_medium/spots/merged_points_c0.txt\n",
      "Load: /Volumes/multifish/Pipeline/test/LHA3_R3_medium/spots/merged_points_c1.txt\n",
      "Load: /Volumes/multifish/Pipeline/test/LHA3_R3_medium/spots/merged_points_c3.txt\n"
     ]
    }
   ],
   "source": [
    "spotcount=spot.spot_counts(lb,spot_dir)\n",
    "spotcount.to_csv(out_dir+'/spots.csv')"
   ]
  },
  {
   "cell_type": "markdown",
   "metadata": {},
   "source": [
    "### Intensity measurement and save file"
   ]
  },
  {
   "cell_type": "code",
   "execution_count": 4,
   "metadata": {},
   "outputs": [],
   "source": [
    "df_intensity=intensity.measure_intensity(lb, img_dir,'c0')\n",
    "df_intensity.to_csv(out_dir+'/intennsity_c0.csv')"
   ]
  },
  {
   "cell_type": "code",
   "execution_count": 5,
   "metadata": {},
   "outputs": [
    {
     "data": {
      "text/html": [
       "<div>\n",
       "<style scoped>\n",
       "    .dataframe tbody tr th:only-of-type {\n",
       "        vertical-align: middle;\n",
       "    }\n",
       "\n",
       "    .dataframe tbody tr th {\n",
       "        vertical-align: top;\n",
       "    }\n",
       "\n",
       "    .dataframe thead th {\n",
       "        text-align: right;\n",
       "    }\n",
       "</style>\n",
       "<table border=\"1\" class=\"dataframe\">\n",
       "  <thead>\n",
       "    <tr style=\"text-align: right;\">\n",
       "      <th></th>\n",
       "      <th>roi</th>\n",
       "      <th>c0</th>\n",
       "    </tr>\n",
       "  </thead>\n",
       "  <tbody>\n",
       "    <tr>\n",
       "      <td>0</td>\n",
       "      <td>1</td>\n",
       "      <td>216.597071</td>\n",
       "    </tr>\n",
       "    <tr>\n",
       "      <td>1</td>\n",
       "      <td>2</td>\n",
       "      <td>213.015920</td>\n",
       "    </tr>\n",
       "    <tr>\n",
       "      <td>2</td>\n",
       "      <td>3</td>\n",
       "      <td>257.894697</td>\n",
       "    </tr>\n",
       "    <tr>\n",
       "      <td>3</td>\n",
       "      <td>4</td>\n",
       "      <td>218.268243</td>\n",
       "    </tr>\n",
       "    <tr>\n",
       "      <td>4</td>\n",
       "      <td>5</td>\n",
       "      <td>215.610488</td>\n",
       "    </tr>\n",
       "    <tr>\n",
       "      <td>...</td>\n",
       "      <td>...</td>\n",
       "      <td>...</td>\n",
       "    </tr>\n",
       "    <tr>\n",
       "      <td>2108</td>\n",
       "      <td>2109</td>\n",
       "      <td>215.273395</td>\n",
       "    </tr>\n",
       "    <tr>\n",
       "      <td>2109</td>\n",
       "      <td>2110</td>\n",
       "      <td>216.327219</td>\n",
       "    </tr>\n",
       "    <tr>\n",
       "      <td>2110</td>\n",
       "      <td>2111</td>\n",
       "      <td>214.096334</td>\n",
       "    </tr>\n",
       "    <tr>\n",
       "      <td>2111</td>\n",
       "      <td>2112</td>\n",
       "      <td>213.316004</td>\n",
       "    </tr>\n",
       "    <tr>\n",
       "      <td>2112</td>\n",
       "      <td>2113</td>\n",
       "      <td>213.702806</td>\n",
       "    </tr>\n",
       "  </tbody>\n",
       "</table>\n",
       "<p>2113 rows × 2 columns</p>\n",
       "</div>"
      ],
      "text/plain": [
       "       roi          c0\n",
       "0        1  216.597071\n",
       "1        2  213.015920\n",
       "2        3  257.894697\n",
       "3        4  218.268243\n",
       "4        5  215.610488\n",
       "...    ...         ...\n",
       "2108  2109  215.273395\n",
       "2109  2110  216.327219\n",
       "2110  2111  214.096334\n",
       "2111  2112  213.316004\n",
       "2112  2113  213.702806\n",
       "\n",
       "[2113 rows x 2 columns]"
      ]
     },
     "execution_count": 5,
     "metadata": {},
     "output_type": "execute_result"
    }
   ],
   "source": [
    "df_intensity"
   ]
  },
  {
   "cell_type": "code",
   "execution_count": null,
   "metadata": {},
   "outputs": [],
   "source": []
  }
 ],
 "metadata": {
  "kernelspec": {
   "display_name": "Python 3 (ipykernel)",
   "language": "python",
   "name": "python3"
  },
  "language_info": {
   "codemirror_mode": {
    "name": "ipython",
    "version": 3
   },
   "file_extension": ".py",
   "mimetype": "text/x-python",
   "name": "python",
   "nbconvert_exporter": "python",
   "pygments_lexer": "ipython3",
   "version": "3.9.12"
  }
 },
 "nbformat": 4,
 "nbformat_minor": 2
}
