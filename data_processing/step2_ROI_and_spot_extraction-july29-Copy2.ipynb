{
 "cells": [
  {
   "cell_type": "markdown",
   "metadata": {},
   "source": [
    "### import packages"
   ]
  },
  {
   "cell_type": "code",
   "execution_count": 1,
   "metadata": {},
   "outputs": [],
   "source": [
    "import os, sys\n",
    "sys.path.append('..')\n",
    "import numpy as np\n",
    "import pandas as pd\n",
    "from glob import glob \n",
    "from skimage.io import imread, imsave\n",
    "from easi_fish import n5_metadata_utils as n5mu\n",
    "from easi_fish import roi_prop, spot, intensity"
   ]
  },
  {
   "cell_type": "markdown",
   "metadata": {},
   "source": [
    "### Specify directories to data files"
   ]
  },
  {
   "cell_type": "code",
   "execution_count": 2,
   "metadata": {},
   "outputs": [
    {
     "name": "stdout",
     "output_type": "stream",
     "text": [
      "D:\\SWAP\\Vincent\\lt171_FlpO\\gene_new_4tile\\outputs\\r1\\registration\\lt171_gene_4tile_r1-to-lt171_gene_4tile_r2\\warped\\testout-july29\\bad_roi_list.npy\n",
      "D:\\SWAP\\Vincent\\lt171_FlpO\\gene_new_4tile\\outputs\\r2\\spots\n"
     ]
    }
   ],
   "source": [
    "r1_dir = \"D:\\\\SWAP\\\\Vincent\\\\lt171_FlpO\\\\gene_new_4tile\\\\outputs\\\\r1\\\\\"\n",
    "r2_dir = \"D:\\\\SWAP\\\\Vincent\\\\lt171_FlpO\\\\gene_new_4tile\\\\outputs\\\\r2\\\\\"\n",
    "\n",
    "# lb_dir = \"/LHA3_R3_medium/segmentation/LHA3_R3_medium-c2.tif\"\n",
    "# bad_roi='/test/bad_roi_list.npy'\n",
    "# spot_dir = '/test/LHA3_R3_medium/spots/'\n",
    "# out_dir = '/test/LHA3_R3_medium/spots/'\n",
    "# img_dir='/test/LHA3_R3_medium/stitching/export.n5'\n",
    "\n",
    "\n",
    "fix_dir = \"D:\\\\SWAP\\\\Vincent\\\\lt171_FlpO\\\\gene_new_4tile\\\\outputs\\\\r2\\\\export_sigma3.n5\"\n",
    "reg_dir = \"D:\\\\SWAP\\\\Vincent\\\\lt171_FlpO\\\\gene_new_4tile\\\\outputs\\\\r1\\\\registration\\\\lt171_gene_4tile_r1-to-lt171_gene_4tile_r2\\\\warped\"  # directory to the registered image\n",
    "out_dir = \"D:\\\\SWAP\\\\Vincent\\\\lt171_FlpO\\\\gene_new_4tile\\\\outputs\\\\r1\\\\registration\\\\lt171_gene_4tile_r1-to-lt171_gene_4tile_r2\\\\warped\\\\testout-july29\"  # where the output files should be saved \n",
    "lb_dir  = \"D:\\\\SWAP\\\\Vincent\\\\lt171_FlpO\\\\gene_new_4tile\\\\outputs\\\\r2\\\\segmentation\\\\lt171_gene_4tile_r2-c3.tif\"  # directory to the segmentation mask (tif format accepted here)\n",
    "\n",
    "bad_roi = os.path.join(out_dir, \"bad_roi_list.npy\")\n",
    "spot_dir = os.path.join(r2_dir, \"spots\")\n",
    "out_dir = spot_dir\n",
    "img_dir = fix_dir\n",
    "\n",
    "print(bad_roi)\n",
    "print(spot_dir)"
   ]
  },
  {
   "cell_type": "markdown",
   "metadata": {},
   "source": [
    "### Load segmentation mask"
   ]
  },
  {
   "cell_type": "code",
   "execution_count": 3,
   "metadata": {},
   "outputs": [
    {
     "name": "stdout",
     "output_type": "stream",
     "text": [
      "number of ROIs in total: 13758\n",
      "number of bad ROIs: 892\n",
      "CPU times: total: 17.2 s\n",
      "Wall time: 6.58 s\n"
     ]
    }
   ],
   "source": [
    "%%time\n",
    "### Get list of ROIs that are fully or partially outside the mask \n",
    "### Make sure to only include ROIs that are intact and in the overlapping regions across all rounds of FISH\n",
    "lb=imread(lb_dir)\n",
    "roi = np.max(lb)\n",
    "print(\"number of ROIs in total:\",roi)\n",
    "\n",
    "bad_roi_list=np.load(bad_roi)\n",
    "print('number of bad ROIs:', len(bad_roi_list))"
   ]
  },
  {
   "cell_type": "markdown",
   "metadata": {},
   "source": [
    "### Extract ROI properties\n",
    "The roi_prop function exports the following: \n",
    "- ROI ID\n",
    "- position (x, y, z in um, pre-expansion)\n",
    "- size (volume, pre-expansion) \n",
    "- mionr_axis_length\n",
    "- major_axis_length\n",
    "- eccentricity =  mionr_axis_length/major_axis_length\n",
    "- solidity = ROI volume/ROI convex hull"
   ]
  },
  {
   "cell_type": "code",
   "execution_count": 10,
   "metadata": {},
   "outputs": [
    {
     "data": {
      "text/plain": [
       "(1019, 915, 916)"
      ]
     },
     "execution_count": 10,
     "metadata": {},
     "output_type": "execute_result"
    }
   ],
   "source": [
    "lb.shape"
   ]
  },
  {
   "cell_type": "code",
   "execution_count": 11,
   "metadata": {},
   "outputs": [
    {
     "data": {
      "text/plain": [
       "array([[[0, 0, 0],\n",
       "        [0, 0, 0],\n",
       "        [0, 0, 0]],\n",
       "\n",
       "       [[0, 0, 0],\n",
       "        [0, 0, 0],\n",
       "        [0, 0, 0]],\n",
       "\n",
       "       [[0, 0, 0],\n",
       "        [0, 0, 0],\n",
       "        [0, 0, 0]]], dtype=int32)"
      ]
     },
     "execution_count": 11,
     "metadata": {},
     "output_type": "execute_result"
    }
   ],
   "source": []
  },
  {
   "cell_type": "code",
   "execution_count": 12,
   "metadata": {},
   "outputs": [
    {
     "name": "stdout",
     "output_type": "stream",
     "text": [
      "CPU times: total: 10h 34min 18s\n",
      "Wall time: 32min 42s\n"
     ]
    }
   ],
   "source": [
    "%%time\n",
    "df=roi_prop.roi_prop(lb)"
   ]
  },
  {
   "cell_type": "markdown",
   "metadata": {},
   "source": [
    "### Remove bad ROIs and save the file"
   ]
  },
  {
   "cell_type": "code",
   "execution_count": 13,
   "metadata": {},
   "outputs": [
    {
     "name": "stderr",
     "output_type": "stream",
     "text": [
      "<timed exec>:2: SettingWithCopyWarning: \n",
      "A value is trying to be set on a copy of a slice from a DataFrame.\n",
      "Try using .loc[row_indexer,col_indexer] = value instead\n",
      "\n",
      "See the caveats in the documentation: https://pandas.pydata.org/pandas-docs/stable/user_guide/indexing.html#returning-a-view-versus-a-copy\n"
     ]
    },
    {
     "name": "stdout",
     "output_type": "stream",
     "text": [
      "CPU times: total: 1.14 s\n",
      "Wall time: 1.15 s\n"
     ]
    }
   ],
   "source": [
    "%%time\n",
    "df_filtered=df.loc[~df['roi'].isin(bad_roi_list)]\n",
    "df_filtered.roi=df_filtered.roi.astype(int)\n",
    "df_filtered.to_csv(out_dir+'roi.csv')"
   ]
  },
  {
   "cell_type": "markdown",
   "metadata": {},
   "source": [
    "### Lipofuscin subtraction (optional)"
   ]
  },
  {
   "cell_type": "code",
   "execution_count": 19,
   "metadata": {},
   "outputs": [
    {
     "name": "stdout",
     "output_type": "stream",
     "text": [
      "CPU times: total: 3.73 s\n",
      "Wall time: 3.72 s\n"
     ]
    }
   ],
   "source": [
    "%%time\n",
    "# Load spot files for lipofuscin subtraction\n",
    "channel_1=np.loadtxt(os.path.join(spot_dir, 'spots_c0.txt'), delimiter=',')\n",
    "channel_2=np.loadtxt(os.path.join(spot_dir, 'spots_c1.txt'), delimiter=',')\n",
    "# Identify lipofuscin spots\n",
    "c0,c1,pAind,pBind=spot.rm_lipofuscin(channel_1,channel_2)\n",
    "# Remove lipofuscin spots\n",
    "true_pos_c0 = np.delete(channel_1, pAind, axis=0)\n",
    "true_pos_c1 = np.delete(channel_2, pBind, axis=0)\n",
    "\n",
    "# %%time\n",
    "# # Load spot files for lipofuscin subtraction\n",
    "# channel_1=np.loadtxt(spot_dir+'/'+'merged_points_c0.txt',delimiter=',')\n",
    "# channel_2=np.loadtxt(spot_dir+'/'+'merged_points_c1.txt',delimiter=',')\n",
    "# # Identify lipofuscin spots\n",
    "# c0,c1,pAind,pBind=spot.rm_lipofuscin(channel_1,channel_2)\n",
    "# # Remove lipofuscin spots\n",
    "# true_pos_c0 = np.delete(channel_1, pAind, axis=0)\n",
    "# true_pos_c1 = np.delete(channel_2, pBind, axis=0)"
   ]
  },
  {
   "cell_type": "markdown",
   "metadata": {},
   "source": [
    "### spot extraction and save file"
   ]
  },
  {
   "cell_type": "code",
   "execution_count": 20,
   "metadata": {
    "scrolled": true
   },
   "outputs": [
    {
     "name": "stdout",
     "output_type": "stream",
     "text": [
      "Load: D:\\SWAP\\Vincent\\lt171_FlpO\\gene_new_4tile\\outputs\\r2\\spots\\spots_c0.txt\n",
      "Load: D:\\SWAP\\Vincent\\lt171_FlpO\\gene_new_4tile\\outputs\\r2\\spots\\spots_c1.txt\n",
      "Load: D:\\SWAP\\Vincent\\lt171_FlpO\\gene_new_4tile\\outputs\\r2\\spots\\spots_c2.txt\n",
      "Load: D:\\SWAP\\Vincent\\lt171_FlpO\\gene_new_4tile\\outputs\\r2\\spots\\spots_c4.txt\n",
      "CPU times: total: 1min 4s\n",
      "Wall time: 1min 4s\n"
     ]
    }
   ],
   "source": [
    "%%time\n",
    "spotcount=spot.spot_counts(lb,spot_dir)\n",
    "spotcount.to_csv(out_dir+'/spots.csv')"
   ]
  },
  {
   "cell_type": "markdown",
   "metadata": {},
   "source": [
    "### Intensity measurement and save file"
   ]
  },
  {
   "cell_type": "code",
   "execution_count": 21,
   "metadata": {},
   "outputs": [
    {
     "name": "stdout",
     "output_type": "stream",
     "text": [
      "CPU times: total: 31.1 s\n",
      "Wall time: 31.3 s\n"
     ]
    }
   ],
   "source": [
    "%%time\n",
    "df_intensity=intensity.measure_intensity(lb, img_dir,'c0')\n",
    "df_intensity.to_csv(out_dir+'/intennsity_c0.csv')"
   ]
  },
  {
   "cell_type": "code",
   "execution_count": 22,
   "metadata": {},
   "outputs": [
    {
     "data": {
      "text/html": [
       "<div>\n",
       "<style scoped>\n",
       "    .dataframe tbody tr th:only-of-type {\n",
       "        vertical-align: middle;\n",
       "    }\n",
       "\n",
       "    .dataframe tbody tr th {\n",
       "        vertical-align: top;\n",
       "    }\n",
       "\n",
       "    .dataframe thead th {\n",
       "        text-align: right;\n",
       "    }\n",
       "</style>\n",
       "<table border=\"1\" class=\"dataframe\">\n",
       "  <thead>\n",
       "    <tr style=\"text-align: right;\">\n",
       "      <th></th>\n",
       "      <th>roi</th>\n",
       "      <th>c0</th>\n",
       "    </tr>\n",
       "  </thead>\n",
       "  <tbody>\n",
       "    <tr>\n",
       "      <th>0</th>\n",
       "      <td>1</td>\n",
       "      <td>237.725932</td>\n",
       "    </tr>\n",
       "    <tr>\n",
       "      <th>1</th>\n",
       "      <td>2</td>\n",
       "      <td>92.013229</td>\n",
       "    </tr>\n",
       "    <tr>\n",
       "      <th>2</th>\n",
       "      <td>3</td>\n",
       "      <td>92.587272</td>\n",
       "    </tr>\n",
       "    <tr>\n",
       "      <th>3</th>\n",
       "      <td>4</td>\n",
       "      <td>91.877853</td>\n",
       "    </tr>\n",
       "    <tr>\n",
       "      <th>4</th>\n",
       "      <td>5</td>\n",
       "      <td>92.523482</td>\n",
       "    </tr>\n",
       "    <tr>\n",
       "      <th>...</th>\n",
       "      <td>...</td>\n",
       "      <td>...</td>\n",
       "    </tr>\n",
       "    <tr>\n",
       "      <th>13753</th>\n",
       "      <td>13754</td>\n",
       "      <td>91.712826</td>\n",
       "    </tr>\n",
       "    <tr>\n",
       "      <th>13754</th>\n",
       "      <td>13755</td>\n",
       "      <td>91.752961</td>\n",
       "    </tr>\n",
       "    <tr>\n",
       "      <th>13755</th>\n",
       "      <td>13756</td>\n",
       "      <td>91.721380</td>\n",
       "    </tr>\n",
       "    <tr>\n",
       "      <th>13756</th>\n",
       "      <td>13757</td>\n",
       "      <td>91.947368</td>\n",
       "    </tr>\n",
       "    <tr>\n",
       "      <th>13757</th>\n",
       "      <td>13758</td>\n",
       "      <td>92.244485</td>\n",
       "    </tr>\n",
       "  </tbody>\n",
       "</table>\n",
       "<p>13758 rows × 2 columns</p>\n",
       "</div>"
      ],
      "text/plain": [
       "         roi          c0\n",
       "0          1  237.725932\n",
       "1          2   92.013229\n",
       "2          3   92.587272\n",
       "3          4   91.877853\n",
       "4          5   92.523482\n",
       "...      ...         ...\n",
       "13753  13754   91.712826\n",
       "13754  13755   91.752961\n",
       "13755  13756   91.721380\n",
       "13756  13757   91.947368\n",
       "13757  13758   92.244485\n",
       "\n",
       "[13758 rows x 2 columns]"
      ]
     },
     "execution_count": 22,
     "metadata": {},
     "output_type": "execute_result"
    }
   ],
   "source": [
    "df_intensity"
   ]
  },
  {
   "cell_type": "code",
   "execution_count": null,
   "metadata": {},
   "outputs": [],
   "source": []
  },
  {
   "cell_type": "code",
   "execution_count": null,
   "metadata": {},
   "outputs": [],
   "source": []
  },
  {
   "cell_type": "code",
   "execution_count": null,
   "metadata": {},
   "outputs": [],
   "source": []
  }
 ],
 "metadata": {
  "kernelspec": {
   "display_name": "Python 3 (ipykernel)",
   "language": "python",
   "name": "python3"
  },
  "language_info": {
   "codemirror_mode": {
    "name": "ipython",
    "version": 3
   },
   "file_extension": ".py",
   "mimetype": "text/x-python",
   "name": "python",
   "nbconvert_exporter": "python",
   "pygments_lexer": "ipython3",
   "version": "3.9.12"
  }
 },
 "nbformat": 4,
 "nbformat_minor": 2
}
