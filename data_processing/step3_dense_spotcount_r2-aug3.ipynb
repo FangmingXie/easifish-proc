{
 "cells": [
  {
   "cell_type": "code",
   "execution_count": 1,
   "id": "93d50a93",
   "metadata": {},
   "outputs": [],
   "source": [
    "\"\"\"\n",
    "Spot counts for cells with highly expressed genes (dense spots)\n",
    "1. Measure total intensity of every ROI after bleed-through correction and background subtraction.\n",
    "2. Calculate the number of spot from total intensity based on unitary spot fluorescence intensity\n",
    "3. Correlate the number of spots (from air-localize) with the total fluorescence intensity/voxel in each ROI and determine a 'cutoff'. \n",
    "   Spot count > cutoff: use spot count converted based on total fluorescence intensity; \n",
    "   Spot count < cutoff: use spot count from Airlocalize\n",
    "\"\"\"\n",
    "\n",
    "import os, sys,z5py\n",
    "import numpy as np\n",
    "import pandas as pd\n",
    "from glob import glob \n",
    "from skimage.measure import regionprops\n",
    "from skimage.io import imread, imsave\n",
    "from os.path import abspath, dirname\n",
    "from scipy import stats\n",
    "from scipy.stats import skewnorm,lognorm\n",
    "from scipy.optimize import minimize"
   ]
  },
  {
   "cell_type": "code",
   "execution_count": 2,
   "id": "332b8d19",
   "metadata": {},
   "outputs": [],
   "source": [
    "### Specify directories to data files\n",
    "input_dir = \"D:\\\\SWAP\\\\Vincent\\\\lt171_FlpO\\\\gene_new_4tile\\\\outputs\"\n",
    "\n",
    "spot_dir = os.path.join(input_dir, \"r2\\\\spots\")\n",
    "spotcount_csv = os.path.join(spot_dir, 'spots_r2.csv')\n",
    "roi_csv = os.path.join(spot_dir, 'roi.csv')\n",
    "genename_csv = os.path.join(input_dir, 'GeneName.csv')\n",
    "intensity_dir = os.path.join(input_dir, 'r2\\\\intensities')\n",
    "### end input\n",
    "\n",
    "### outputs\n",
    "out_csv = os.path.join(spot_dir, 'spotcount_dense_spot_corrected.csv')"
   ]
  },
  {
   "cell_type": "code",
   "execution_count": 3,
   "id": "a708baa3",
   "metadata": {},
   "outputs": [
    {
     "name": "stdout",
     "output_type": "stream",
     "text": [
      "(62, 4) (58, 9)\n"
     ]
    },
    {
     "data": {
      "text/html": [
       "<div>\n",
       "<style scoped>\n",
       "    .dataframe tbody tr th:only-of-type {\n",
       "        vertical-align: middle;\n",
       "    }\n",
       "\n",
       "    .dataframe tbody tr th {\n",
       "        vertical-align: top;\n",
       "    }\n",
       "\n",
       "    .dataframe thead th {\n",
       "        text-align: right;\n",
       "    }\n",
       "</style>\n",
       "<table border=\"1\" class=\"dataframe\">\n",
       "  <thead>\n",
       "    <tr style=\"text-align: right;\">\n",
       "      <th></th>\n",
       "      <th>r2</th>\n",
       "    </tr>\n",
       "  </thead>\n",
       "  <tbody>\n",
       "    <tr>\n",
       "      <th>spots_c0</th>\n",
       "      <td>Kcnip3</td>\n",
       "    </tr>\n",
       "    <tr>\n",
       "      <th>spots_c1</th>\n",
       "      <td>Rorb</td>\n",
       "    </tr>\n",
       "    <tr>\n",
       "      <th>spots_c2</th>\n",
       "      <td>Cdh13</td>\n",
       "    </tr>\n",
       "    <tr>\n",
       "      <th>spots_c4</th>\n",
       "      <td>Cntn5</td>\n",
       "    </tr>\n",
       "  </tbody>\n",
       "</table>\n",
       "</div>"
      ],
      "text/plain": [
       "              r2\n",
       "spots_c0  Kcnip3\n",
       "spots_c1    Rorb\n",
       "spots_c2   Cdh13\n",
       "spots_c4   Cntn5"
      ]
     },
     "execution_count": 3,
     "metadata": {},
     "output_type": "execute_result"
    }
   ],
   "source": [
    "spotcount=pd.read_csv(spotcount_csv, sep=',', index_col=0)\n",
    "roi=pd.read_csv(roi_csv, sep=',', index_col=0)\n",
    "GeneName=pd.read_csv(genename_csv, sep=',', index_col=0)[['r2']]\n",
    "GeneName.index = np.char.add('spots_', GeneName.index)\n",
    "\n",
    "print(spotcount.shape, roi.shape)\n",
    "GeneName"
   ]
  },
  {
   "cell_type": "code",
   "execution_count": 4,
   "id": "09a37747",
   "metadata": {},
   "outputs": [
    {
     "name": "stdout",
     "output_type": "stream",
     "text": [
      "spots_c0\n",
      "spots_c1\n",
      "spots_c2\n",
      "spots_c4\n"
     ]
    }
   ],
   "source": [
    "### Identify unitary spot fluorescence intensity for every gene\n",
    "fx=sorted(glob(os.path.join(spot_dir, '*.txt')))\n",
    "for f in fx:\n",
    "    r=os.path.basename(f).split('.')[0]\n",
    "    print(r)\n",
    "    spot=np.loadtxt(f, delimiter=',')\n",
    "    vox=[0.92,0.92,0.84]\n",
    "    spot[:,:3]=spot[:,:3]/vox  # convert from physical unit to pixel unit\n",
    "    for i in range(2):\n",
    "        spot=spot[np.logical_and(spot[:,i]<=1500,spot[:,i]>250)]\n",
    "    spot=spot[np.logical_and(spot[:,2]<=650,spot[:,2]>150)]   ##remove spots on edges (eliminate false detection)\n",
    "    spot_int= spot[:,3]\n",
    "    spot_int=spot_int[spot_int!=-8.0]\n",
    "    n,b=np.histogram(spot_int, bins=5000)\n",
    "    GeneName.loc['%s' % (r), 'single_spot_intensity']=b[np.argwhere(n == n.max())][0][0] \n",
    "    \n",
    "    ##Note that the histogram maximum is used as an estimate for single spot intensity. We also tried fitting the data to a skewed normal (or log-normal) distribution and then estimate the peak (see below).  \n",
    "#     ae, loce, scalee = skewnorm.fit(spot_int)\n",
    "#     def skew_fit(n):\n",
    "#         return -skewnorm.pdf(n, ae, loce, scalee)\n",
    "#     GeneName.loc['%s' % (r), 'single_spot_intensity']=minimize(skew_fit,0,method='Powell').x\n"
   ]
  },
  {
   "cell_type": "code",
   "execution_count": 5,
   "id": "aa18edbd",
   "metadata": {},
   "outputs": [
    {
     "data": {
      "text/html": [
       "<div>\n",
       "<style scoped>\n",
       "    .dataframe tbody tr th:only-of-type {\n",
       "        vertical-align: middle;\n",
       "    }\n",
       "\n",
       "    .dataframe tbody tr th {\n",
       "        vertical-align: top;\n",
       "    }\n",
       "\n",
       "    .dataframe thead th {\n",
       "        text-align: right;\n",
       "    }\n",
       "</style>\n",
       "<table border=\"1\" class=\"dataframe\">\n",
       "  <thead>\n",
       "    <tr style=\"text-align: right;\">\n",
       "      <th></th>\n",
       "      <th>r2</th>\n",
       "      <th>single_spot_intensity</th>\n",
       "    </tr>\n",
       "  </thead>\n",
       "  <tbody>\n",
       "    <tr>\n",
       "      <th>spots_c0</th>\n",
       "      <td>Kcnip3</td>\n",
       "      <td>134.172289</td>\n",
       "    </tr>\n",
       "    <tr>\n",
       "      <th>spots_c1</th>\n",
       "      <td>Rorb</td>\n",
       "      <td>135.834766</td>\n",
       "    </tr>\n",
       "    <tr>\n",
       "      <th>spots_c2</th>\n",
       "      <td>Cdh13</td>\n",
       "      <td>132.043173</td>\n",
       "    </tr>\n",
       "    <tr>\n",
       "      <th>spots_c4</th>\n",
       "      <td>Cntn5</td>\n",
       "      <td>131.390024</td>\n",
       "    </tr>\n",
       "  </tbody>\n",
       "</table>\n",
       "</div>"
      ],
      "text/plain": [
       "              r2  single_spot_intensity\n",
       "spots_c0  Kcnip3             134.172289\n",
       "spots_c1    Rorb             135.834766\n",
       "spots_c2   Cdh13             132.043173\n",
       "spots_c4   Cntn5             131.390024"
      ]
     },
     "execution_count": 5,
     "metadata": {},
     "output_type": "execute_result"
    }
   ],
   "source": [
    "GeneName"
   ]
  },
  {
   "cell_type": "code",
   "execution_count": 6,
   "id": "e134b222",
   "metadata": {
    "scrolled": true
   },
   "outputs": [
    {
     "name": "stdout",
     "output_type": "stream",
     "text": [
      "lt171_gene_4tile_r2_c0_intensity.csv\n",
      "spots c0\n",
      "lt171_gene_4tile_r2_c1_intensity.csv\n",
      "spots c1\n",
      "lt171_gene_4tile_r2_c2_intensity.csv\n",
      "spots c2\n",
      "lt171_gene_4tile_r2_c4_intensity.csv\n",
      "spots c4\n"
     ]
    }
   ],
   "source": [
    "# df_mean is mean_fluorescence_intensity (after background subtraction) \n",
    "# df_total is total_fluorescence_intensity (after subtracting background)\n",
    "# df_count is spot count calculated from total fluorescence intensity\n",
    "\n",
    "df_mean = pd.DataFrame(data=np.empty([len(roi),0]), index=roi.index, dtype=float)\n",
    "df_total = pd.DataFrame(data=np.empty([len(roi),0]), index=roi.index, dtype=float)\n",
    "df_count = pd.DataFrame(data=np.empty([len(roi),0]), index=roi.index, dtype=float)\n",
    "\n",
    "# over all channels and rounds\n",
    "for c in ['c0', 'c1', 'c2', 'c4']: # channels\n",
    "    fx=sorted(glob(os.path.join(intensity_dir, f\"*_{c}_intensity.csv\"))) # all rounds for that channel\n",
    "    for f in fx:\n",
    "        print(os.path.basename(f))\n",
    "        r = 'spots' # rounds \n",
    "        print(r, c)\n",
    "        # break\n",
    "        cell_int=pd.read_csv(f,sep=',', index_col=0)\n",
    "        cell_int=cell_int[cell_int.index.isin(roi.index)]  ## only include intact ROIs###\n",
    "        n,b=np.histogram(cell_int['mean_intensity'], bins=1000) ## Idenfity background###\n",
    "        bg=b[np.argwhere(n == n.max())][0][0]                   ## Idenfity background###\n",
    "        \n",
    "        df_mean['%s_%s' % (r,c)]=np.maximum(0,cell_int['mean_intensity']-bg)\n",
    "        df_total['%s_%s' % (r,c)]=np.maximum(0,(cell_int['mean_intensity']-bg))*roi['area']\n",
    "        df_count['%s_%s' % (r,c)]=df_total['%s_%s' % (r,c)]/GeneName.loc['%s_%s' % (r,c), 'single_spot_intensity']\n",
    "\n",
    "# proc and save\n",
    "df_cutoff = spotcount.copy()\n",
    "for i in df_count.columns:\n",
    "    density=spotcount[i]/(roi['area']*2*2*2/(0.92*0.92*0.84)) # convert um^3 to voxel values\n",
    "    for j in density[density>0.01].index:  ##this threshold corresponds to spot-spot distance ~1.3 um apart\n",
    "        df_cutoff.loc[j,i]=df_count.loc[j,i].copy()\n",
    "        \n",
    "df_cutoff.to_csv(out_csv)"
   ]
  },
  {
   "cell_type": "code",
   "execution_count": null,
   "id": "e8244b84",
   "metadata": {},
   "outputs": [],
   "source": []
  },
  {
   "cell_type": "code",
   "execution_count": null,
   "id": "237511ab",
   "metadata": {},
   "outputs": [],
   "source": []
  }
 ],
 "metadata": {
  "kernelspec": {
   "display_name": "Python 3 (ipykernel)",
   "language": "python",
   "name": "python3"
  },
  "language_info": {
   "codemirror_mode": {
    "name": "ipython",
    "version": 3
   },
   "file_extension": ".py",
   "mimetype": "text/x-python",
   "name": "python",
   "nbconvert_exporter": "python",
   "pygments_lexer": "ipython3",
   "version": "3.9.12"
  }
 },
 "nbformat": 4,
 "nbformat_minor": 5
}
