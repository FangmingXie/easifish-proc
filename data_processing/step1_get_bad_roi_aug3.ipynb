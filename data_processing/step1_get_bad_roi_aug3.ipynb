{
 "cells": [
  {
   "cell_type": "code",
   "execution_count": 1,
   "id": "d51bd323",
   "metadata": {},
   "outputs": [],
   "source": [
    "import os, sys, zarr\n",
    "sys.path.append('..')\n",
    "import numpy as np\n",
    "import pandas as pd\n",
    "from glob import glob \n",
    "from skimage.io import imread, imsave\n",
    "from os.path import abspath, dirname\n",
    "from easi_fish import n5_metadata_utils as n5mu\n",
    "import warnings\n",
    "warnings.filterwarnings('ignore')"
   ]
  },
  {
   "cell_type": "code",
   "execution_count": 2,
   "id": "cbe93f1e",
   "metadata": {},
   "outputs": [],
   "source": [
    "## input\n",
    "input_dir = \"D:\\\\SWAP\\\\Vincent\\\\lt171_FlpO\\\\gene_new_4tile\\\\outputs\"\n",
    "# fixed image (directory - n5 format)\n",
    "fix_dir = os.path.join(input_dir, \"r2\\\\export_sigma3.n5\")\n",
    "# get appropriate image data within fix_dir\n",
    "subpath='\\\\c3\\\\s2'\n",
    "\n",
    "# registered image (directory - n5 format)\n",
    "reg_dir = os.path.join(input_dir, \"r1\\\\registration\\\\lt171_gene_4tile_r1-to-lt171_gene_4tile_r2\\\\warped\")  \n",
    "\n",
    "# segmentation mask (tif format accepted here)\n",
    "lb_dir  = os.path.join(input_dir, \"r2\\\\segmentation\\\\lt171_gene_4tile_r2-c3.tif\" ) \n",
    "\n",
    "# output directory\n",
    "out_dir = os.path.join(input_dir, \"test-aug4\")  \n",
    "## end input\n",
    "\n",
    "## output\n",
    "out_mask = os.path.join(out_dir, 'mask.tif')\n",
    "out_badroi = os.path.join(out_dir, 'bad_roi_list.npy') "
   ]
  },
  {
   "cell_type": "code",
   "execution_count": 3,
   "id": "d3dc2c37",
   "metadata": {},
   "outputs": [
    {
     "name": "stdout",
     "output_type": "stream",
     "text": [
      "voxel size is: [0.92 0.92 0.84]\n",
      "image size in pixel unit is: [ 916  915 1019]\n",
      "image size in um unit is: [842.72003 841.8     855.95996]\n",
      "loading images...\n",
      "all images loaded\n",
      "D:\\SWAP\\Vincent\\lt171_FlpO\\gene_new_4tile\\outputs\\test-aug4\n",
      "mask generated\n",
      "mask dimension is: (1019, 915, 916)\n",
      "13758\n",
      "# of ROIs rejected: 892\n",
      "CPU times: total: 48.1 s\n",
      "Wall time: 39.7 s\n"
     ]
    }
   ],
   "source": [
    "%%time\n",
    "#voxel size in µm (x, y, z) (post-expansion)\n",
    "vox= n5mu.read_voxel_spacing(fix_dir, subpath)\n",
    "#image size in pixel (x, y, z)\n",
    "grid=n5mu.read_voxel_grid(fix_dir, subpath)\n",
    "#image size in physical space (x, y, z) (post-expansion)\n",
    "size=grid*vox\n",
    "print('voxel size is:',vox)\n",
    "print('image size in pixel unit is:',grid)\n",
    "print('image size in um unit is:',size)\n",
    "\n",
    "# get appropriate image data\n",
    "print(\"loading images...\")\n",
    "fix = zarr.open(store=zarr.N5Store(fix_dir), mode='r')     \n",
    "img1 = fix[subpath][:, :, :]\n",
    "\n",
    "reg = zarr.open(store=zarr.N5Store(reg_dir), mode='r')     \n",
    "img2 = reg[subpath][:, :, :]\n",
    "print(\"all images loaded\")\n",
    "\n",
    "if not os.path.isdir(out_dir):\n",
    "    print(out_dir)\n",
    "    os.mkdir(out_dir)\n",
    "\n",
    "mask=np.full((grid[2], grid[1], grid[0]),1)\n",
    "mask[img2==0]=0\n",
    "imsave(out_mask, mask)\n",
    "print(\"mask generated\")\n",
    "print(\"mask dimension is:\", mask.shape)\n",
    "\n",
    "lb=imread(lb_dir)\n",
    "roi = np.max(lb)\n",
    "print(roi)\n",
    "\n",
    "# # Get list of ROIs that are fully or partially outside the mask \n",
    "bad_roi=np.unique(lb[mask==0])\n",
    "np.save(out_badroi, bad_roi)\n",
    "print(\"# of ROIs rejected:\", len(bad_roi))"
   ]
  },
  {
   "cell_type": "code",
   "execution_count": null,
   "id": "76521278",
   "metadata": {},
   "outputs": [],
   "source": []
  }
 ],
 "metadata": {
  "kernelspec": {
   "display_name": "Python 3 (ipykernel)",
   "language": "python",
   "name": "python3"
  },
  "language_info": {
   "codemirror_mode": {
    "name": "ipython",
    "version": 3
   },
   "file_extension": ".py",
   "mimetype": "text/x-python",
   "name": "python",
   "nbconvert_exporter": "python",
   "pygments_lexer": "ipython3",
   "version": "3.9.12"
  }
 },
 "nbformat": 4,
 "nbformat_minor": 5
}
