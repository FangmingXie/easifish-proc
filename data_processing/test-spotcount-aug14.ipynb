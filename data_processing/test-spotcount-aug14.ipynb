{
 "cells": [
  {
   "cell_type": "code",
   "execution_count": 1,
   "id": "b3becb0f",
   "metadata": {},
   "outputs": [
    {
     "data": {
      "text/plain": [
       "\"\\nSpot counts for cells with highly expressed genes (dense spots)\\n1. Measure total intensity of every ROI after bleed-through correction and background subtraction.\\n2. Calculate the number of spot from total intensity based on unit-spot intensity\\n3. Correlate the number of spots (from air-localize) with the total fluorescence intensity/voxel in each ROI and determine a 'cutoff'. \\n   Spot count > cutoff: use spot count converted based on total fluorescence intensity; \\n   Spot count < cutoff: use spot count from Airlocalize\\n\""
      ]
     },
     "execution_count": 1,
     "metadata": {},
     "output_type": "execute_result"
    }
   ],
   "source": [
    "import os, sys\n",
    "sys.path.append('..')\n",
    "from os.path import abspath, dirname\n",
    "import zarr\n",
    "import z5py\n",
    "import numpy as np\n",
    "import pandas as pd\n",
    "from glob import glob \n",
    "from skimage.measure import regionprops\n",
    "from skimage.io import imread, imsave\n",
    "from scipy import stats\n",
    "from scipy.stats import skewnorm, lognorm\n",
    "from scipy.optimize import minimize\n",
    "import itertools\n",
    "import seaborn as sns\n",
    "\n",
    "from easi_fish import n5_metadata_utils as n5mu\n",
    "from easi_fish import roi_prop, spot, intensity\n",
    "import warnings\n",
    "warnings.filterwarnings('ignore')\n",
    "\n",
    "import importlib\n",
    "importlib.reload(spot)\n",
    "importlib.reload(roi_prop)\n",
    "importlib.reload(intensity)\n",
    "\n",
    "\"\"\"\n",
    "Spot counts for cells with highly expressed genes (dense spots)\n",
    "1. Measure total intensity of every ROI after bleed-through correction and background subtraction.\n",
    "2. Calculate the number of spot from total intensity based on unit-spot intensity\n",
    "3. Correlate the number of spots (from air-localize) with the total fluorescence intensity/voxel in each ROI and determine a 'cutoff'. \n",
    "   Spot count > cutoff: use spot count converted based on total fluorescence intensity; \n",
    "   Spot count < cutoff: use spot count from Airlocalize\n",
    "\"\"\""
   ]
  },
  {
   "cell_type": "code",
   "execution_count": 2,
   "id": "d3d89d9a",
   "metadata": {},
   "outputs": [],
   "source": [
    "## input\n",
    "input_dir = \"D:\\\\SWAP\\\\Vincent\\\\lt171_FlpO\\\\gene_new_4tile\\\\outputs\"\n",
    "output_dir = os.path.join(input_dir, \"testfull-aug9\")  \n",
    "\n",
    "# fixed image (directory - n5 format)\n",
    "fix_dir = os.path.join(input_dir, \"r2\\\\export_sigma3.n5\")\n",
    "# get appropriate image data within fix_dir\n",
    "subpath='\\\\c3\\\\s2'\n",
    "\n",
    "# registered image (directory - n5 format)\n",
    "reg_dir = os.path.join(input_dir, \"r1\\\\registration\\\\lt171_gene_4tile_r1-to-lt171_gene_4tile_r2\\\\warped\")  \n",
    "\n",
    "# segmentation mask (tif format accepted here)\n",
    "lb_dir  = os.path.join(input_dir, \"r2\\\\segmentation\\\\lt171_gene_4tile_r2-c3.tif\" ) \n",
    "\n",
    "# spot dir \n",
    "spot_dir = os.path.join(input_dir, \"spots_pooled\") # pool spots together; warpped and fixed\n",
    "intn_dir = os.path.join(input_dir, \"intensities_pooled\") # pool spots together; warpped and fixed\n",
    "# for every gene\n",
    "rounds = ['r1', 'r2']\n",
    "channels = ['c0', 'c1', 'c2', 'c4']\n",
    "# r1 should be the wrappped one\n",
    "fx_spots = [os.path.join(spot_dir, f'spots_{r}_{c}.txt') \n",
    "                 for r, c in itertools.product(rounds, channels)]\n",
    "fx_intns = [os.path.join(intn_dir, f'{r}_{c}_intensity.csv') \n",
    "                 for r, c in itertools.product(rounds, channels)]\n",
    "\n",
    "for f in fx_spots:\n",
    "    assert os.path.isfile(f)\n",
    "for f in fx_intns:\n",
    "    assert os.path.isfile(f)\n",
    "\n",
    "## output\n",
    "out_mask = os.path.join(output_dir, 'mask.tif')\n",
    "out_badroi = os.path.join(output_dir, 'bad_roi_list.npy')\n",
    "out_allroi = os.path.join(output_dir, \"roi_all.csv\") \n",
    "out_roi = os.path.join(output_dir, \"roi.csv\") \n",
    "out_spots = os.path.join(output_dir, \"spotcount.csv\")\n",
    "out_spots_intn = os.path.join(output_dir, \"spotcount_intn.csv\")\n",
    "# out_intensity = os.path.join(output_dir, \"intensity_c0_r2.csv\")\n",
    "out_spots_merged = os.path.join(output_dir, 'spotcount_merged.csv')"
   ]
  },
  {
   "cell_type": "code",
   "execution_count": 3,
   "id": "698b1837",
   "metadata": {},
   "outputs": [
    {
     "name": "stdout",
     "output_type": "stream",
     "text": [
      "(1019, 915, 916)\n",
      "13758\n"
     ]
    }
   ],
   "source": [
    "lb=imread(lb_dir)\n",
    "print(lb.shape)\n",
    "roi = np.max(lb)\n",
    "print(roi)"
   ]
  },
  {
   "cell_type": "code",
   "execution_count": 4,
   "id": "15ff5d10-2c77-4a86-a42f-189dfdb1b345",
   "metadata": {},
   "outputs": [
    {
     "name": "stdout",
     "output_type": "stream",
     "text": [
      "(93393, 4)\n"
     ]
    },
    {
     "data": {
      "text/plain": [
       "array([[281.28497314,  64.55128479, -17.65543175, 242.22160339],\n",
       "       [281.57122803,  62.67300797, -18.89440727, 172.60420227],\n",
       "       [279.77487183,  61.80595779, -17.15635681, 148.51489258],\n",
       "       ...,\n",
       "       [360.24765015, 772.38494873, 836.57147217, 148.8513031 ],\n",
       "       [281.8661499 , 790.39556885, 833.40368652, 193.94610596],\n",
       "       [ 26.90949821, 806.92486572, 843.36090088, 129.95170593]])"
      ]
     },
     "execution_count": 4,
     "metadata": {},
     "output_type": "execute_result"
    }
   ],
   "source": [
    "spots = np.loadtxt(fx_spots[0], delimiter=',')\n",
    "print(spots.shape)\n",
    "spots"
   ]
  },
  {
   "cell_type": "markdown",
   "id": "57e6bd9a-7b64-4b7c-b36c-f5fb0f198d03",
   "metadata": {},
   "source": [
    "# check spots range"
   ]
  },
  {
   "cell_type": "code",
   "execution_count": 8,
   "id": "d947ed4b-d081-4d2a-bcd8-cccc170ddaae",
   "metadata": {},
   "outputs": [
    {
     "name": "stdout",
     "output_type": "stream",
     "text": [
      "-81907.7578125 2327.73876953125\n",
      "-4202.1796875 290801.21875\n",
      "-38.324989318847656 483186.875\n"
     ]
    }
   ],
   "source": [
    "print(np.nanmin(spots[:,0]), np.nanmax(spots[:,0]))\n",
    "print(np.nanmin(spots[:,1]), np.nanmax(spots[:,1]))\n",
    "print(np.nanmin(spots[:,2]), np.nanmax(spots[:,2]))"
   ]
  },
  {
   "cell_type": "code",
   "execution_count": 9,
   "id": "6bbde193-3934-4e70-b21e-69b29987826f",
   "metadata": {},
   "outputs": [
    {
     "data": {
      "text/plain": [
       "<AxesSubplot:>"
      ]
     },
     "execution_count": 9,
     "metadata": {},
     "output_type": "execute_result"
    },
    {
     "data": {
      "image/png": "[encoded data removed]",
      "text/plain": [
       "<Figure size 432x288 with 1 Axes>"
      ]
     },
     "metadata": {
      "needs_background": "light"
     },
     "output_type": "display_data"
    }
   ],
   "source": [
    "sns.boxplot(data=spots[:,:3])"
   ]
  },
  {
   "cell_type": "code",
   "execution_count": 10,
   "id": "3d10c7de-05cf-4e0b-98bf-99ebedf1f2c2",
   "metadata": {},
   "outputs": [
    {
     "data": {
      "text/plain": [
       "<AxesSubplot:>"
      ]
     },
     "execution_count": 10,
     "metadata": {},
     "output_type": "execute_result"
    },
    {
     "data": {
      "image/png": "[encoded data removed]",
      "text/plain": [
       "<Figure size 432x288 with 1 Axes>"
      ]
     },
     "metadata": {
      "needs_background": "light"
     },
     "output_type": "display_data"
    }
   ],
   "source": [
    "sns.boxplot(data=spots[:,:3], showfliers=False)"
   ]
  },
  {
   "cell_type": "code",
   "execution_count": 11,
   "id": "50574d90-b1b5-420a-b4f7-28ead22a9b01",
   "metadata": {},
   "outputs": [
    {
     "data": {
      "text/plain": [
       "<AxesSubplot:>"
      ]
     },
     "execution_count": 11,
     "metadata": {},
     "output_type": "execute_result"
    },
    {
     "data": {
      "image/png": "[encoded data removed]",
      "text/plain": [
       "<Figure size 432x288 with 1 Axes>"
      ]
     },
     "metadata": {
      "needs_background": "light"
     },
     "output_type": "display_data"
    }
   ],
   "source": [
    "sns.violinplot(data=spots[:,:3], showfliers=False)"
   ]
  },
  {
   "cell_type": "markdown",
   "id": "92197894-48fc-402f-89ee-50293f510583",
   "metadata": {},
   "source": [
    "# test one channel"
   ]
  },
  {
   "cell_type": "code",
   "execution_count": 12,
   "id": "63654261",
   "metadata": {},
   "outputs": [
    {
     "name": "stdout",
     "output_type": "stream",
     "text": [
      "NaN found in line# 79374\n",
      "CPU times: total: 19.3 s\n",
      "Wall time: 19.3 s\n"
     ]
    }
   ],
   "source": [
    "%%time\n",
    "importlib.reload(spot)\n",
    "spotcount = spot.spot_counts(lb, spots, verbose=False)\n",
    "res0 = spotcount['spot count'] #.values"
   ]
  },
  {
   "cell_type": "code",
   "execution_count": 13,
   "id": "701b4b1c-7d0d-4823-9e6e-b2d6fccd4ee3",
   "metadata": {},
   "outputs": [
    {
     "name": "stdout",
     "output_type": "stream",
     "text": [
      "removed 1 due to nan\n",
      "91,005/93,393 spots in range (916, 915, 1019)\n",
      "CPU times: total: 8.72 s\n",
      "Wall time: 8.73 s\n"
     ]
    }
   ],
   "source": [
    "%%time\n",
    "importlib.reload(spot)\n",
    "res = spot.spot_counts_worker(lb, spots)"
   ]
  },
  {
   "cell_type": "code",
   "execution_count": 14,
   "id": "82a4dcf4-2a9b-4fc7-ad19-e92a7bf4b396",
   "metadata": {},
   "outputs": [
    {
     "data": {
      "text/plain": [
       "(7454     0.0\n",
       " 8906     0.0\n",
       " 9336     0.0\n",
       " 10719    0.0\n",
       " 11334    0.0\n",
       " dtype: float64,\n",
       " 7454     1.0\n",
       " 8906     1.0\n",
       " 9336     1.0\n",
       " 10719    1.0\n",
       " 11334    2.0\n",
       " Name: spot count, dtype: float64)"
      ]
     },
     "execution_count": 14,
     "metadata": {},
     "output_type": "execute_result"
    }
   ],
   "source": [
    "cond = (res == res0)\n",
    "res[~cond], res0[~cond]"
   ]
  },
  {
   "cell_type": "code",
   "execution_count": 15,
   "id": "57af7f43-1e44-4799-a47f-a4408e096ee2",
   "metadata": {},
   "outputs": [
    {
     "data": {
      "text/html": [
       "<div>\n",
       "<style scoped>\n",
       "    .dataframe tbody tr th:only-of-type {\n",
       "        vertical-align: middle;\n",
       "    }\n",
       "\n",
       "    .dataframe tbody tr th {\n",
       "        vertical-align: top;\n",
       "    }\n",
       "\n",
       "    .dataframe thead th {\n",
       "        text-align: right;\n",
       "    }\n",
       "</style>\n",
       "<table border=\"1\" class=\"dataframe\">\n",
       "  <thead>\n",
       "    <tr style=\"text-align: right;\">\n",
       "      <th></th>\n",
       "      <th>Unnamed: 0</th>\n",
       "      <th>z</th>\n",
       "      <th>y</th>\n",
       "      <th>x</th>\n",
       "      <th>area</th>\n",
       "    </tr>\n",
       "    <tr>\n",
       "      <th>roi</th>\n",
       "      <th></th>\n",
       "      <th></th>\n",
       "      <th></th>\n",
       "      <th></th>\n",
       "      <th></th>\n",
       "    </tr>\n",
       "  </thead>\n",
       "  <tbody>\n",
       "    <tr>\n",
       "      <th>7454</th>\n",
       "      <td>7453</td>\n",
       "      <td>69.460319</td>\n",
       "      <td>322.778655</td>\n",
       "      <td>415.310720</td>\n",
       "      <td>1233.276744</td>\n",
       "    </tr>\n",
       "    <tr>\n",
       "      <th>8906</th>\n",
       "      <td>8905</td>\n",
       "      <td>16.707577</td>\n",
       "      <td>279.754103</td>\n",
       "      <td>417.413428</td>\n",
       "      <td>1535.885904</td>\n",
       "    </tr>\n",
       "    <tr>\n",
       "      <th>9336</th>\n",
       "      <td>9335</td>\n",
       "      <td>337.870954</td>\n",
       "      <td>234.278024</td>\n",
       "      <td>418.240753</td>\n",
       "      <td>680.048544</td>\n",
       "    </tr>\n",
       "    <tr>\n",
       "      <th>10719</th>\n",
       "      <td>10718</td>\n",
       "      <td>43.885966</td>\n",
       "      <td>114.280862</td>\n",
       "      <td>418.014097</td>\n",
       "      <td>869.879136</td>\n",
       "    </tr>\n",
       "    <tr>\n",
       "      <th>11334</th>\n",
       "      <td>11333</td>\n",
       "      <td>311.270627</td>\n",
       "      <td>246.029241</td>\n",
       "      <td>417.782138</td>\n",
       "      <td>592.776240</td>\n",
       "    </tr>\n",
       "  </tbody>\n",
       "</table>\n",
       "</div>"
      ],
      "text/plain": [
       "       Unnamed: 0           z           y           x         area\n",
       "roi                                                               \n",
       "7454         7453   69.460319  322.778655  415.310720  1233.276744\n",
       "8906         8905   16.707577  279.754103  417.413428  1535.885904\n",
       "9336         9335  337.870954  234.278024  418.240753   680.048544\n",
       "10719       10718   43.885966  114.280862  418.014097   869.879136\n",
       "11334       11333  311.270627  246.029241  417.782138   592.776240"
      ]
     },
     "execution_count": 15,
     "metadata": {},
     "output_type": "execute_result"
    }
   ],
   "source": [
    "# discrepany only happens at the edge\n",
    "allroi = pd.read_csv(out_allroi).set_index('roi')\n",
    "allroi.loc[~cond]"
   ]
  },
  {
   "cell_type": "markdown",
   "id": "a20f3cec-0a63-4eb1-bb65-b42844713ec1",
   "metadata": {},
   "source": [
    "# test all channels\n",
    "- only differences are on the edge"
   ]
  },
  {
   "cell_type": "code",
   "execution_count": 16,
   "id": "b34fb502-e906-441d-a932-de0caeab3ee0",
   "metadata": {},
   "outputs": [
    {
     "name": "stdout",
     "output_type": "stream",
     "text": [
      "Load: D:\\SWAP\\Vincent\\lt171_FlpO\\gene_new_4tile\\outputs\\spots_pooled\\spots_r1_c0.txt\n",
      "removed 1 due to nan\n",
      "91,005/93,393 spots in range (916, 915, 1019)\n",
      "Load: D:\\SWAP\\Vincent\\lt171_FlpO\\gene_new_4tile\\outputs\\spots_pooled\\spots_r1_c1.txt\n",
      "removed 7 due to nan\n",
      "315,425/327,944 spots in range (916, 915, 1019)\n",
      "Load: D:\\SWAP\\Vincent\\lt171_FlpO\\gene_new_4tile\\outputs\\spots_pooled\\spots_r1_c2.txt\n",
      "removed 0 due to nan\n",
      "36,062/36,786 spots in range (916, 915, 1019)\n",
      "Load: D:\\SWAP\\Vincent\\lt171_FlpO\\gene_new_4tile\\outputs\\spots_pooled\\spots_r1_c4.txt\n",
      "removed 1 due to nan\n",
      "34,949/36,009 spots in range (916, 915, 1019)\n",
      "Load: D:\\SWAP\\Vincent\\lt171_FlpO\\gene_new_4tile\\outputs\\spots_pooled\\spots_r2_c0.txt\n",
      "removed 0 due to nan\n",
      "93,378/93,393 spots in range (916, 915, 1019)\n",
      "Load: D:\\SWAP\\Vincent\\lt171_FlpO\\gene_new_4tile\\outputs\\spots_pooled\\spots_r2_c1.txt\n",
      "removed 0 due to nan\n",
      "327,929/327,944 spots in range (916, 915, 1019)\n",
      "Load: D:\\SWAP\\Vincent\\lt171_FlpO\\gene_new_4tile\\outputs\\spots_pooled\\spots_r2_c2.txt\n",
      "removed 0 due to nan\n",
      "36,778/36,786 spots in range (916, 915, 1019)\n",
      "Load: D:\\SWAP\\Vincent\\lt171_FlpO\\gene_new_4tile\\outputs\\spots_pooled\\spots_r2_c4.txt\n",
      "removed 0 due to nan\n",
      "36,004/36,009 spots in range (916, 915, 1019)\n",
      "CPU times: total: 15.1 s\n",
      "Wall time: 15.1 s\n"
     ]
    }
   ],
   "source": [
    "%%time\n",
    "# apply to all channels\n",
    "importlib.reload(spot)\n",
    "resall = spot.spot_counts_v2(lb, spot_dir, s=[0.92,0.92,0.84], verbose=True)"
   ]
  },
  {
   "cell_type": "code",
   "execution_count": 17,
   "id": "d1026a5e-3ea1-4775-9fb0-d5f7ca7d641d",
   "metadata": {},
   "outputs": [
    {
     "data": {
      "text/html": [
       "<div>\n",
       "<style scoped>\n",
       "    .dataframe tbody tr th:only-of-type {\n",
       "        vertical-align: middle;\n",
       "    }\n",
       "\n",
       "    .dataframe tbody tr th {\n",
       "        vertical-align: top;\n",
       "    }\n",
       "\n",
       "    .dataframe thead th {\n",
       "        text-align: right;\n",
       "    }\n",
       "</style>\n",
       "<table border=\"1\" class=\"dataframe\">\n",
       "  <thead>\n",
       "    <tr style=\"text-align: right;\">\n",
       "      <th></th>\n",
       "      <th>spots_r1_c0</th>\n",
       "      <th>spots_r1_c1</th>\n",
       "      <th>spots_r1_c2</th>\n",
       "      <th>spots_r1_c4</th>\n",
       "      <th>spots_r2_c0</th>\n",
       "      <th>spots_r2_c1</th>\n",
       "      <th>spots_r2_c2</th>\n",
       "      <th>spots_r2_c4</th>\n",
       "    </tr>\n",
       "  </thead>\n",
       "  <tbody>\n",
       "    <tr>\n",
       "      <th>1</th>\n",
       "      <td>34.0</td>\n",
       "      <td>46.0</td>\n",
       "      <td>37.0</td>\n",
       "      <td>25.0</td>\n",
       "      <td>0.0</td>\n",
       "      <td>1.0</td>\n",
       "      <td>0.0</td>\n",
       "      <td>0.0</td>\n",
       "    </tr>\n",
       "    <tr>\n",
       "      <th>2</th>\n",
       "      <td>4.0</td>\n",
       "      <td>13.0</td>\n",
       "      <td>0.0</td>\n",
       "      <td>0.0</td>\n",
       "      <td>0.0</td>\n",
       "      <td>2.0</td>\n",
       "      <td>2.0</td>\n",
       "      <td>1.0</td>\n",
       "    </tr>\n",
       "    <tr>\n",
       "      <th>3</th>\n",
       "      <td>5.0</td>\n",
       "      <td>20.0</td>\n",
       "      <td>0.0</td>\n",
       "      <td>1.0</td>\n",
       "      <td>2.0</td>\n",
       "      <td>5.0</td>\n",
       "      <td>0.0</td>\n",
       "      <td>0.0</td>\n",
       "    </tr>\n",
       "    <tr>\n",
       "      <th>4</th>\n",
       "      <td>3.0</td>\n",
       "      <td>14.0</td>\n",
       "      <td>0.0</td>\n",
       "      <td>2.0</td>\n",
       "      <td>0.0</td>\n",
       "      <td>4.0</td>\n",
       "      <td>0.0</td>\n",
       "      <td>1.0</td>\n",
       "    </tr>\n",
       "    <tr>\n",
       "      <th>5</th>\n",
       "      <td>5.0</td>\n",
       "      <td>23.0</td>\n",
       "      <td>0.0</td>\n",
       "      <td>4.0</td>\n",
       "      <td>14.0</td>\n",
       "      <td>12.0</td>\n",
       "      <td>0.0</td>\n",
       "      <td>2.0</td>\n",
       "    </tr>\n",
       "    <tr>\n",
       "      <th>...</th>\n",
       "      <td>...</td>\n",
       "      <td>...</td>\n",
       "      <td>...</td>\n",
       "      <td>...</td>\n",
       "      <td>...</td>\n",
       "      <td>...</td>\n",
       "      <td>...</td>\n",
       "      <td>...</td>\n",
       "    </tr>\n",
       "    <tr>\n",
       "      <th>13754</th>\n",
       "      <td>0.0</td>\n",
       "      <td>0.0</td>\n",
       "      <td>0.0</td>\n",
       "      <td>0.0</td>\n",
       "      <td>0.0</td>\n",
       "      <td>0.0</td>\n",
       "      <td>0.0</td>\n",
       "      <td>0.0</td>\n",
       "    </tr>\n",
       "    <tr>\n",
       "      <th>13755</th>\n",
       "      <td>0.0</td>\n",
       "      <td>2.0</td>\n",
       "      <td>0.0</td>\n",
       "      <td>1.0</td>\n",
       "      <td>0.0</td>\n",
       "      <td>2.0</td>\n",
       "      <td>0.0</td>\n",
       "      <td>0.0</td>\n",
       "    </tr>\n",
       "    <tr>\n",
       "      <th>13756</th>\n",
       "      <td>0.0</td>\n",
       "      <td>0.0</td>\n",
       "      <td>0.0</td>\n",
       "      <td>1.0</td>\n",
       "      <td>3.0</td>\n",
       "      <td>4.0</td>\n",
       "      <td>0.0</td>\n",
       "      <td>0.0</td>\n",
       "    </tr>\n",
       "    <tr>\n",
       "      <th>13757</th>\n",
       "      <td>0.0</td>\n",
       "      <td>0.0</td>\n",
       "      <td>0.0</td>\n",
       "      <td>2.0</td>\n",
       "      <td>0.0</td>\n",
       "      <td>0.0</td>\n",
       "      <td>0.0</td>\n",
       "      <td>0.0</td>\n",
       "    </tr>\n",
       "    <tr>\n",
       "      <th>13758</th>\n",
       "      <td>1.0</td>\n",
       "      <td>2.0</td>\n",
       "      <td>0.0</td>\n",
       "      <td>0.0</td>\n",
       "      <td>0.0</td>\n",
       "      <td>0.0</td>\n",
       "      <td>0.0</td>\n",
       "      <td>0.0</td>\n",
       "    </tr>\n",
       "  </tbody>\n",
       "</table>\n",
       "<p>13758 rows × 8 columns</p>\n",
       "</div>"
      ],
      "text/plain": [
       "       spots_r1_c0  spots_r1_c1  spots_r1_c2  spots_r1_c4  spots_r2_c0  \\\n",
       "1             34.0         46.0         37.0         25.0          0.0   \n",
       "2              4.0         13.0          0.0          0.0          0.0   \n",
       "3              5.0         20.0          0.0          1.0          2.0   \n",
       "4              3.0         14.0          0.0          2.0          0.0   \n",
       "5              5.0         23.0          0.0          4.0         14.0   \n",
       "...            ...          ...          ...          ...          ...   \n",
       "13754          0.0          0.0          0.0          0.0          0.0   \n",
       "13755          0.0          2.0          0.0          1.0          0.0   \n",
       "13756          0.0          0.0          0.0          1.0          3.0   \n",
       "13757          0.0          0.0          0.0          2.0          0.0   \n",
       "13758          1.0          2.0          0.0          0.0          0.0   \n",
       "\n",
       "       spots_r2_c1  spots_r2_c2  spots_r2_c4  \n",
       "1              1.0          0.0          0.0  \n",
       "2              2.0          2.0          1.0  \n",
       "3              5.0          0.0          0.0  \n",
       "4              4.0          0.0          1.0  \n",
       "5             12.0          0.0          2.0  \n",
       "...            ...          ...          ...  \n",
       "13754          0.0          0.0          0.0  \n",
       "13755          2.0          0.0          0.0  \n",
       "13756          4.0          0.0          0.0  \n",
       "13757          0.0          0.0          0.0  \n",
       "13758          0.0          0.0          0.0  \n",
       "\n",
       "[13758 rows x 8 columns]"
      ]
     },
     "execution_count": 17,
     "metadata": {},
     "output_type": "execute_result"
    }
   ],
   "source": [
    "resall"
   ]
  },
  {
   "cell_type": "code",
   "execution_count": 18,
   "id": "d31c3d7c-2ca1-4c7a-8fc7-5d3c505c0918",
   "metadata": {},
   "outputs": [
    {
     "name": "stdout",
     "output_type": "stream",
     "text": [
      "Load: D:\\SWAP\\Vincent\\lt171_FlpO\\gene_new_4tile\\outputs\\spots_pooled\\spots_r1_c0.txt\n",
      "NaN found in D:\\SWAP\\Vincent\\lt171_FlpO\\gene_new_4tile\\outputs\\spots_pooled\\spots_r1_c0.txt line# 79374\n",
      "Load: D:\\SWAP\\Vincent\\lt171_FlpO\\gene_new_4tile\\outputs\\spots_pooled\\spots_r1_c1.txt\n",
      "NaN found in D:\\SWAP\\Vincent\\lt171_FlpO\\gene_new_4tile\\outputs\\spots_pooled\\spots_r1_c1.txt line# 59548\n",
      "NaN found in D:\\SWAP\\Vincent\\lt171_FlpO\\gene_new_4tile\\outputs\\spots_pooled\\spots_r1_c1.txt line# 293582\n",
      "NaN found in D:\\SWAP\\Vincent\\lt171_FlpO\\gene_new_4tile\\outputs\\spots_pooled\\spots_r1_c1.txt line# 313383\n",
      "NaN found in D:\\SWAP\\Vincent\\lt171_FlpO\\gene_new_4tile\\outputs\\spots_pooled\\spots_r1_c1.txt line# 320791\n",
      "NaN found in D:\\SWAP\\Vincent\\lt171_FlpO\\gene_new_4tile\\outputs\\spots_pooled\\spots_r1_c1.txt line# 321804\n",
      "NaN found in D:\\SWAP\\Vincent\\lt171_FlpO\\gene_new_4tile\\outputs\\spots_pooled\\spots_r1_c1.txt line# 323138\n",
      "NaN found in D:\\SWAP\\Vincent\\lt171_FlpO\\gene_new_4tile\\outputs\\spots_pooled\\spots_r1_c1.txt line# 323808\n",
      "Load: D:\\SWAP\\Vincent\\lt171_FlpO\\gene_new_4tile\\outputs\\spots_pooled\\spots_r1_c2.txt\n",
      "Load: D:\\SWAP\\Vincent\\lt171_FlpO\\gene_new_4tile\\outputs\\spots_pooled\\spots_r1_c4.txt\n",
      "NaN found in D:\\SWAP\\Vincent\\lt171_FlpO\\gene_new_4tile\\outputs\\spots_pooled\\spots_r1_c4.txt line# 27933\n",
      "Load: D:\\SWAP\\Vincent\\lt171_FlpO\\gene_new_4tile\\outputs\\spots_pooled\\spots_r2_c0.txt\n",
      "Load: D:\\SWAP\\Vincent\\lt171_FlpO\\gene_new_4tile\\outputs\\spots_pooled\\spots_r2_c1.txt\n",
      "Load: D:\\SWAP\\Vincent\\lt171_FlpO\\gene_new_4tile\\outputs\\spots_pooled\\spots_r2_c2.txt\n",
      "Load: D:\\SWAP\\Vincent\\lt171_FlpO\\gene_new_4tile\\outputs\\spots_pooled\\spots_r2_c4.txt\n",
      "CPU times: total: 1min 42s\n",
      "Wall time: 1min 42s\n"
     ]
    }
   ],
   "source": [
    "%%time\n",
    "# apply to all channels\n",
    "importlib.reload(spot)\n",
    "resallv0 = spot.spot_counts(lb, spot_dir, s=[0.92,0.92,0.84], verbose=False)"
   ]
  },
  {
   "cell_type": "code",
   "execution_count": 19,
   "id": "012ec295-562a-45a7-b1c7-92c04a217f81",
   "metadata": {},
   "outputs": [
    {
     "data": {
      "text/html": [
       "<div>\n",
       "<style scoped>\n",
       "    .dataframe tbody tr th:only-of-type {\n",
       "        vertical-align: middle;\n",
       "    }\n",
       "\n",
       "    .dataframe tbody tr th {\n",
       "        vertical-align: top;\n",
       "    }\n",
       "\n",
       "    .dataframe thead th {\n",
       "        text-align: right;\n",
       "    }\n",
       "</style>\n",
       "<table border=\"1\" class=\"dataframe\">\n",
       "  <thead>\n",
       "    <tr style=\"text-align: right;\">\n",
       "      <th></th>\n",
       "      <th>spots_r1_c0</th>\n",
       "      <th>spots_r1_c1</th>\n",
       "      <th>spots_r1_c2</th>\n",
       "      <th>spots_r1_c4</th>\n",
       "      <th>spots_r2_c0</th>\n",
       "      <th>spots_r2_c1</th>\n",
       "      <th>spots_r2_c2</th>\n",
       "      <th>spots_r2_c4</th>\n",
       "    </tr>\n",
       "  </thead>\n",
       "  <tbody>\n",
       "    <tr>\n",
       "      <th>1</th>\n",
       "      <td>34.0</td>\n",
       "      <td>46.0</td>\n",
       "      <td>37.0</td>\n",
       "      <td>25.0</td>\n",
       "      <td>0.0</td>\n",
       "      <td>1.0</td>\n",
       "      <td>0.0</td>\n",
       "      <td>0.0</td>\n",
       "    </tr>\n",
       "    <tr>\n",
       "      <th>2</th>\n",
       "      <td>4.0</td>\n",
       "      <td>13.0</td>\n",
       "      <td>0.0</td>\n",
       "      <td>0.0</td>\n",
       "      <td>0.0</td>\n",
       "      <td>2.0</td>\n",
       "      <td>2.0</td>\n",
       "      <td>1.0</td>\n",
       "    </tr>\n",
       "    <tr>\n",
       "      <th>3</th>\n",
       "      <td>5.0</td>\n",
       "      <td>20.0</td>\n",
       "      <td>0.0</td>\n",
       "      <td>1.0</td>\n",
       "      <td>2.0</td>\n",
       "      <td>5.0</td>\n",
       "      <td>0.0</td>\n",
       "      <td>0.0</td>\n",
       "    </tr>\n",
       "    <tr>\n",
       "      <th>4</th>\n",
       "      <td>3.0</td>\n",
       "      <td>14.0</td>\n",
       "      <td>0.0</td>\n",
       "      <td>2.0</td>\n",
       "      <td>0.0</td>\n",
       "      <td>4.0</td>\n",
       "      <td>0.0</td>\n",
       "      <td>1.0</td>\n",
       "    </tr>\n",
       "    <tr>\n",
       "      <th>5</th>\n",
       "      <td>5.0</td>\n",
       "      <td>23.0</td>\n",
       "      <td>0.0</td>\n",
       "      <td>4.0</td>\n",
       "      <td>14.0</td>\n",
       "      <td>12.0</td>\n",
       "      <td>0.0</td>\n",
       "      <td>2.0</td>\n",
       "    </tr>\n",
       "    <tr>\n",
       "      <th>...</th>\n",
       "      <td>...</td>\n",
       "      <td>...</td>\n",
       "      <td>...</td>\n",
       "      <td>...</td>\n",
       "      <td>...</td>\n",
       "      <td>...</td>\n",
       "      <td>...</td>\n",
       "      <td>...</td>\n",
       "    </tr>\n",
       "    <tr>\n",
       "      <th>13754</th>\n",
       "      <td>0.0</td>\n",
       "      <td>0.0</td>\n",
       "      <td>0.0</td>\n",
       "      <td>0.0</td>\n",
       "      <td>0.0</td>\n",
       "      <td>0.0</td>\n",
       "      <td>0.0</td>\n",
       "      <td>0.0</td>\n",
       "    </tr>\n",
       "    <tr>\n",
       "      <th>13755</th>\n",
       "      <td>0.0</td>\n",
       "      <td>2.0</td>\n",
       "      <td>0.0</td>\n",
       "      <td>1.0</td>\n",
       "      <td>0.0</td>\n",
       "      <td>2.0</td>\n",
       "      <td>0.0</td>\n",
       "      <td>0.0</td>\n",
       "    </tr>\n",
       "    <tr>\n",
       "      <th>13756</th>\n",
       "      <td>0.0</td>\n",
       "      <td>0.0</td>\n",
       "      <td>0.0</td>\n",
       "      <td>1.0</td>\n",
       "      <td>3.0</td>\n",
       "      <td>4.0</td>\n",
       "      <td>0.0</td>\n",
       "      <td>0.0</td>\n",
       "    </tr>\n",
       "    <tr>\n",
       "      <th>13757</th>\n",
       "      <td>0.0</td>\n",
       "      <td>0.0</td>\n",
       "      <td>0.0</td>\n",
       "      <td>2.0</td>\n",
       "      <td>0.0</td>\n",
       "      <td>0.0</td>\n",
       "      <td>0.0</td>\n",
       "      <td>0.0</td>\n",
       "    </tr>\n",
       "    <tr>\n",
       "      <th>13758</th>\n",
       "      <td>1.0</td>\n",
       "      <td>2.0</td>\n",
       "      <td>0.0</td>\n",
       "      <td>0.0</td>\n",
       "      <td>0.0</td>\n",
       "      <td>0.0</td>\n",
       "      <td>0.0</td>\n",
       "      <td>0.0</td>\n",
       "    </tr>\n",
       "  </tbody>\n",
       "</table>\n",
       "<p>13758 rows × 8 columns</p>\n",
       "</div>"
      ],
      "text/plain": [
       "       spots_r1_c0  spots_r1_c1  spots_r1_c2  spots_r1_c4  spots_r2_c0  \\\n",
       "1             34.0         46.0         37.0         25.0          0.0   \n",
       "2              4.0         13.0          0.0          0.0          0.0   \n",
       "3              5.0         20.0          0.0          1.0          2.0   \n",
       "4              3.0         14.0          0.0          2.0          0.0   \n",
       "5              5.0         23.0          0.0          4.0         14.0   \n",
       "...            ...          ...          ...          ...          ...   \n",
       "13754          0.0          0.0          0.0          0.0          0.0   \n",
       "13755          0.0          2.0          0.0          1.0          0.0   \n",
       "13756          0.0          0.0          0.0          1.0          3.0   \n",
       "13757          0.0          0.0          0.0          2.0          0.0   \n",
       "13758          1.0          2.0          0.0          0.0          0.0   \n",
       "\n",
       "       spots_r2_c1  spots_r2_c2  spots_r2_c4  \n",
       "1              1.0          0.0          0.0  \n",
       "2              2.0          2.0          1.0  \n",
       "3              5.0          0.0          0.0  \n",
       "4              4.0          0.0          1.0  \n",
       "5             12.0          0.0          2.0  \n",
       "...            ...          ...          ...  \n",
       "13754          0.0          0.0          0.0  \n",
       "13755          2.0          0.0          0.0  \n",
       "13756          4.0          0.0          0.0  \n",
       "13757          0.0          0.0          0.0  \n",
       "13758          0.0          0.0          0.0  \n",
       "\n",
       "[13758 rows x 8 columns]"
      ]
     },
     "execution_count": 19,
     "metadata": {},
     "output_type": "execute_result"
    }
   ],
   "source": [
    "resallv0"
   ]
  },
  {
   "cell_type": "code",
   "execution_count": 20,
   "id": "70b7db77-8418-4384-a79a-d1876bd164c1",
   "metadata": {},
   "outputs": [
    {
     "data": {
      "text/plain": [
       "spots_r1_c0     5\n",
       "spots_r1_c1    27\n",
       "spots_r1_c2     3\n",
       "spots_r1_c4     2\n",
       "spots_r2_c0     0\n",
       "spots_r2_c1     1\n",
       "spots_r2_c2     0\n",
       "spots_r2_c4     0\n",
       "dtype: int64"
      ]
     },
     "execution_count": 20,
     "metadata": {},
     "output_type": "execute_result"
    }
   ],
   "source": [
    "condall = resallv0 == resall\n",
    "(~condall).sum()"
   ]
  },
  {
   "cell_type": "code",
   "execution_count": 21,
   "id": "871b85f4-698c-49c7-a838-ac5219bbb960",
   "metadata": {},
   "outputs": [
    {
     "name": "stdout",
     "output_type": "stream",
     "text": [
      "7454     1.0\n",
      "8906     1.0\n",
      "9336     1.0\n",
      "10719    1.0\n",
      "11334    2.0\n",
      "Name: spots_r1_c0, dtype: float64\n",
      "       Unnamed: 0           z           y           x         area\n",
      "roi                                                               \n",
      "7454         7453   69.460319  322.778655  415.310720  1233.276744\n",
      "8906         8905   16.707577  279.754103  417.413428  1535.885904\n",
      "9336         9335  337.870954  234.278024  418.240753   680.048544\n",
      "10719       10718   43.885966  114.280862  418.014097   869.879136\n",
      "11334       11333  311.270627  246.029241  417.782138   592.776240\n",
      "1296     6.0\n",
      "4011     2.0\n",
      "6010     1.0\n",
      "6021     1.0\n",
      "8853     1.0\n",
      "8906     3.0\n",
      "8910     1.0\n",
      "9336     2.0\n",
      "10101    1.0\n",
      "10380    1.0\n",
      "10719    3.0\n",
      "10916    1.0\n",
      "11250    3.0\n",
      "11334    3.0\n",
      "11570    1.0\n",
      "11589    3.0\n",
      "11705    1.0\n",
      "11955    1.0\n",
      "12079    1.0\n",
      "12187    1.0\n",
      "12438    1.0\n",
      "12491    1.0\n",
      "12829    1.0\n",
      "12845    3.0\n",
      "13119    2.0\n",
      "13207    1.0\n",
      "13335    1.0\n",
      "Name: spots_r1_c1, dtype: float64\n",
      "       Unnamed: 0           z           y           x         area\n",
      "roi                                                               \n",
      "1296         1295   54.294072   60.500385  415.682727  1297.086840\n",
      "4011         4010  359.435802  297.216885  414.682028  1246.163184\n",
      "6010         6009  254.184597  111.140805  416.640581  1551.793992\n",
      "6021         6020   29.152186  120.053010  418.087357  1046.823288\n",
      "8853         8852   47.898332  238.115298  417.521125  1101.568440\n",
      "8906         8905   16.707577  279.754103  417.413428  1535.885904\n",
      "8910         8909  227.634635  292.592065  416.308172  1050.555912\n",
      "9336         9335  337.870954  234.278024  418.240753   680.048544\n",
      "10101       10100  233.487543  235.057871  418.486553   691.157544\n",
      "10380       10379  191.960550  154.805729  418.171243   949.952808\n",
      "10719       10718   43.885966  114.280862  418.014097   869.879136\n",
      "10916       10915  213.953586  146.803723  418.020892  1671.860064\n",
      "11250       11249   91.676027   64.369249  418.018016   842.862048\n",
      "11334       11333  311.270627  246.029241  417.782138   592.776240\n",
      "11570       11569  123.077878  179.016880  418.139753   991.722648\n",
      "11589       11588  260.497496  253.107575  418.205293   360.642576\n",
      "11705       11704   46.538607  266.914449  417.983068   704.399472\n",
      "11955       11954   56.552519  357.437261  415.547165   826.598472\n",
      "12079       12078  136.290351  127.385057  418.664141   690.268824\n",
      "12187       12186   87.313853  139.304871  418.759366   686.713944\n",
      "12438       12437  279.757567  151.258108  418.796661   618.015888\n",
      "12491       12490  183.220333   73.200261  419.245921   795.759888\n",
      "12829       12828  370.252063  267.965566  418.485482   551.539632\n",
      "12845       12844   64.613564   17.048675  418.911486   342.157200\n",
      "13119       13118  274.655624  225.300792  415.793920   765.632280\n",
      "13207       13206  268.004414  242.989077  419.277353   357.176568\n",
      "13335       13334   21.376527  229.412496  419.343282   306.519528\n",
      "3783     1.0\n",
      "10719    1.0\n",
      "11276    1.0\n",
      "Name: spots_r1_c2, dtype: float64\n",
      "       Unnamed: 0           z           y           x         area\n",
      "roi                                                               \n",
      "3783         3782  302.481006  157.752513  417.275898  1371.294960\n",
      "10719       10718   43.885966  114.280862  418.014097   869.879136\n",
      "11276       11275  229.795804  112.118187  418.523814   865.524408\n",
      "1296     1.0\n",
      "12829    6.0\n",
      "Name: spots_r1_c4, dtype: float64\n",
      "       Unnamed: 0           z           y           x         area\n",
      "roi                                                               \n",
      "1296         1295   54.294072   60.500385  415.682727  1297.086840\n",
      "12829       12828  370.252063  267.965566  418.485482   551.539632\n",
      "Series([], Name: spots_r2_c0, dtype: float64)\n",
      "Empty DataFrame\n",
      "Columns: [Unnamed: 0, z, y, x, area]\n",
      "Index: []\n",
      "9857    1.0\n",
      "Name: spots_r2_c1, dtype: float64\n",
      "      Unnamed: 0           z           y           x         area\n",
      "roi                                                              \n",
      "9857        9856  114.198111  372.488051  416.305961  1309.884408\n",
      "Series([], Name: spots_r2_c2, dtype: float64)\n",
      "Empty DataFrame\n",
      "Columns: [Unnamed: 0, z, y, x, area]\n",
      "Index: []\n",
      "Series([], Name: spots_r2_c4, dtype: float64)\n",
      "Empty DataFrame\n",
      "Columns: [Unnamed: 0, z, y, x, area]\n",
      "Index: []\n"
     ]
    }
   ],
   "source": [
    "for col in condall:\n",
    "    print(resallv0.loc[~condall[col], col] - resall.loc[~condall[col], col])\n",
    "    print(allroi.loc[~condall[col]])"
   ]
  },
  {
   "cell_type": "code",
   "execution_count": null,
   "id": "99e8453f-1d56-4de1-9ef1-6e775a4ac8f6",
   "metadata": {},
   "outputs": [],
   "source": []
  }
 ],
 "metadata": {
  "kernelspec": {
   "display_name": "Python 3 (ipykernel)",
   "language": "python",
   "name": "python3"
  },
  "language_info": {
   "codemirror_mode": {
    "name": "ipython",
    "version": 3
   },
   "file_extension": ".py",
   "mimetype": "text/x-python",
   "name": "python",
   "nbconvert_exporter": "python",
   "pygments_lexer": "ipython3",
   "version": "3.9.12"
  }
 },
 "nbformat": 4,
 "nbformat_minor": 5
}
