{
 "cells": [
  {
   "cell_type": "code",
   "execution_count": 1,
   "metadata": {},
   "outputs": [
    {
     "data": {
      "text/plain": [
       "<module 'easi_fish.intensity' from 'D:\\\\SWAP\\\\code\\\\easifish-proc\\\\data_processing\\\\..\\\\easi_fish\\\\intensity.py'>"
      ]
     },
     "execution_count": 1,
     "metadata": {},
     "output_type": "execute_result"
    }
   ],
   "source": [
    "import os, sys\n",
    "sys.path.append('..')\n",
    "import numpy as np\n",
    "import pandas as pd\n",
    "from glob import glob \n",
    "from skimage.io import imread, imsave\n",
    "from easi_fish import n5_metadata_utils as n5mu\n",
    "from easi_fish import roi_prop, spot, intensity\n",
    "import importlib\n",
    "importlib.reload(spot)\n",
    "importlib.reload(intensity)"
   ]
  },
  {
   "cell_type": "code",
   "execution_count": 2,
   "metadata": {},
   "outputs": [],
   "source": [
    "### Specify directories to data files\n",
    "input_dir = \"D:\\\\SWAP\\\\Vincent\\\\lt171_FlpO\\\\gene_new_4tile\\\\outputs\"\n",
    "\n",
    "# fixed image (directory - n5 format)\n",
    "img_dir = os.path.join(input_dir, \"r2\\\\export_sigma3.n5\")\n",
    "# segmentation mask (tif format accepted here)\n",
    "lb_dir  = os.path.join(input_dir, \"r2\\\\segmentation\\\\lt171_gene_4tile_r2-c3.tif\" ) \n",
    "# bad roi\n",
    "bad_roi = os.path.join(input_dir, \"test-aug4\\\\bad_roi_list.npy\")\n",
    "# spot and output\n",
    "spot_dir = os.path.join(input_dir, \"r2\\\\spots\")\n",
    "### end input\n",
    "\n",
    "\n",
    "# output\n",
    "out_goodroi = os.path.join(spot_dir, \"roi.csv\") \n",
    "out_spots = os.path.join(spot_dir, \"spots_r2.csv\")\n",
    "out_intensity = os.path.join(spot_dir, \"intensity_c0_r2.csv\")"
   ]
  },
  {
   "cell_type": "code",
   "execution_count": 3,
   "metadata": {},
   "outputs": [
    {
     "name": "stdout",
     "output_type": "stream",
     "text": [
      "number of ROIs in total: 13758\n",
      "number of bad ROIs: 892\n"
     ]
    }
   ],
   "source": [
    "### Load segmentation mask\n",
    "### Get list of ROIs that are fully or partially outside the mask \n",
    "### Make sure to only include ROIs that are intact and in the overlapping regions across all rounds of FISH\n",
    "lb=imread(lb_dir)\n",
    "roi = np.max(lb)\n",
    "print(\"number of ROIs in total:\",roi)\n",
    "\n",
    "bad_roi_list=np.load(bad_roi)\n",
    "print('number of bad ROIs:', len(bad_roi_list))"
   ]
  },
  {
   "cell_type": "code",
   "execution_count": 4,
   "metadata": {},
   "outputs": [
    {
     "name": "stdout",
     "output_type": "stream",
     "text": [
      "(1019, 915, 916)\n"
     ]
    }
   ],
   "source": [
    "### Extract ROI properties\n",
    "print(lb.shape)\n",
    "lb = lb[500:600,500:600,500:600]\n",
    "# lb.shape # z, x,y "
   ]
  },
  {
   "cell_type": "code",
   "execution_count": 5,
   "metadata": {},
   "outputs": [
    {
     "name": "stderr",
     "output_type": "stream",
     "text": [
      "C:\\Users\\zeiss\\anaconda3\\envs\\easifish\\lib\\site-packages\\skimage\\measure\\_regionprops.py:395: UserWarning: Failed to get convex hull image. Returning empty image, see error message below:\n",
      "QH6154 Qhull precision error: Initial simplex is flat (facet 1 is coplanar with the interior point)\n",
      "\n",
      "While executing:  | qhull i Qt\n",
      "Options selected for Qhull 2019.1.r 2019/06/21:\n",
      "  run-id 829566882  incidence  Qtriangulate  _pre-merge  _zero-centrum\n",
      "  _max-width 10  Error-roundoff 1e-14  _one-merge 7.2e-14  _near-inside 3.6e-13\n",
      "  Visible-distance 2.1e-14  U-max-coplanar 2.1e-14  Width-outside 4.1e-14\n",
      "  _wide-facet 1.2e-13  _maxoutside 8.2e-14\n",
      "\n",
      "The input to qhull appears to be less than 3 dimensional, or a\n",
      "computation has overflowed.\n",
      "\n",
      "Qhull could not construct a clearly convex simplex from points:\n",
      "- p1(v4):     0     1     0\n",
      "- p8(v3):     3     2     0\n",
      "- p25(v2):    10     0     0\n",
      "- p0(v1):     0     0     0\n",
      "\n",
      "The center point is coplanar with a facet, or a vertex is coplanar\n",
      "with a neighboring facet.  The maximum round off error for\n",
      "computing distances is 1e-14.  The center point, facets and distances\n",
      "to the center point are as follows:\n",
      "\n",
      "center point     3.25     0.75        0\n",
      "\n",
      "facet p8 p25 p0 distance=    0\n",
      "facet p1 p25 p0 distance=    0\n",
      "facet p1 p8 p0 distance=    0\n",
      "facet p1 p8 p25 distance=    0\n",
      "\n",
      "These points either have a maximum or minimum x-coordinate, or\n",
      "they maximize the determinant for k coordinates.  Trial points\n",
      "are first selected from points that maximize a coordinate.\n",
      "\n",
      "The min and max coordinates for each dimension are:\n",
      "  0:         0        10  difference=   10\n",
      "  1:         0         2  difference=    2\n",
      "  2:         0         0  difference=    0\n",
      "\n",
      "If the input should be full dimensional, you have several options that\n",
      "may determine an initial simplex:\n",
      "  - use 'QJ'  to joggle the input and make it full dimensional\n",
      "  - use 'QbB' to scale the points to the unit cube\n",
      "  - use 'QR0' to randomly rotate the input for different maximum points\n",
      "  - use 'Qs'  to search all points for the initial simplex\n",
      "  - use 'En'  to specify a maximum roundoff error less than 1e-14.\n",
      "  - trace execution with 'T3' to see the determinant for each point.\n",
      "\n",
      "If the input is lower dimensional:\n",
      "  - use 'QJ' to joggle the input and make it full dimensional\n",
      "  - use 'Qbk:0Bk:0' to delete coordinate k from the input.  You should\n",
      "    pick the coordinate with the least range.  The hull will have the\n",
      "    correct topology.\n",
      "  - determine the flat containing the points, rotate the points\n",
      "    into a coordinate plane, and delete the other coordinates.\n",
      "  - add one or more points to make the input full dimensional.\n",
      "\n",
      "  return convex_hull_image(self.image)\n",
      "C:\\Users\\zeiss\\anaconda3\\envs\\easifish\\lib\\site-packages\\skimage\\measure\\_regionprops.py:577: RuntimeWarning: divide by zero encountered in long_scalars\n",
      "  return self.area / self.area_convex\n"
     ]
    },
    {
     "name": "stdout",
     "output_type": "stream",
     "text": [
      "CPU times: total: 46.5 s\n",
      "Wall time: 2.63 s\n"
     ]
    },
    {
     "name": "stderr",
     "output_type": "stream",
     "text": [
      "C:\\Users\\zeiss\\anaconda3\\envs\\easifish\\lib\\site-packages\\skimage\\measure\\_regionprops.py:395: UserWarning: Failed to get convex hull image. Returning empty image, see error message below:\n",
      "QH6154 Qhull precision error: Initial simplex is flat (facet 1 is coplanar with the interior point)\n",
      "\n",
      "While executing:  | qhull i Qt\n",
      "Options selected for Qhull 2019.1.r 2019/06/21:\n",
      "  run-id 829566882  incidence  Qtriangulate  _pre-merge  _zero-centrum\n",
      "  _max-width  4  Error-roundoff 4.3e-15  _one-merge 3e-14  _near-inside 1.5e-13\n",
      "  Visible-distance 8.5e-15  U-max-coplanar 8.5e-15  Width-outside 1.7e-14\n",
      "  _wide-facet 5.1e-14  _maxoutside 3.4e-14\n",
      "\n",
      "The input to qhull appears to be less than 3 dimensional, or a\n",
      "computation has overflowed.\n",
      "\n",
      "Qhull could not construct a clearly convex simplex from points:\n",
      "- p1(v4):     0     0     2\n",
      "- p7(v3):     1     0     4\n",
      "- p3(v2):     1     0     0\n",
      "- p0(v1):     0     0     1\n",
      "\n",
      "The center point is coplanar with a facet, or a vertex is coplanar\n",
      "with a neighboring facet.  The maximum round off error for\n",
      "computing distances is 4.3e-15.  The center point, facets and distances\n",
      "to the center point are as follows:\n",
      "\n",
      "center point      0.5        0     1.75\n",
      "\n",
      "facet p7 p3 p0 distance=    0\n",
      "facet p1 p3 p0 distance=    0\n",
      "facet p1 p7 p0 distance=    0\n",
      "facet p1 p7 p3 distance=    0\n",
      "\n",
      "These points either have a maximum or minimum x-coordinate, or\n",
      "they maximize the determinant for k coordinates.  Trial points\n",
      "are first selected from points that maximize a coordinate.\n",
      "\n",
      "The min and max coordinates for each dimension are:\n",
      "  0:         0         1  difference=    1\n",
      "  1:         0         0  difference=    0\n",
      "  2:         0         4  difference=    4\n",
      "\n",
      "If the input should be full dimensional, you have several options that\n",
      "may determine an initial simplex:\n",
      "  - use 'QJ'  to joggle the input and make it full dimensional\n",
      "  - use 'QbB' to scale the points to the unit cube\n",
      "  - use 'QR0' to randomly rotate the input for different maximum points\n",
      "  - use 'Qs'  to search all points for the initial simplex\n",
      "  - use 'En'  to specify a maximum roundoff error less than 4.3e-15.\n",
      "  - trace execution with 'T3' to see the determinant for each point.\n",
      "\n",
      "If the input is lower dimensional:\n",
      "  - use 'QJ' to joggle the input and make it full dimensional\n",
      "  - use 'Qbk:0Bk:0' to delete coordinate k from the input.  You should\n",
      "    pick the coordinate with the least range.  The hull will have the\n",
      "    correct topology.\n",
      "  - determine the flat containing the points, rotate the points\n",
      "    into a coordinate plane, and delete the other coordinates.\n",
      "  - add one or more points to make the input full dimensional.\n",
      "\n",
      "  return convex_hull_image(self.image)\n"
     ]
    }
   ],
   "source": [
    "%%time\n",
    "### Extract ROI properties\n",
    "df = roi_prop.roi_prop(lb)"
   ]
  },
  {
   "cell_type": "code",
   "execution_count": 6,
   "metadata": {},
   "outputs": [
    {
     "name": "stderr",
     "output_type": "stream",
     "text": [
      "C:\\Users\\zeiss\\AppData\\Local\\Temp\\ipykernel_8128\\4290796699.py:3: SettingWithCopyWarning: \n",
      "A value is trying to be set on a copy of a slice from a DataFrame.\n",
      "Try using .loc[row_indexer,col_indexer] = value instead\n",
      "\n",
      "See the caveats in the documentation: https://pandas.pydata.org/pandas-docs/stable/user_guide/indexing.html#returning-a-view-versus-a-copy\n",
      "  df_filtered.roi = df_filtered.roi.astype(int)\n"
     ]
    }
   ],
   "source": [
    "### Remove bad ROIs and save the file\n",
    "df_filtered = df.loc[~df['roi'].isin(bad_roi_list)]\n",
    "df_filtered.roi = df_filtered.roi.astype(int)\n",
    "df_filtered.to_csv(out_goodroi)"
   ]
  },
  {
   "cell_type": "code",
   "execution_count": 7,
   "metadata": {},
   "outputs": [],
   "source": [
    "### Lipofuscin subtraction (optional)\n",
    "# Load spot files for lipofuscin subtraction\n",
    "channel_1=np.loadtxt(os.path.join(spot_dir, 'spots_c0.txt'), delimiter=',')\n",
    "channel_2=np.loadtxt(os.path.join(spot_dir, 'spots_c1.txt'), delimiter=',')\n",
    "# Identify lipofuscin spots\n",
    "c0,c1,pAind,pBind=spot.rm_lipofuscin(channel_1,channel_2)\n",
    "# Remove lipofuscin spots\n",
    "true_pos_c0 = np.delete(channel_1, pAind, axis=0)\n",
    "true_pos_c1 = np.delete(channel_2, pBind, axis=0)"
   ]
  },
  {
   "cell_type": "code",
   "execution_count": 8,
   "metadata": {
    "scrolled": false
   },
   "outputs": [
    {
     "name": "stdout",
     "output_type": "stream",
     "text": [
      "Load: D:\\SWAP\\Vincent\\lt171_FlpO\\gene_new_4tile\\outputs\\r2\\spots\\spots_c0.txt\n",
      "Load: D:\\SWAP\\Vincent\\lt171_FlpO\\gene_new_4tile\\outputs\\r2\\spots\\spots_c1.txt\n",
      "Load: D:\\SWAP\\Vincent\\lt171_FlpO\\gene_new_4tile\\outputs\\r2\\spots\\spots_c2.txt\n",
      "Load: D:\\SWAP\\Vincent\\lt171_FlpO\\gene_new_4tile\\outputs\\r2\\spots\\spots_c4.txt\n"
     ]
    }
   ],
   "source": [
    "### spot extraction and save file\n",
    "spotcount=spot.spot_counts(lb, spot_dir, verbose=False)\n",
    "spotcount.to_csv(out_spots)"
   ]
  },
  {
   "cell_type": "code",
   "execution_count": 9,
   "metadata": {},
   "outputs": [],
   "source": [
    "### Intensity measurement and save file\n",
    "df_intensity=intensity.measure_intensity(lb, img_dir, 'c0', cropdim=(500,600,500,600,500,600))\n",
    "df_intensity.to_csv(out_intensity)"
   ]
  }
 ],
 "metadata": {
  "kernelspec": {
   "display_name": "Python 3 (ipykernel)",
   "language": "python",
   "name": "python3"
  },
  "language_info": {
   "codemirror_mode": {
    "name": "ipython",
    "version": 3
   },
   "file_extension": ".py",
   "mimetype": "text/x-python",
   "name": "python",
   "nbconvert_exporter": "python",
   "pygments_lexer": "ipython3",
   "version": "3.9.12"
  }
 },
 "nbformat": 4,
 "nbformat_minor": 2
}
