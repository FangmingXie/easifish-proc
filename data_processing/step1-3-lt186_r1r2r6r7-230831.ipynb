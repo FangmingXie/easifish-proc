{
 "cells": [
  {
   "cell_type": "code",
   "execution_count": 1,
   "id": "b3becb0f",
   "metadata": {
    "tags": []
   },
   "outputs": [
    {
     "data": {
      "text/plain": [
       "<module 'easi_fish.intensity' from '/u/project/zipursky/f7xiesnm/code/easifish-proc/data_processing/../easi_fish/intensity.py'>"
      ]
     },
     "execution_count": 1,
     "metadata": {},
     "output_type": "execute_result"
    }
   ],
   "source": [
    "import os, sys\n",
    "sys.path.append('..')\n",
    "from os.path import abspath, dirname\n",
    "import zarr\n",
    "import z5py\n",
    "import numpy as np\n",
    "import pandas as pd\n",
    "from glob import glob \n",
    "from skimage.measure import regionprops\n",
    "from skimage.io import imread, imsave\n",
    "from scipy import stats\n",
    "from scipy.stats import skewnorm, lognorm\n",
    "from scipy.optimize import minimize\n",
    "import itertools\n",
    "import collections\n",
    "\n",
    "from easi_fish import n5_metadata_utils as n5mu\n",
    "from easi_fish import roi_prop, spot, intensity\n",
    "import warnings\n",
    "warnings.filterwarnings('ignore')\n",
    "\n",
    "import importlib\n",
    "importlib.reload(spot)\n",
    "importlib.reload(roi_prop)\n",
    "importlib.reload(intensity)"
   ]
  },
  {
   "cell_type": "code",
   "execution_count": 2,
   "id": "3d8d47bc-7198-4dd5-9e7a-192c20214bf5",
   "metadata": {
    "tags": []
   },
   "outputs": [],
   "source": [
    "import matplotlib.pyplot as plt\n",
    "import seaborn as sns"
   ]
  },
  {
   "cell_type": "code",
   "execution_count": 3,
   "id": "7bfea4a2-050a-4ae9-9b92-c030a5c7eadd",
   "metadata": {
    "tags": []
   },
   "outputs": [],
   "source": [
    "from IPython.display import set_matplotlib_formats\n",
    "set_matplotlib_formats('retina')\n",
    "\n",
    "sns.set_style('white', rc={'axes.grid':True})\n",
    "sns.set_context('talk')"
   ]
  },
  {
   "cell_type": "markdown",
   "id": "288d5d2b-eb54-4aa8-885f-16f68ed8c9a8",
   "metadata": {},
   "source": [
    "Spot counts for cells with highly expressed genes (dense spots)\n",
    "1. Measure total intensity of every ROI after bleed-through correction and background subtraction.\n",
    "2. Calculate the number of spot from total intensity based on unit-spot intensity\n",
    "3. Correlate the number of spots (from air-localize) with the total fluorescence intensity/voxel in each ROI and determine a 'cutoff'. \n",
    "   Spot count > cutoff: use spot count converted based on total fluorescence intensity; \n",
    "   Spot count < cutoff: use spot count from Airlocalize"
   ]
  },
  {
   "cell_type": "markdown",
   "id": "6278a8d4-b2d9-47e0-b1bf-1da0c98b3164",
   "metadata": {},
   "source": [
    "### On units\n",
    "- all images are based on pixel units - \n",
    "- roi meta file (output) are based on physical unit (um - pre-expansion)\n",
    "- spots files are in um (post-expansion)"
   ]
  },
  {
   "cell_type": "code",
   "execution_count": 12,
   "id": "d3d89d9a",
   "metadata": {
    "tags": []
   },
   "outputs": [],
   "source": [
    "## input\n",
    "\n",
    "# theround = 'r2'\n",
    "# rounds = [theround]\n",
    "# channels = ['c0', 'c1', 'c2', 'c4']\n",
    "\n",
    "ddir = '/u/home/f/f7xiesnm/project-zipursky/easifish/lt186'\n",
    "output_dir = ddir + '/proc/r1r2r6r7'\n",
    "\n",
    "fix_round = 'r1'\n",
    "mov_rounds = ['r2', 'r6', 'r7']\n",
    "round_channels = collections.OrderedDict({\n",
    "    'r1': ('c0', 'c2'),\n",
    "    'r2': ('c0', 'c1', 'c2', 'c4'),\n",
    "    'r6': ('c0', 'c1', 'c2', 'c4'),\n",
    "    'r7': ('c0', 'c1', 'c2', 'c4'),\n",
    "})\n",
    "\n",
    "dapi_channel = 'c3'\n",
    "lb_scale = 's3'\n",
    "lb_res = [1.84,1.84,1.68]\n",
    "ex = 2\n",
    "\n",
    "# images\n",
    "fix_dir  =  ddir + f\"/outputs/{fix_round}/stitching/export.n5\"\n",
    "lb_dir  =   ddir + f\"/outputs/{fix_round}/segmentation/{fix_round}-{dapi_channel}.tif\"\n",
    "reg_dirs = [\n",
    "    ddir + f\"/outputs/r2/registration/usable/r2-to-r1/warped\",\n",
    "    ddir + f\"/outputs/r7/registration/usable/r7-to-r1/warped\",\n",
    "    ]\n",
    "subpath =   f'/{dapi_channel}/{lb_scale}' \n",
    "\n",
    "\n",
    "# spot dir for every gene\n",
    "# fx_spots = np.hstack([[ddir + f'/outputs/{r}/spots/spots_{c}.txt' \n",
    "#                         for c in chs]\n",
    "#                         for r,chs in round_channels.items()])\n",
    "\n",
    "# fx_intns = np.hstack([[ddir + f'/outputs/{r}/intensities/{r}_{c}_intensity.csv' \n",
    "#                         for c in chs]\n",
    "#                         for r,chs in round_channels.items()])\n",
    "\n",
    "fx_spots = [\n",
    "    ddir + f'/outputs/r1/spots/spots_c0.txt',\n",
    "    ddir + f'/outputs/r1/spots/spots_c2.txt',\n",
    "    \n",
    "    ddir + f'/outputs/r2/spots/r2-to-r1/spots_c0-warped.txt',\n",
    "    ddir + f'/outputs/r2/spots/r2-to-r1/spots_c1-warped.txt',\n",
    "    ddir + f'/outputs/r2/spots/r2-to-r1/spots_c2-warped.txt',\n",
    "    ddir + f'/outputs/r2/spots/r2-to-r1/spots_c4-warped.txt',\n",
    "    \n",
    "    ddir + f'/outputs/r6/spots/r6-to-r2-to-r1/spots_c0-warped-warped.txt',\n",
    "    ddir + f'/outputs/r6/spots/r6-to-r2-to-r1/spots_c1-warped-warped.txt',\n",
    "    ddir + f'/outputs/r6/spots/r6-to-r2-to-r1/spots_c2-warped-warped.txt',\n",
    "    ddir + f'/outputs/r6/spots/r6-to-r2-to-r1/spots_c4-warped-warped.txt',\n",
    "    \n",
    "    ddir + f'/outputs/r7/spots/r7-to-r1/spots_c0-warped.txt',\n",
    "    ddir + f'/outputs/r7/spots/r7-to-r1/spots_c1-warped.txt',\n",
    "    ddir + f'/outputs/r7/spots/r7-to-r1/spots_c2-warped.txt',\n",
    "    ddir + f'/outputs/r7/spots/r7-to-r1/spots_c4-warped.txt',\n",
    "]\n",
    "\n",
    "# fx_intns = [\n",
    "#     ddir + f'/outputs/r1/intensities/r1_c0_intensity.csv',\n",
    "#     ddir + f'/outputs/r1/intensities/r1_c2_intensity.csv',\n",
    "    \n",
    "#     ddir + f'/outputs/r2/intensities/r2-to-r1/r2-to-r1_c0_intensity.csv',\n",
    "#     ddir + f'/outputs/r2/intensities/r2-to-r1/r2-to-r1_c1_intensity.csv',\n",
    "#     ddir + f'/outputs/r2/intensities/r2-to-r1/r2-to-r1_c2_intensity.csv',\n",
    "#     ddir + f'/outputs/r2/intensities/r2-to-r1/r2-to-r1_c4_intensity.csv',\n",
    "# ]\n",
    "\n",
    "intn_threshs = [\n",
    "    150, \n",
    "    150, \n",
    "    \n",
    "    110,\n",
    "    200, #\n",
    "    110,\n",
    "    110, \n",
    "    \n",
    "    110,\n",
    "    200, #\n",
    "    110,\n",
    "    110, \n",
    "    \n",
    "    110,\n",
    "    200, #\n",
    "    110,\n",
    "    110, \n",
    "]\n",
    "    \n",
    "for f in fx_spots:\n",
    "    assert os.path.isfile(f)\n",
    "# for f in fx_intns:\n",
    "#     assert os.path.isfile(f)\n",
    "\n",
    "## output\n",
    "out_badroi = os.path.join(output_dir, 'bad_roi_list.npy')\n",
    "out_allroi = os.path.join(output_dir, \"roi_all.csv\") \n",
    "out_roi = os.path.join(output_dir, \"roi.csv\") \n",
    "out_spots = os.path.join(output_dir, \"spotcount.csv\")\n",
    "\n",
    "# out_spots_intn = os.path.join(output_dir, \"spotcount_intn.csv\")\n",
    "# out_spots_merged = os.path.join(output_dir, 'spotcount_merged.csv')"
   ]
  },
  {
   "cell_type": "code",
   "execution_count": 5,
   "id": "06c53b42-c8ad-4379-a404-dc87fc9f933b",
   "metadata": {
    "tags": []
   },
   "outputs": [],
   "source": [
    "REMOVE_BLEEDTHRU = False\n",
    "\n",
    "# remove bleed through!\n",
    "if REMOVE_BLEEDTHRU:\n",
    "    \n",
    "    bleed_thru_epsilon = 1\n",
    "    c_qry = 'c0'\n",
    "    c_ref = 'c4'\n",
    "\n",
    "    f_ref = ddir+f'/outputs/{theround}/spots/spots_{c_ref}.txt'\n",
    "    f_qry = ddir+f'/outputs/{theround}/spots/spots_{c_qry}.txt'\n",
    "    f_qry_kept = os.path.join(output_dir, f'kept_spots_{theround}_{c_qry}.txt')\n",
    "\n",
    "    ref_dots = np.loadtxt(f_ref, delimiter=',')\n",
    "    qry_dots = np.loadtxt(f_qry, delimiter=',')\n",
    "    qry_kept, qry_removed = spot.remove_bleed_thru_spots(ref_dots, qry_dots, epsilon=bleed_thru_epsilon)\n",
    "\n",
    "    # save \n",
    "    np.savetxt(f_qry_kept, qry_kept, delimiter=\",\")\n",
    "    \n",
    "    ### TODO - replace f_qry with f_qry_kept in spot list"
   ]
  },
  {
   "cell_type": "code",
   "execution_count": 6,
   "id": "698b1837",
   "metadata": {
    "tags": []
   },
   "outputs": [
    {
     "name": "stdout",
     "output_type": "stream",
     "text": [
      "/u/home/f/f7xiesnm/project-zipursky/easifish/lt186/proc/r1r2r6r7\n",
      "subpath:  /c3/s3\n",
      "voxel size:  [1.84 1.84 1.68]\n",
      "image size (pixel):  [1131  913  648]\n",
      "image size (um post-ex):  [2081.04 1679.92 1088.64]\n",
      "(648, 913, 1131)\n",
      "num roi:  28228\n",
      "CPU times: user 8.86 s, sys: 3.5 s, total: 12.4 s\n",
      "Wall time: 9.1 s\n"
     ]
    }
   ],
   "source": [
    "%%time\n",
    "# output dir\n",
    "if not os.path.isdir(output_dir):\n",
    "    print(output_dir)\n",
    "    os.mkdir(output_dir)\n",
    "    \n",
    "# image size in pixel (x, y, z)\n",
    "grid = n5mu.read_voxel_grid(fix_dir, subpath)\n",
    "# voxel resolution in µm (x, y, z) (post-expansion)\n",
    "vox  = n5mu.read_voxel_spacing(fix_dir, subpath)\n",
    "# image size in physical space (x, y, z) (post-expansion)\n",
    "size = grid*vox\n",
    "print('subpath: ', subpath)\n",
    "print('voxel size: ', vox)\n",
    "print('image size (pixel): ', grid)\n",
    "print('image size (um post-ex): ', size)\n",
    "\n",
    "# get image data\n",
    "# print(\"loading images...\")\n",
    "# fix = zarr.open(store=zarr.N5Store(fix_dir), mode='r')     \n",
    "# img1 = fix[subpath][:, :, :]\n",
    "\n",
    "# get segmentation mask\n",
    "lb = imread(lb_dir)\n",
    "# roi = np.max(lb) # this is only correct if this lb is uncropped\n",
    "roi = len(np.unique(lb[lb!=0])) # this would be better\n",
    "print(lb.shape)\n",
    "print('num roi: ', roi)"
   ]
  },
  {
   "cell_type": "code",
   "execution_count": 7,
   "id": "579b0b93-ffd0-48de-a509-4f5bbe22fcd1",
   "metadata": {
    "tags": []
   },
   "outputs": [],
   "source": [
    "# %%time\n",
    "# bad_roi = []\n",
    "# for reg_dir in reg_dirs:\n",
    "#     reg = zarr.open(store=zarr.N5Store(reg_dir), mode='r')     \n",
    "#     img2 = reg[subpath][...]\n",
    "#     print(\"image loaded\")\n",
    "    \n",
    "#     # get bad pixels -> bad roi\n",
    "#     bad_roi_thisround = np.unique(lb[np.nonzero(img2==0)])\n",
    "#     bad_roi.append(bad_roi_thisround)\n",
    "#     print(\"# of ROIs rejected this round:\", len(bad_roi_thisround))\n",
    "    \n",
    "# bad_roi = np.unique(np.hstack(bad_roi))\n",
    "# print(\"# of ROIs rejected:\", len(bad_roi))\n",
    "# bad_roi"
   ]
  },
  {
   "cell_type": "code",
   "execution_count": 13,
   "id": "88b47857-3f8c-4148-9dff-b73004211542",
   "metadata": {
    "tags": []
   },
   "outputs": [
    {
     "name": "stdout",
     "output_type": "stream",
     "text": [
      "image loaded\n",
      "image loaded\n",
      "mask generated\n",
      "# of ROIs rejected: 347\n",
      "CPU times: user 13.3 s, sys: 7.85 s, total: 21.1 s\n",
      "Wall time: 19.4 s\n"
     ]
    }
   ],
   "source": [
    "%%time\n",
    "# # Get list of ROIs that are fully or partially outside the mask \n",
    "### Make sure to only include ROIs that are intact and in the overlapping regions across all rounds of FISH\n",
    "### remove any unregistered parts\n",
    "mask = np.ones(grid[::-1])\n",
    "for reg_dir in reg_dirs:\n",
    "    reg = zarr.open(store=zarr.N5Store(reg_dir), mode='r')     \n",
    "    img2 = reg[subpath][...]\n",
    "    print(\"image loaded\")\n",
    "    mask[img2==0]=0\n",
    "print(\"mask generated\")\n",
    "\n",
    "bad_roi=np.unique(lb[mask==0])\n",
    "if bad_roi[0] == 0: # remove the label 0 - extracellular space\n",
    "    bad_roi = bad_roi[1:]\n",
    "np.save(out_badroi, bad_roi)\n",
    "print(\"# of ROIs rejected:\", len(bad_roi))"
   ]
  },
  {
   "cell_type": "code",
   "execution_count": 14,
   "id": "7c0f7f66",
   "metadata": {
    "tags": []
   },
   "outputs": [
    {
     "name": "stdout",
     "output_type": "stream",
     "text": [
      "CPU times: user 16 s, sys: 941 ms, total: 16.9 s\n",
      "Wall time: 17 s\n"
     ]
    }
   ],
   "source": [
    "%%time\n",
    "# get cell locations (in um - pre-expansion) from segmentation mask\n",
    "roi_meta_all = roi_prop.roi_prop_v2(lb, lb_res, ex)\n",
    "roi_meta_all.to_csv(out_allroi)\n",
    "\n",
    "roi_meta = roi_meta_all.set_index('roi').copy()\n",
    "roi_meta = roi_meta #.loc[roi_meta.index.difference(bad_roi)]\n",
    "roi_meta.to_csv(out_roi)"
   ]
  },
  {
   "cell_type": "code",
   "execution_count": 15,
   "id": "dd767d92-47eb-449b-9455-fc9522d2fc01",
   "metadata": {
    "tags": []
   },
   "outputs": [
    {
     "name": "stdout",
     "output_type": "stream",
     "text": [
      "r1 c0 /u/home/f/f7xiesnm/project-zipursky/easifish/lt186/outputs/r1/spots/spots_c0.txt\n",
      "279958\n",
      "98378\n",
      "removed 0 spots due to nan\n",
      "98,377/98,378 spots in range (1131, 913, 648)\n",
      "r1 c2 /u/home/f/f7xiesnm/project-zipursky/easifish/lt186/outputs/r1/spots/spots_c2.txt\n",
      "137858\n",
      "50417\n",
      "removed 0 spots due to nan\n",
      "50,417/50,417 spots in range (1131, 913, 648)\n",
      "r2 c0 /u/home/f/f7xiesnm/project-zipursky/easifish/lt186/outputs/r2/spots/r2-to-r1/spots_c0-warped.txt\n",
      "324102\n",
      "276857\n",
      "removed 0 spots due to nan\n",
      "276,181/276,857 spots in range (1131, 913, 648)\n",
      "r2 c1 /u/home/f/f7xiesnm/project-zipursky/easifish/lt186/outputs/r2/spots/r2-to-r1/spots_c1-warped.txt\n",
      "1499257\n",
      "164458\n",
      "removed 0 spots due to nan\n",
      "164,439/164,458 spots in range (1131, 913, 648)\n",
      "r2 c2 /u/home/f/f7xiesnm/project-zipursky/easifish/lt186/outputs/r2/spots/r2-to-r1/spots_c2-warped.txt\n",
      "142559\n",
      "120947\n",
      "removed 0 spots due to nan\n",
      "120,320/120,947 spots in range (1131, 913, 648)\n",
      "r2 c4 /u/home/f/f7xiesnm/project-zipursky/easifish/lt186/outputs/r2/spots/r2-to-r1/spots_c4-warped.txt\n",
      "85999\n",
      "67746\n",
      "removed 0 spots due to nan\n",
      "66,377/67,746 spots in range (1131, 913, 648)\n",
      "r6 c0 /u/home/f/f7xiesnm/project-zipursky/easifish/lt186/outputs/r6/spots/r6-to-r2-to-r1/spots_c0-warped-warped.txt\n",
      "274906\n",
      "235291\n",
      "removed 0 spots due to nan\n",
      "218,235/235,291 spots in range (1131, 913, 648)\n",
      "r6 c1 /u/home/f/f7xiesnm/project-zipursky/easifish/lt186/outputs/r6/spots/r6-to-r2-to-r1/spots_c1-warped-warped.txt\n",
      "1083634\n",
      "64417\n",
      "removed 0 spots due to nan\n",
      "57,641/64,417 spots in range (1131, 913, 648)\n",
      "r6 c2 /u/home/f/f7xiesnm/project-zipursky/easifish/lt186/outputs/r6/spots/r6-to-r2-to-r1/spots_c2-warped-warped.txt\n",
      "299106\n",
      "238128\n",
      "removed 1 spots due to nan\n",
      "219,773/238,128 spots in range (1131, 913, 648)\n",
      "r6 c4 /u/home/f/f7xiesnm/project-zipursky/easifish/lt186/outputs/r6/spots/r6-to-r2-to-r1/spots_c4-warped-warped.txt\n",
      "3479\n",
      "3004\n",
      "removed 0 spots due to nan\n",
      "2,092/3,004 spots in range (1131, 913, 648)\n",
      "r7 c0 /u/home/f/f7xiesnm/project-zipursky/easifish/lt186/outputs/r7/spots/r7-to-r1/spots_c0-warped.txt\n",
      "119307\n",
      "98895\n",
      "removed 0 spots due to nan\n",
      "98,181/98,895 spots in range (1131, 913, 648)\n",
      "r7 c1 /u/home/f/f7xiesnm/project-zipursky/easifish/lt186/outputs/r7/spots/r7-to-r1/spots_c1-warped.txt\n",
      "3968643\n",
      "673140\n",
      "removed 0 spots due to nan\n",
      "672,807/673,140 spots in range (1131, 913, 648)\n",
      "r7 c2 /u/home/f/f7xiesnm/project-zipursky/easifish/lt186/outputs/r7/spots/r7-to-r1/spots_c2-warped.txt\n",
      "409741\n",
      "354202\n",
      "removed 0 spots due to nan\n",
      "352,789/354,202 spots in range (1131, 913, 648)\n",
      "r7 c4 /u/home/f/f7xiesnm/project-zipursky/easifish/lt186/outputs/r7/spots/r7-to-r1/spots_c4-warped.txt\n",
      "73975\n",
      "54764\n",
      "removed 0 spots due to nan\n",
      "53,874/54,764 spots in range (1131, 913, 648)\n",
      "CPU times: user 51.3 s, sys: 2.55 s, total: 53.8 s\n",
      "Wall time: 53.9 s\n"
     ]
    }
   ],
   "source": [
    "%%time\n",
    "\n",
    "# count spots for every cell (roi)\n",
    "\n",
    "# all labels\n",
    "lb_id = np.unique(lb[lb!=0]) # exclude 0\n",
    "lb_id = np.hstack([[0], lb_id]) # include 0 - noncell\n",
    "# selected cells\n",
    "lb_id_selected = roi_meta.index.values\n",
    "\n",
    "# prep\n",
    "spotcount = pd.DataFrame(index=lb_id_selected, dtype=int)\n",
    "# spotcount_intn = pd.DataFrame(index=lb_id_selected, dtype=float)\n",
    "\n",
    "i = 0\n",
    "for r,chs in round_channels.items():\n",
    "    for c in chs:\n",
    "        # f_intns = fx_intns[i]\n",
    "        f_spots = fx_spots[i]\n",
    "        intn_th = intn_threshs[i]\n",
    "        print(r, c, f_spots) #, f_intns)\n",
    "\n",
    "        # spots\n",
    "        spots_rc = np.loadtxt(f_spots, delimiter=',')\n",
    "        print(len(spots_rc))\n",
    "\n",
    "        # filter\n",
    "        filter_cond = spots_rc[:,3] > intn_th\n",
    "        spots_rc = spots_rc[filter_cond]\n",
    "        print(len(spots_rc))\n",
    "\n",
    "        # count spots\n",
    "        res = spot.spot_counts_worker(lb, spots_rc, lb_res,\n",
    "                                      lb_id=lb_id, \n",
    "                                      remove_noncell=True, \n",
    "                                      selected_roi_list=lb_id_selected,\n",
    "                                      )\n",
    "        spotcount[f\"{r}_{c}\"] = res \n",
    "\n",
    "        # # count spots by intensity\n",
    "        # res = spot.get_spot_counts_from_intn(f_intns, f_spots, roi_meta, lb_res)\n",
    "        # spotcount_intn[f'{r}_{c}'] = res\n",
    "        i = i + 1\n",
    "    \n",
    "# save results\n",
    "spotcount.to_csv(out_spots)\n",
    "# spotcount_intn.to_csv(out_spots_intn)"
   ]
  },
  {
   "cell_type": "code",
   "execution_count": 16,
   "id": "34116fe0",
   "metadata": {
    "tags": []
   },
   "outputs": [],
   "source": [
    "# # reconcile two spot counts\n",
    "# dist_cutoff = 2 # um pre-expansion\n",
    "# density = spotcount.divide(roi_meta['area'], axis=0)\n",
    "# cond = density < 1/(dist_cutoff**3) # keep spots if density is low\n",
    "\n",
    "# print(\"# cells have high density: \", (~cond).sum()) \n",
    "# spotcount_merged = spotcount.where(cond, spotcount_intn)  # replace where the condition is False\n",
    "# spotcount_merged.to_csv(out_spots_merged)\n",
    "# spotcount_merged"
   ]
  },
  {
   "cell_type": "code",
   "execution_count": null,
   "id": "713a5d5c-1faf-4dcf-8753-a659aa6eb2db",
   "metadata": {},
   "outputs": [],
   "source": []
  },
  {
   "cell_type": "code",
   "execution_count": null,
   "id": "6a24ee4d-80dd-4b8d-ba54-b3a7f9b38757",
   "metadata": {},
   "outputs": [],
   "source": []
  },
  {
   "cell_type": "code",
   "execution_count": null,
   "id": "403fbce7-482f-45ad-ae99-e98aff8a19b8",
   "metadata": {},
   "outputs": [],
   "source": []
  }
 ],
 "metadata": {
  "kernelspec": {
   "display_name": "Python 3 (ipykernel)",
   "language": "python",
   "name": "python3"
  },
  "language_info": {
   "codemirror_mode": {
    "name": "ipython",
    "version": 3
   },
   "file_extension": ".py",
   "mimetype": "text/x-python",
   "name": "python",
   "nbconvert_exporter": "python",
   "pygments_lexer": "ipython3",
   "version": "3.9.16"
  }
 },
 "nbformat": 4,
 "nbformat_minor": 5
}
