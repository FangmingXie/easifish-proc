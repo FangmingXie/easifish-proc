{
 "cells": [
  {
   "cell_type": "code",
   "execution_count": 1,
   "id": "b3becb0f",
   "metadata": {
    "tags": []
   },
   "outputs": [
    {
     "data": {
      "text/plain": [
       "<module 'easi_fish.intensity' from '/u/project/zipursky/f7xiesnm/code/easifish-proc/data_processing/../easi_fish/intensity.py'>"
      ]
     },
     "execution_count": 1,
     "metadata": {},
     "output_type": "execute_result"
    }
   ],
   "source": [
    "import os, sys\n",
    "sys.path.append('..')\n",
    "from os.path import abspath, dirname\n",
    "import zarr\n",
    "import z5py\n",
    "import numpy as np\n",
    "import pandas as pd\n",
    "from glob import glob \n",
    "from skimage.measure import regionprops\n",
    "from skimage.io import imread, imsave\n",
    "from scipy import stats\n",
    "from scipy.stats import skewnorm, lognorm\n",
    "from scipy.optimize import minimize\n",
    "import itertools\n",
    "import collections\n",
    "\n",
    "from easi_fish import n5_metadata_utils as n5mu\n",
    "from easi_fish import roi_prop, spot, intensity\n",
    "import warnings\n",
    "warnings.filterwarnings('ignore')\n",
    "\n",
    "import importlib\n",
    "importlib.reload(spot)\n",
    "importlib.reload(roi_prop)\n",
    "importlib.reload(intensity)"
   ]
  },
  {
   "cell_type": "code",
   "execution_count": 2,
   "id": "3d8d47bc-7198-4dd5-9e7a-192c20214bf5",
   "metadata": {
    "tags": []
   },
   "outputs": [],
   "source": [
    "import matplotlib.pyplot as plt\n",
    "import seaborn as sns"
   ]
  },
  {
   "cell_type": "code",
   "execution_count": 3,
   "id": "7bfea4a2-050a-4ae9-9b92-c030a5c7eadd",
   "metadata": {
    "tags": []
   },
   "outputs": [],
   "source": [
    "from IPython.display import set_matplotlib_formats\n",
    "set_matplotlib_formats('retina')\n",
    "\n",
    "sns.set_style('white', rc={'axes.grid':True})\n",
    "sns.set_context('talk')"
   ]
  },
  {
   "cell_type": "markdown",
   "id": "288d5d2b-eb54-4aa8-885f-16f68ed8c9a8",
   "metadata": {},
   "source": [
    "Spot counts for cells with highly expressed genes (dense spots)\n",
    "1. Measure total intensity of every ROI after bleed-through correction and background subtraction.\n",
    "2. Calculate the number of spot from total intensity based on unit-spot intensity\n",
    "3. Correlate the number of spots (from air-localize) with the total fluorescence intensity/voxel in each ROI and determine a 'cutoff'. \n",
    "   Spot count > cutoff: use spot count converted based on total fluorescence intensity; \n",
    "   Spot count < cutoff: use spot count from Airlocalize"
   ]
  },
  {
   "cell_type": "markdown",
   "id": "6278a8d4-b2d9-47e0-b1bf-1da0c98b3164",
   "metadata": {},
   "source": [
    "### On units\n",
    "- all images are based on pixel units - \n",
    "- roi meta file (output) are based on physical unit (um - pre-expansion)\n",
    "- spots files are in um (post-expansion)"
   ]
  },
  {
   "cell_type": "code",
   "execution_count": 22,
   "id": "d3d89d9a",
   "metadata": {
    "tags": []
   },
   "outputs": [],
   "source": [
    "## input\n",
    "\n",
    "# theround = 'r2'\n",
    "# rounds = [theround]\n",
    "# channels = ['c0', 'c1', 'c2', 'c4']\n",
    "\n",
    "ddir = '/u/home/f/f7xiesnm/project-zipursky/easifish/lt186'\n",
    "output_dir = ddir + '/proc/r1-r2'\n",
    "\n",
    "fix_round = 'r1'\n",
    "mov_rounds = ['r2']\n",
    "round_channels = collections.OrderedDict({\n",
    "    'r1': ('c0', 'c2'),\n",
    "    'r2': ('c0', 'c1', 'c2', 'c4'),\n",
    "})\n",
    "\n",
    "dapi_channel = 'c3'\n",
    "lb_scale = 's3'\n",
    "lb_res = [1.84,1.84,1.68]\n",
    "ex = 2\n",
    "\n",
    "# images\n",
    "fix_dir  =  ddir + f\"/outputs/{fix_round}/stitching/export.n5\"\n",
    "lb_dir  =   ddir + f\"/outputs/{fix_round}/segmentation/{fix_round}-{dapi_channel}.tif\"\n",
    "reg_dirs = [ddir + f\"/outputs/{mov_round}/registration/{mov_round}-to-{fix_round}/warped\"\n",
    "            for mov_round in mov_rounds\n",
    "            ]\n",
    "subpath =   f'/{dapi_channel}/{lb_scale}' \n",
    "\n",
    "\n",
    "# spot dir for every gene\n",
    "# fx_spots = np.hstack([[ddir + f'/outputs/{r}/spots/spots_{c}.txt' \n",
    "#                         for c in chs]\n",
    "#                         for r,chs in round_channels.items()])\n",
    "\n",
    "# fx_intns = np.hstack([[ddir + f'/outputs/{r}/intensities/{r}_{c}_intensity.csv' \n",
    "#                         for c in chs]\n",
    "#                         for r,chs in round_channels.items()])\n",
    "\n",
    "fx_spots = [\n",
    "    ddir + f'/outputs/r1/spots/spots_c0.txt',\n",
    "    ddir + f'/outputs/r1/spots/spots_c2.txt',\n",
    "    ddir + f'/outputs/r2/spots/r2-to-r1/spots_c0-warped.txt',\n",
    "    ddir + f'/outputs/r2/spots/r2-to-r1/spots_c1-warped.txt',\n",
    "    ddir + f'/outputs/r2/spots/r2-to-r1/spots_c2-warped.txt',\n",
    "    ddir + f'/outputs/r2/spots/r2-to-r1/spots_c4-warped.txt',\n",
    "]\n",
    "\n",
    "fx_intns = [\n",
    "    ddir + f'/outputs/r1/intensities/r1_c0_intensity.csv',\n",
    "    ddir + f'/outputs/r1/intensities/r1_c2_intensity.csv',\n",
    "    ddir + f'/outputs/r2/intensities/r2-to-r1/r2-to-r1_c0_intensity.csv',\n",
    "    ddir + f'/outputs/r2/intensities/r2-to-r1/r2-to-r1_c1_intensity.csv',\n",
    "    ddir + f'/outputs/r2/intensities/r2-to-r1/r2-to-r1_c2_intensity.csv',\n",
    "    ddir + f'/outputs/r2/intensities/r2-to-r1/r2-to-r1_c4_intensity.csv',\n",
    "]\n",
    "    \n",
    "for f in fx_spots:\n",
    "    assert os.path.isfile(f)\n",
    "for f in fx_intns:\n",
    "    assert os.path.isfile(f)\n",
    "\n",
    "## output\n",
    "out_badroi = os.path.join(output_dir, 'bad_roi_list.npy')\n",
    "out_allroi = os.path.join(output_dir, \"roi_all.csv\") \n",
    "out_roi = os.path.join(output_dir, \"roi.csv\") \n",
    "out_spots = os.path.join(output_dir, \"spotcount.csv\")\n",
    "out_spots_intn = os.path.join(output_dir, \"spotcount_intn.csv\")\n",
    "out_spots_merged = os.path.join(output_dir, 'spotcount_merged.csv')"
   ]
  },
  {
   "cell_type": "code",
   "execution_count": 5,
   "id": "06c53b42-c8ad-4379-a404-dc87fc9f933b",
   "metadata": {
    "tags": []
   },
   "outputs": [],
   "source": [
    "REMOVE_BLEEDTHRU = False\n",
    "\n",
    "# remove bleed through!\n",
    "if REMOVE_BLEEDTHRU:\n",
    "    \n",
    "    bleed_thru_epsilon = 1\n",
    "    c_qry = 'c0'\n",
    "    c_ref = 'c4'\n",
    "\n",
    "    f_ref = ddir+f'/outputs/{theround}/spots/spots_{c_ref}.txt'\n",
    "    f_qry = ddir+f'/outputs/{theround}/spots/spots_{c_qry}.txt'\n",
    "    f_qry_kept = os.path.join(output_dir, f'kept_spots_{theround}_{c_qry}.txt')\n",
    "\n",
    "    ref_dots = np.loadtxt(f_ref, delimiter=',')\n",
    "    qry_dots = np.loadtxt(f_qry, delimiter=',')\n",
    "    qry_kept, qry_removed = spot.remove_bleed_thru_spots(ref_dots, qry_dots, epsilon=bleed_thru_epsilon)\n",
    "\n",
    "    # save \n",
    "    np.savetxt(f_qry_kept, qry_kept, delimiter=\",\")\n",
    "    \n",
    "    ### TODO - replace f_qry with f_qry_kept in spot list"
   ]
  },
  {
   "cell_type": "code",
   "execution_count": 12,
   "id": "698b1837",
   "metadata": {
    "tags": []
   },
   "outputs": [
    {
     "name": "stdout",
     "output_type": "stream",
     "text": [
      "subpath:  /c3/s3\n",
      "voxel size:  [1.84 1.84 1.68]\n",
      "image size (pixel):  [1131  913  648]\n",
      "image size (um post-ex):  [2081.04 1679.92 1088.64]\n",
      "(648, 913, 1131)\n",
      "num roi:  28228\n",
      "CPU times: user 13.2 s, sys: 5.07 s, total: 18.3 s\n",
      "Wall time: 17.7 s\n"
     ]
    }
   ],
   "source": [
    "%%time\n",
    "# output dir\n",
    "if not os.path.isdir(output_dir):\n",
    "    print(output_dir)\n",
    "    os.mkdir(output_dir)\n",
    "    \n",
    "# image size in pixel (x, y, z)\n",
    "grid = n5mu.read_voxel_grid(fix_dir, subpath)\n",
    "# voxel resolution in µm (x, y, z) (post-expansion)\n",
    "vox  = n5mu.read_voxel_spacing(fix_dir, subpath)\n",
    "# image size in physical space (x, y, z) (post-expansion)\n",
    "size = grid*vox\n",
    "print('subpath: ', subpath)\n",
    "print('voxel size: ', vox)\n",
    "print('image size (pixel): ', grid)\n",
    "print('image size (um post-ex): ', size)\n",
    "\n",
    "# get image data\n",
    "# print(\"loading images...\")\n",
    "# fix = zarr.open(store=zarr.N5Store(fix_dir), mode='r')     \n",
    "# img1 = fix[subpath][:, :, :]\n",
    "\n",
    "# get segmentation mask\n",
    "lb = imread(lb_dir)\n",
    "# roi = np.max(lb) # this is only correct if this lb is uncropped\n",
    "roi = len(np.unique(lb[lb!=0])) # this would be better\n",
    "print(lb.shape)\n",
    "print('num roi: ', roi)"
   ]
  },
  {
   "cell_type": "code",
   "execution_count": 7,
   "id": "579b0b93-ffd0-48de-a509-4f5bbe22fcd1",
   "metadata": {
    "tags": []
   },
   "outputs": [],
   "source": [
    "# %%time\n",
    "# bad_roi = []\n",
    "# for reg_dir in reg_dirs:\n",
    "#     reg = zarr.open(store=zarr.N5Store(reg_dir), mode='r')     \n",
    "#     img2 = reg[subpath][...]\n",
    "#     print(\"image loaded\")\n",
    "    \n",
    "#     # get bad pixels -> bad roi\n",
    "#     bad_roi_thisround = np.unique(lb[np.nonzero(img2==0)])\n",
    "#     bad_roi.append(bad_roi_thisround)\n",
    "#     print(\"# of ROIs rejected this round:\", len(bad_roi_thisround))\n",
    "    \n",
    "# bad_roi = np.unique(np.hstack(bad_roi))\n",
    "# print(\"# of ROIs rejected:\", len(bad_roi))\n",
    "# bad_roi"
   ]
  },
  {
   "cell_type": "code",
   "execution_count": 15,
   "id": "88b47857-3f8c-4148-9dff-b73004211542",
   "metadata": {
    "tags": []
   },
   "outputs": [
    {
     "name": "stdout",
     "output_type": "stream",
     "text": [
      "image loaded\n",
      "mask generated\n",
      "# of ROIs rejected: 253\n",
      "CPU times: user 9.37 s, sys: 8.55 s, total: 17.9 s\n",
      "Wall time: 17 s\n"
     ]
    }
   ],
   "source": [
    "%%time\n",
    "# # Get list of ROIs that are fully or partially outside the mask \n",
    "### Make sure to only include ROIs that are intact and in the overlapping regions across all rounds of FISH\n",
    "### remove any unregistered parts\n",
    "mask = np.ones(grid[::-1])\n",
    "for reg_dir in reg_dirs:\n",
    "    reg = zarr.open(store=zarr.N5Store(reg_dir), mode='r')     \n",
    "    img2 = reg[subpath][...]\n",
    "    print(\"image loaded\")\n",
    "    mask[img2==0]=0\n",
    "print(\"mask generated\")\n",
    "\n",
    "bad_roi=np.unique(lb[mask==0])\n",
    "if bad_roi[0] == 0: # remove the label 0 - extracellular space\n",
    "    bad_roi = bad_roi[1:]\n",
    "np.save(out_badroi, bad_roi)\n",
    "print(\"# of ROIs rejected:\", len(bad_roi))"
   ]
  },
  {
   "cell_type": "code",
   "execution_count": 16,
   "id": "7c0f7f66",
   "metadata": {
    "tags": []
   },
   "outputs": [
    {
     "name": "stdout",
     "output_type": "stream",
     "text": [
      "CPU times: user 17.8 s, sys: 3.67 s, total: 21.5 s\n",
      "Wall time: 21.6 s\n"
     ]
    }
   ],
   "source": [
    "%%time\n",
    "# get cell locations (in um - pre-expansion) from segmentation mask\n",
    "roi_meta_all = roi_prop.roi_prop_v2(lb, lb_res, ex)\n",
    "roi_meta_all.to_csv(out_allroi)\n",
    "\n",
    "roi_meta = roi_meta_all.set_index('roi').copy()\n",
    "roi_meta = roi_meta #.loc[roi_meta.index.difference(bad_roi)]\n",
    "roi_meta.to_csv(out_roi)"
   ]
  },
  {
   "cell_type": "code",
   "execution_count": 23,
   "id": "dd767d92-47eb-449b-9455-fc9522d2fc01",
   "metadata": {
    "tags": []
   },
   "outputs": [
    {
     "name": "stdout",
     "output_type": "stream",
     "text": [
      "r1 c0 /u/home/f/f7xiesnm/project-zipursky/easifish/lt186/outputs/r1/spots/spots_c0.txt /u/home/f/f7xiesnm/project-zipursky/easifish/lt186/outputs/r1/intensities/r1_c0_intensity.csv\n",
      "removed 0 spots due to nan\n",
      "132,679/132,679 spots in range (1131, 913, 648)\n",
      "r1 c2 /u/home/f/f7xiesnm/project-zipursky/easifish/lt186/outputs/r1/spots/spots_c2.txt /u/home/f/f7xiesnm/project-zipursky/easifish/lt186/outputs/r1/intensities/r1_c2_intensity.csv\n",
      "removed 0 spots due to nan\n",
      "60,661/60,661 spots in range (1131, 913, 648)\n",
      "r2 c0 /u/home/f/f7xiesnm/project-zipursky/easifish/lt186/outputs/r2/spots/r2-to-r1/spots_c0-warped.txt /u/home/f/f7xiesnm/project-zipursky/easifish/lt186/outputs/r2/intensities/r2-to-r1/r2-to-r1_c0_intensity.csv\n",
      "removed 0 spots due to nan\n",
      "65,153/65,396 spots in range (1131, 913, 648)\n",
      "r2 c1 /u/home/f/f7xiesnm/project-zipursky/easifish/lt186/outputs/r2/spots/r2-to-r1/spots_c1-warped.txt /u/home/f/f7xiesnm/project-zipursky/easifish/lt186/outputs/r2/intensities/r2-to-r1/r2-to-r1_c1_intensity.csv\n",
      "removed 0 spots due to nan\n",
      "303,221/303,297 spots in range (1131, 913, 648)\n",
      "r2 c2 /u/home/f/f7xiesnm/project-zipursky/easifish/lt186/outputs/r2/spots/r2-to-r1/spots_c2-warped.txt /u/home/f/f7xiesnm/project-zipursky/easifish/lt186/outputs/r2/intensities/r2-to-r1/r2-to-r1_c2_intensity.csv\n",
      "removed 0 spots due to nan\n",
      "36,424/36,515 spots in range (1131, 913, 648)\n",
      "r2 c4 /u/home/f/f7xiesnm/project-zipursky/easifish/lt186/outputs/r2/spots/r2-to-r1/spots_c4-warped.txt /u/home/f/f7xiesnm/project-zipursky/easifish/lt186/outputs/r2/intensities/r2-to-r1/r2-to-r1_c4_intensity.csv\n",
      "removed 0 spots due to nan\n",
      "19,154/19,449 spots in range (1131, 913, 648)\n",
      "CPU times: user 14.1 s, sys: 2.22 s, total: 16.4 s\n",
      "Wall time: 16.8 s\n"
     ]
    }
   ],
   "source": [
    "%%time\n",
    "\n",
    "# count spots for every cell (roi)\n",
    "\n",
    "# all labels\n",
    "lb_id = np.unique(lb[lb!=0]) # exclude 0\n",
    "lb_id = np.hstack([[0], lb_id]) # include 0 - noncell\n",
    "# selected cells\n",
    "lb_id_selected = roi_meta.index.values\n",
    "\n",
    "# prep\n",
    "spotcount = pd.DataFrame(index=lb_id_selected, dtype=int)\n",
    "spotcount_intn = pd.DataFrame(index=lb_id_selected, dtype=float)\n",
    "\n",
    "i = 0\n",
    "for r,chs in round_channels.items():\n",
    "    for c in chs:\n",
    "        f_intns = fx_intns[i]\n",
    "        f_spots = fx_spots[i]\n",
    "        print(r, c, f_spots, f_intns)\n",
    "\n",
    "        # spots\n",
    "        spots_rc = np.loadtxt(f_spots, delimiter=',')\n",
    "\n",
    "        # filter\n",
    "        # spots_rc = spots_rc[spots_rc[:,3] > 200]\n",
    "\n",
    "        # count spots\n",
    "        res = spot.spot_counts_worker(lb, spots_rc, lb_res,\n",
    "                                      lb_id=lb_id, \n",
    "                                      remove_noncell=True, \n",
    "                                      selected_roi_list=lb_id_selected,\n",
    "                                      )\n",
    "        spotcount[f\"{r}_{c}\"] = res \n",
    "\n",
    "        # count spots by intensity\n",
    "        res = spot.get_spot_counts_from_intn(f_intns, f_spots, roi_meta, lb_res)\n",
    "        spotcount_intn[f'{r}_{c}'] = res\n",
    "        i = i + 1\n",
    "    \n",
    "# save results\n",
    "spotcount.to_csv(out_spots)\n",
    "spotcount_intn.to_csv(out_spots_intn)"
   ]
  },
  {
   "cell_type": "code",
   "execution_count": 24,
   "id": "34116fe0",
   "metadata": {
    "tags": []
   },
   "outputs": [
    {
     "name": "stdout",
     "output_type": "stream",
     "text": [
      "# cells have high density:  r1_c0    1\n",
      "r1_c2    0\n",
      "r2_c0    0\n",
      "r2_c1    0\n",
      "r2_c2    0\n",
      "r2_c4    0\n",
      "dtype: int64\n"
     ]
    },
    {
     "data": {
      "text/html": [
       "<div>\n",
       "<style scoped>\n",
       "    .dataframe tbody tr th:only-of-type {\n",
       "        vertical-align: middle;\n",
       "    }\n",
       "\n",
       "    .dataframe tbody tr th {\n",
       "        vertical-align: top;\n",
       "    }\n",
       "\n",
       "    .dataframe thead th {\n",
       "        text-align: right;\n",
       "    }\n",
       "</style>\n",
       "<table border=\"1\" class=\"dataframe\">\n",
       "  <thead>\n",
       "    <tr style=\"text-align: right;\">\n",
       "      <th></th>\n",
       "      <th>r1_c0</th>\n",
       "      <th>r1_c2</th>\n",
       "      <th>r2_c0</th>\n",
       "      <th>r2_c1</th>\n",
       "      <th>r2_c2</th>\n",
       "      <th>r2_c4</th>\n",
       "    </tr>\n",
       "  </thead>\n",
       "  <tbody>\n",
       "    <tr>\n",
       "      <th>1</th>\n",
       "      <td>27.0</td>\n",
       "      <td>4.0</td>\n",
       "      <td>5.0</td>\n",
       "      <td>11.0</td>\n",
       "      <td>0.0</td>\n",
       "      <td>0.0</td>\n",
       "    </tr>\n",
       "    <tr>\n",
       "      <th>2</th>\n",
       "      <td>65.0</td>\n",
       "      <td>0.0</td>\n",
       "      <td>3.0</td>\n",
       "      <td>8.0</td>\n",
       "      <td>0.0</td>\n",
       "      <td>0.0</td>\n",
       "    </tr>\n",
       "    <tr>\n",
       "      <th>3</th>\n",
       "      <td>1.0</td>\n",
       "      <td>0.0</td>\n",
       "      <td>5.0</td>\n",
       "      <td>15.0</td>\n",
       "      <td>2.0</td>\n",
       "      <td>5.0</td>\n",
       "    </tr>\n",
       "    <tr>\n",
       "      <th>4</th>\n",
       "      <td>0.0</td>\n",
       "      <td>0.0</td>\n",
       "      <td>1.0</td>\n",
       "      <td>10.0</td>\n",
       "      <td>0.0</td>\n",
       "      <td>1.0</td>\n",
       "    </tr>\n",
       "    <tr>\n",
       "      <th>5</th>\n",
       "      <td>2.0</td>\n",
       "      <td>0.0</td>\n",
       "      <td>0.0</td>\n",
       "      <td>9.0</td>\n",
       "      <td>0.0</td>\n",
       "      <td>0.0</td>\n",
       "    </tr>\n",
       "    <tr>\n",
       "      <th>...</th>\n",
       "      <td>...</td>\n",
       "      <td>...</td>\n",
       "      <td>...</td>\n",
       "      <td>...</td>\n",
       "      <td>...</td>\n",
       "      <td>...</td>\n",
       "    </tr>\n",
       "    <tr>\n",
       "      <th>28224</th>\n",
       "      <td>0.0</td>\n",
       "      <td>0.0</td>\n",
       "      <td>0.0</td>\n",
       "      <td>0.0</td>\n",
       "      <td>0.0</td>\n",
       "      <td>0.0</td>\n",
       "    </tr>\n",
       "    <tr>\n",
       "      <th>28225</th>\n",
       "      <td>0.0</td>\n",
       "      <td>0.0</td>\n",
       "      <td>0.0</td>\n",
       "      <td>3.0</td>\n",
       "      <td>1.0</td>\n",
       "      <td>0.0</td>\n",
       "    </tr>\n",
       "    <tr>\n",
       "      <th>28226</th>\n",
       "      <td>0.0</td>\n",
       "      <td>0.0</td>\n",
       "      <td>0.0</td>\n",
       "      <td>11.0</td>\n",
       "      <td>1.0</td>\n",
       "      <td>0.0</td>\n",
       "    </tr>\n",
       "    <tr>\n",
       "      <th>28227</th>\n",
       "      <td>0.0</td>\n",
       "      <td>0.0</td>\n",
       "      <td>0.0</td>\n",
       "      <td>0.0</td>\n",
       "      <td>0.0</td>\n",
       "      <td>0.0</td>\n",
       "    </tr>\n",
       "    <tr>\n",
       "      <th>28228</th>\n",
       "      <td>0.0</td>\n",
       "      <td>0.0</td>\n",
       "      <td>5.0</td>\n",
       "      <td>1.0</td>\n",
       "      <td>0.0</td>\n",
       "      <td>0.0</td>\n",
       "    </tr>\n",
       "  </tbody>\n",
       "</table>\n",
       "<p>28228 rows × 6 columns</p>\n",
       "</div>"
      ],
      "text/plain": [
       "       r1_c0  r1_c2  r2_c0  r2_c1  r2_c2  r2_c4\n",
       "1       27.0    4.0    5.0   11.0    0.0    0.0\n",
       "2       65.0    0.0    3.0    8.0    0.0    0.0\n",
       "3        1.0    0.0    5.0   15.0    2.0    5.0\n",
       "4        0.0    0.0    1.0   10.0    0.0    1.0\n",
       "5        2.0    0.0    0.0    9.0    0.0    0.0\n",
       "...      ...    ...    ...    ...    ...    ...\n",
       "28224    0.0    0.0    0.0    0.0    0.0    0.0\n",
       "28225    0.0    0.0    0.0    3.0    1.0    0.0\n",
       "28226    0.0    0.0    0.0   11.0    1.0    0.0\n",
       "28227    0.0    0.0    0.0    0.0    0.0    0.0\n",
       "28228    0.0    0.0    5.0    1.0    0.0    0.0\n",
       "\n",
       "[28228 rows x 6 columns]"
      ]
     },
     "execution_count": 24,
     "metadata": {},
     "output_type": "execute_result"
    }
   ],
   "source": [
    "# reconcile two spot counts\n",
    "dist_cutoff = 2 # um pre-expansion\n",
    "density = spotcount.divide(roi_meta['area'], axis=0)\n",
    "cond = density < 1/(dist_cutoff**3) # keep spots if density is low\n",
    "\n",
    "print(\"# cells have high density: \", (~cond).sum()) \n",
    "spotcount_merged = spotcount.where(cond, spotcount_intn)  # replace where the condition is False\n",
    "spotcount_merged.to_csv(out_spots_merged)\n",
    "spotcount_merged"
   ]
  },
  {
   "cell_type": "markdown",
   "id": "3e60b4f6-e19b-41df-a780-3b6502360813",
   "metadata": {},
   "source": [
    "# check"
   ]
  },
  {
   "cell_type": "code",
   "execution_count": 25,
   "id": "1a284160-c185-44c8-ace7-b774669a35d0",
   "metadata": {
    "tags": []
   },
   "outputs": [
    {
     "data": {
      "text/plain": [
       "<Axes: ylabel='Count'>"
      ]
     },
     "execution_count": 25,
     "metadata": {},
     "output_type": "execute_result"
    },
    {
     "data": {
      "image/png": "[encoded data removed]",
      "text/plain": [
       "<Figure size 640x480 with 1 Axes>"
      ]
     },
     "metadata": {
      "image/png": {
       "height": 429,
       "width": 627
      }
     },
     "output_type": "display_data"
    }
   ],
   "source": [
    "sns.histplot(spots_rc[:,3], bins=np.linspace(50,1000,50))"
   ]
  },
  {
   "cell_type": "code",
   "execution_count": 28,
   "id": "ebe2efa4-b9fb-46d9-a6f2-3a5bc432f4b8",
   "metadata": {
    "tags": []
   },
   "outputs": [
    {
     "ename": "IndexError",
     "evalue": "index 922 is out of bounds for axis 1 with size 913",
     "output_type": "error",
     "traceback": [
      "\u001b[0;31m---------------------------------------------------------------------------\u001b[0m",
      "\u001b[0;31mIndexError\u001b[0m                                Traceback (most recent call last)",
      "Cell \u001b[0;32mIn[28], line 2\u001b[0m\n\u001b[1;32m      1\u001b[0m spots \u001b[38;5;241m=\u001b[39m np\u001b[38;5;241m.\u001b[39mround(spots_rc[:,:\u001b[38;5;241m3\u001b[39m]\u001b[38;5;241m/\u001b[39mlb_res)\u001b[38;5;241m.\u001b[39mastype(\u001b[38;5;28mint\u001b[39m)\u001b[38;5;241m-\u001b[39m\u001b[38;5;241m1\u001b[39m\n\u001b[0;32m----> 2\u001b[0m spots_lb \u001b[38;5;241m=\u001b[39m \u001b[43mlb\u001b[49m\u001b[43m[\u001b[49m\u001b[43mspots\u001b[49m\u001b[43m[\u001b[49m\u001b[43m:\u001b[49m\u001b[43m,\u001b[49m\u001b[38;5;241;43m2\u001b[39;49m\u001b[43m]\u001b[49m\u001b[43m,\u001b[49m\u001b[43m \u001b[49m\u001b[43mspots\u001b[49m\u001b[43m[\u001b[49m\u001b[43m:\u001b[49m\u001b[43m,\u001b[49m\u001b[38;5;241;43m1\u001b[39;49m\u001b[43m]\u001b[49m\u001b[43m,\u001b[49m\u001b[43m \u001b[49m\u001b[43mspots\u001b[49m\u001b[43m[\u001b[49m\u001b[43m:\u001b[49m\u001b[43m,\u001b[49m\u001b[38;5;241;43m0\u001b[39;49m\u001b[43m]\u001b[49m\u001b[43m]\u001b[49m \u001b[38;5;66;03m# z, y, x\u001b[39;00m\n\u001b[1;32m      3\u001b[0m spots_lb_outside \u001b[38;5;241m=\u001b[39m (spots_lb \u001b[38;5;241m==\u001b[39m \u001b[38;5;241m0\u001b[39m)\n\u001b[1;32m      4\u001b[0m \u001b[38;5;28mprint\u001b[39m(\u001b[38;5;124mf\u001b[39m\u001b[38;5;124m\"\u001b[39m\u001b[38;5;124mfraction of spots outside of cells: \u001b[39m\u001b[38;5;132;01m{\u001b[39;00mspots_lb_outside\u001b[38;5;241m.\u001b[39msum()\u001b[38;5;241m/\u001b[39m\u001b[38;5;28mlen\u001b[39m(spots)\u001b[38;5;132;01m:\u001b[39;00m\u001b[38;5;124m.2f\u001b[39m\u001b[38;5;132;01m}\u001b[39;00m\u001b[38;5;124m\"\u001b[39m)\n",
      "\u001b[0;31mIndexError\u001b[0m: index 922 is out of bounds for axis 1 with size 913"
     ]
    }
   ],
   "source": [
    "spots = np.round(spots_rc[:,:3]/lb_res).astype(int)-1\n",
    "spots_lb = lb[spots[:,2], spots[:,1], spots[:,0]] # z, y, x\n",
    "spots_lb_outside = (spots_lb == 0)\n",
    "print(f\"fraction of spots outside of cells: {spots_lb_outside.sum()/len(spots):.2f}\")\n",
    "print(f\"fraction of space outside of cells: {np.sum(lb==0)/lb.size:.2f}\")"
   ]
  },
  {
   "cell_type": "code",
   "execution_count": 27,
   "id": "3f0ddb0d-581e-4f3f-8199-b861313fa23d",
   "metadata": {
    "tags": []
   },
   "outputs": [
    {
     "name": "stdout",
     "output_type": "stream",
     "text": [
      "CPU times: user 1min 22s, sys: 7.47 s, total: 1min 30s\n",
      "Wall time: 1min 29s\n"
     ]
    }
   ],
   "source": [
    "%%time\n",
    "# shuffle everywhere\n",
    "lb_shuff = lb.copy()\n",
    "np.random.shuffle(np.ravel(lb_shuff))\n",
    "lb_shuff = lb_shuff.reshape(lb.shape)"
   ]
  },
  {
   "cell_type": "code",
   "execution_count": null,
   "id": "958b2b23-7a0c-4e49-a5c0-74757a8237ef",
   "metadata": {
    "tags": []
   },
   "outputs": [],
   "source": [
    "%%time\n",
    "# shuffle in cells\n",
    "i, j, k = lb.nonzero()\n",
    "v = lb[i,j,k]\n",
    "np.random.shuffle(v)\n",
    "lb_shuff2 = np.zeros(lb.shape)\n",
    "lb_shuff2[i,j,k] = v"
   ]
  },
  {
   "cell_type": "code",
   "execution_count": null,
   "id": "a9e6c576-1ca9-4324-aa0e-07a3e39f91fb",
   "metadata": {
    "tags": []
   },
   "outputs": [],
   "source": [
    "res        = spot.spot_counts_worker(lb, spots_rc, lb_res,\n",
    "                              lb_id=lb_id, \n",
    "                              remove_noncell=True, \n",
    "                              selected_roi_list=lb_id_selected,\n",
    "                              )\n",
    "res_shuff  = spot.spot_counts_worker(lb_shuff, spots_rc, lb_res,\n",
    "                              lb_id=lb_id, \n",
    "                              remove_noncell=True, \n",
    "                              selected_roi_list=lb_id_selected,\n",
    "                              )\n",
    "res_shuff2 = spot.spot_counts_worker(lb_shuff2, spots_rc, lb_res,\n",
    "                              lb_id=lb_id, \n",
    "                              remove_noncell=True, \n",
    "                              selected_roi_list=lb_id_selected,\n",
    "                              )"
   ]
  },
  {
   "cell_type": "code",
   "execution_count": null,
   "id": "d64b22da-7bed-4769-943b-a1652aa3698a",
   "metadata": {
    "tags": []
   },
   "outputs": [],
   "source": [
    "plt.scatter(spots_rc[:,0]/ex, spots_rc[:,1]/ex, s=1, edgecolor='none')\n",
    "plt.gca().set_aspect('equal')"
   ]
  },
  {
   "cell_type": "code",
   "execution_count": null,
   "id": "6f18e72c-41d6-4337-88ea-98412e1e19bd",
   "metadata": {
    "tags": []
   },
   "outputs": [],
   "source": [
    "plt.scatter(spots_rc[:,0]/ex, spots_rc[:,2]/ex, s=1, edgecolor='none')\n",
    "plt.gca().set_aspect('equal')"
   ]
  },
  {
   "cell_type": "code",
   "execution_count": null,
   "id": "329acddf-101d-4bd9-8aea-a7ff4e4f3bf0",
   "metadata": {
    "tags": []
   },
   "outputs": [],
   "source": [
    "plt.scatter(spots_rc[:,1]/ex, spots_rc[:,2]/ex, s=1, edgecolor='none')\n",
    "plt.gca().set_aspect('equal')"
   ]
  },
  {
   "cell_type": "code",
   "execution_count": null,
   "id": "bb4512d0-8ecd-40b4-b690-fa62ed6bb7d8",
   "metadata": {
    "tags": []
   },
   "outputs": [],
   "source": [
    "plt.scatter(spotcount.iloc[:,0], \n",
    "            spotcount_intn.iloc[:,0],\n",
    "           )"
   ]
  },
  {
   "cell_type": "code",
   "execution_count": null,
   "id": "22206841-4f35-469e-a75e-aaf6e553df6d",
   "metadata": {
    "tags": []
   },
   "outputs": [],
   "source": [
    "def plot_reverse_cumsum(counts, bins=np.arange(0,11,1), ymax=None):\n",
    "    \"\"\"\n",
    "    \"\"\"\n",
    "    fig, ax = plt.subplots(figsize=(8,6))\n",
    "    ax2 = ax.twinx()\n",
    "    ax.set_xlabel('num spots')\n",
    "    ax.set_ylabel('num cells (cumulative)')\n",
    "    ax2.set_ylabel('fraction of cells')\n",
    "    \n",
    "    n = len(counts)\n",
    "    cnts, _ = np.histogram(counts, bins)\n",
    "    rev_cumsum = n-np.cumsum(cnts)\n",
    "        \n",
    "    ax.plot(bins[1:], rev_cumsum, '-o', )\n",
    "    ax2.plot(bins[1:], rev_cumsum/n, '-o', )\n",
    "    \n",
    "    if ymax:\n",
    "        ax.set_ylim(ymin=0, ymax=ymax)\n",
    "        ax2.set_ylim(ymin=0, ymax=ymax/n)\n",
    "        \n",
    "    ax.grid(False)\n",
    "    ax2.grid(False)\n",
    "    \n",
    "    return fig\n",
    "\n",
    "def plot_reverse_cumsum_complex(counts_list, label_list=None, color_list=None, bins=np.arange(0,11,1), ymax=None):\n",
    "    \"\"\"\n",
    "    \"\"\"\n",
    "    fig, axs = plt.subplots(1,2,figsize=(2*8,6))\n",
    "    ax = axs[0]\n",
    "    ax2 = ax.twinx()\n",
    "    ax.set_xlabel('num spots')\n",
    "    ax.set_ylabel('num cells (cumulative)')\n",
    "    ax2.set_ylabel('fraction of cells')\n",
    "    \n",
    "    if label_list is None:\n",
    "        label_list = np.arange(len(counts_list))\n",
    "    if color_list is None:\n",
    "        color_list = sns.color_palette(n_colors=3)\n",
    "        \n",
    "    cumsum_list = []\n",
    "    n = len(counts_list[0])\n",
    "    for counts in counts_list:\n",
    "        assert n == len(counts) # assumes len(counts) is the same\n",
    "        cnts, _ = np.histogram(counts, bins)\n",
    "        rev_cumsum = n-np.cumsum(cnts)\n",
    "        cumsum_list.append(rev_cumsum)\n",
    "        \n",
    "    for revcnts, lb, color in zip(cumsum_list, label_list, color_list):\n",
    "        ax.plot(bins[1:], revcnts, '-o', label=lb, color=color)\n",
    "        ax2.plot(bins[1:], revcnts/n, '-o', label=lb, color=color)\n",
    "    \n",
    "    if ymax:\n",
    "        ax.set_ylim(ymin=0, ymax=ymax)\n",
    "        ax2.set_ylim(ymin=0, ymax=ymax/n)\n",
    "        \n",
    "    ax.grid(False)\n",
    "    ax2.grid(False)\n",
    "    \n",
    "    ax = axs[1]\n",
    "    lb = label_list[1]\n",
    "    color = color_list[1]\n",
    "    ax.plot(bins[1:], cumsum_list[1]/cumsum_list[0], '-o', label=lb, color=color)\n",
    "    \n",
    "    lb = label_list[2]\n",
    "    color = color_list[2]\n",
    "    ax.plot(bins[1:], cumsum_list[2]/cumsum_list[0], '-o', label=lb, color=color)\n",
    "    ax.set_yscale('log')\n",
    "    ax.set_yticks([1,0.1,0.05,0.01])\n",
    "    ax.set_yticklabels([1,0.1,0.05, 0.01])\n",
    "    ax.set_ylabel('eFDR (shuff/data)')\n",
    "    \n",
    "    fig.subplots_adjust(wspace=0.4)\n",
    "    \n",
    "    return fig, axs\n",
    "\n",
    "def plot_frac(data, shff, bins=np.arange(0,11,1)):\n",
    "    \"\"\"\n",
    "    \"\"\"\n",
    "    fig, ax = plt.subplots()\n",
    "    \n",
    "    cnts_data, bins = np.histogram(data, bins)\n",
    "    cnts_shff, bins = np.histogram(shff, bins)\n",
    "    \n",
    "    ax.plot(bins[1:], cnts_shff/cnts_data, '-o')\n",
    "    ax.set_yscale('log')\n",
    "    ax.set_yticks([1,0.1,0.05,0.01])\n",
    "    ax.set_yticklabels([1,0.1,0.05, 0.01])\n",
    "    \n",
    "    return fig"
   ]
  },
  {
   "cell_type": "code",
   "execution_count": null,
   "id": "0a59e69b-35b6-49d8-b812-8a6c7b86f350",
   "metadata": {
    "tags": []
   },
   "outputs": [],
   "source": [
    "counts = res.values\n",
    "counts_shuff  = res_shuff.values\n",
    "counts_shuff2 = res_shuff2.values\n",
    "\n",
    "fig = plot_reverse_cumsum(counts)\n",
    "plt.show()\n",
    "\n",
    "fig, axs = plot_reverse_cumsum_complex([counts, counts_shuff, counts_shuff2], \n",
    "                                label_list=['data', 'shuffled', 'shuffled in cells'],\n",
    "                                color_list=['C0', 'black', 'gray'],\n",
    "                                ymax=15000,\n",
    "                               )\n",
    "axs[0].legend()\n",
    "plt.show()"
   ]
  },
  {
   "cell_type": "code",
   "execution_count": null,
   "id": "30462d9e-c220-414b-9944-a47b9c83c950",
   "metadata": {
    "tags": []
   },
   "outputs": [],
   "source": [
    "table = roi_meta.join(spotcount) #_merged)\n",
    "table = table.join(spotcount_intn, lsuffix='', rsuffix='_intn') #_merged)\n",
    "table"
   ]
  },
  {
   "cell_type": "code",
   "execution_count": null,
   "id": "0fbc5e6e-28a2-49ec-befb-186615e38e5d",
   "metadata": {
    "tags": []
   },
   "outputs": [],
   "source": [
    "cond = table['r2_c0']>8\n",
    "\n",
    "fig, axs = plt.subplots(1, 3, figsize=(3*8,1*6))\n",
    "ax = axs[0]\n",
    "g = ax.scatter(table['x'], table['y'], c='lightgray', s=1, edgecolor='none')\n",
    "g = ax.scatter(table['x'][cond], table['y'][cond], c='red', s=3, edgecolor='none')\n",
    "# fig.colorbar(g, shrink=0.3)\n",
    "ax.set_aspect('equal')\n",
    "\n",
    "ax = axs[1]\n",
    "g = ax.scatter(table['x'], table['z'], c='lightgray', s=1, edgecolor='none')\n",
    "g = ax.scatter(table['x'][cond], table['z'][cond], c='red', s=3, edgecolor='none')\n",
    "# fig.colorbar(g, shrink=0.3)\n",
    "ax.set_aspect('equal')\n",
    "\n",
    "ax = axs[2]\n",
    "g = ax.scatter(table['y'], table['z'], c='lightgray', s=1, edgecolor='none')\n",
    "g = ax.scatter(table['y'][cond], table['z'][cond], c='red', s=3, edgecolor='none')\n",
    "# fig.colorbar(g, shrink=0.3)\n",
    "ax.set_aspect('equal')\n",
    "plt.show()"
   ]
  },
  {
   "cell_type": "code",
   "execution_count": null,
   "id": "71dfaba3-5aeb-444f-bd57-c3a62e775d88",
   "metadata": {},
   "outputs": [],
   "source": [
    "\n",
    "cond = table['r2_c0_intn']>50\n",
    "\n",
    "fig, axs = plt.subplots(1, 3, figsize=(3*8,1*6))\n",
    "ax = axs[0]\n",
    "g = ax.scatter(table['x'], table['y'], c='lightgray', s=1, edgecolor='none')\n",
    "g = ax.scatter(table['x'][cond], table['y'][cond], c='red', s=3, edgecolor='none')\n",
    "# fig.colorbar(g, shrink=0.3)\n",
    "ax.set_aspect('equal')\n",
    "\n",
    "ax = axs[1]\n",
    "g = ax.scatter(table['x'], table['z'], c='lightgray', s=1, edgecolor='none')\n",
    "g = ax.scatter(table['x'][cond], table['z'][cond], c='red', s=3, edgecolor='none')\n",
    "# fig.colorbar(g, shrink=0.3)\n",
    "ax.set_aspect('equal')\n",
    "\n",
    "ax = axs[2]\n",
    "g = ax.scatter(table['y'], table['z'], c='lightgray', s=1, edgecolor='none')\n",
    "g = ax.scatter(table['y'][cond], table['z'][cond], c='red', s=3, edgecolor='none')\n",
    "# fig.colorbar(g, shrink=0.3)\n",
    "ax.set_aspect('equal')\n",
    "plt.show()"
   ]
  },
  {
   "cell_type": "code",
   "execution_count": null,
   "id": "9ddea9cc-5022-4b33-bc4f-fdfe32137af7",
   "metadata": {
    "tags": []
   },
   "outputs": [],
   "source": [
    "\n",
    "for i in [1,2,5,8,10]:\n",
    "    cond = table['r2_c0']>=i\n",
    "    \n",
    "    fig, axs = plt.subplots(1, 3, figsize=(3*8,1*6))\n",
    "    fig.suptitle(f\">= {i} spots (n={cond.sum()})\")\n",
    "    ax = axs[0]\n",
    "    g = ax.scatter(table['x'], table['y'], c='lightgray', s=1, edgecolor='none')\n",
    "    g = ax.scatter(table['x'][cond], table['y'][cond], c='red', s=3, edgecolor='none')\n",
    "    # fig.colorbar(g, shrink=0.3)\n",
    "    ax.set_aspect('equal')\n",
    "\n",
    "    ax = axs[1]\n",
    "    g = ax.scatter(table['x'], table['z'], c='lightgray', s=1, edgecolor='none')\n",
    "    g = ax.scatter(table['x'][cond], table['z'][cond], c='red', s=3, edgecolor='none')\n",
    "    # fig.colorbar(g, shrink=0.3)\n",
    "    ax.set_aspect('equal')\n",
    "\n",
    "    ax = axs[2]\n",
    "    g = ax.scatter(table['y'], table['z'], c='lightgray', s=1, edgecolor='none')\n",
    "    g = ax.scatter(table['y'][cond], table['z'][cond], c='red', s=3, edgecolor='none')\n",
    "    # fig.colorbar(g, shrink=0.3)\n",
    "    ax.set_aspect('equal')\n",
    "    plt.show()\n"
   ]
  },
  {
   "cell_type": "code",
   "execution_count": null,
   "id": "97836aa4-b8c6-4817-821f-a3f140e6c3dd",
   "metadata": {},
   "outputs": [],
   "source": [
    "names = [\n",
    "    \"Sorcs3\",\n",
    "    \"Kcnq5\",\n",
    "    \"Chrm2\",\n",
    "    \"Adamts2\",\n",
    "]\n",
    "\n",
    "for ch, nm in zip(\n",
    "    ['r2_c0', 'r2_c1', 'r2_c2', 'r2_c4'], \n",
    "      names,\n",
    "    ):\n",
    "    i = 3\n",
    "    cond = table[ch]>=i\n",
    "    \n",
    "    fig, axs = plt.subplots(1, 3, figsize=(3*8,1*6))\n",
    "    fig.suptitle(f\">= {i} spots (n={cond.sum()}) - {nm}\")\n",
    "    ax = axs[0]\n",
    "    g = ax.scatter(table['x'], table['y'], c='lightgray', s=1, edgecolor='none')\n",
    "    g = ax.scatter(table['x'][cond], table['y'][cond], c='red', s=3, edgecolor='none')\n",
    "    # fig.colorbar(g, shrink=0.3)\n",
    "    ax.set_aspect('equal')\n",
    "\n",
    "    ax = axs[1]\n",
    "    g = ax.scatter(table['x'], table['z'], c='lightgray', s=1, edgecolor='none')\n",
    "    g = ax.scatter(table['x'][cond], table['z'][cond], c='red', s=3, edgecolor='none')\n",
    "    # fig.colorbar(g, shrink=0.3)\n",
    "    ax.set_aspect('equal')\n",
    "\n",
    "    ax = axs[2]\n",
    "    g = ax.scatter(table['y'], table['z'], c='lightgray', s=1, edgecolor='none')\n",
    "    g = ax.scatter(table['y'][cond], table['z'][cond], c='red', s=3, edgecolor='none')\n",
    "    # fig.colorbar(g, shrink=0.3)\n",
    "    ax.set_aspect('equal')\n",
    "    plt.show()"
   ]
  },
  {
   "cell_type": "code",
   "execution_count": null,
   "id": "d8deb631-a87b-40ad-bd31-979d53596ec4",
   "metadata": {},
   "outputs": [],
   "source": []
  }
 ],
 "metadata": {
  "kernelspec": {
   "display_name": "Python 3 (ipykernel)",
   "language": "python",
   "name": "python3"
  },
  "language_info": {
   "codemirror_mode": {
    "name": "ipython",
    "version": 3
   },
   "file_extension": ".py",
   "mimetype": "text/x-python",
   "name": "python",
   "nbconvert_exporter": "python",
   "pygments_lexer": "ipython3",
   "version": "3.9.16"
  }
 },
 "nbformat": 4,
 "nbformat_minor": 5
}
