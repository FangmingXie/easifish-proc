{
 "cells": [
  {
   "cell_type": "markdown",
   "metadata": {},
   "source": [
    "### Load packages"
   ]
  },
  {
   "cell_type": "code",
   "execution_count": 1,
   "metadata": {
    "scrolled": true
   },
   "outputs": [],
   "source": [
    "import os, sys\n",
    "import numpy as np\n",
    "import pandas as pd\n",
    "from glob import glob \n",
    "from skimage.io import imread, imsave\n",
    "import zarr\n",
    "import napari"
   ]
  },
  {
   "cell_type": "markdown",
   "metadata": {},
   "source": [
    "### Start Napari viewer"
   ]
  },
  {
   "cell_type": "code",
   "execution_count": 2,
   "metadata": {},
   "outputs": [
    {
     "name": "stderr",
     "output_type": "stream",
     "text": [
      "C:\\Users\\zeiss\\anaconda3\\envs\\easifish\\lib\\site-packages\\napari_tools_menu\\__init__.py:194: FutureWarning: Public access to Window.qt_viewer is deprecated and will be removed in\n",
      "v0.5.0. It is considered an \"implementation detail\" of the napari\n",
      "application, not part of the napari viewer model. If your use case\n",
      "requires access to qt_viewer, please open an issue to discuss.\n",
      "  self.tools_menu = ToolsMenu(self, self.qt_viewer.viewer)\n"
     ]
    }
   ],
   "source": [
    "%gui qt\n",
    "napari.gui_qt()\n",
    "viewer = napari.Viewer(ndisplay=3)"
   ]
  },
  {
   "cell_type": "markdown",
   "metadata": {},
   "source": [
    "### Specify directory to data files"
   ]
  },
  {
   "cell_type": "code",
   "execution_count": 3,
   "metadata": {},
   "outputs": [],
   "source": [
    "roi_dir='test-oct6_epsilon1\\\\roi.csv'\n",
    "lb_dir='lt172_gene_r3\\\\segmentation\\\\lt172_gene_r3-c3.tif'\n",
    "spot_dir='D:\\\\SWAP\\\\Vincent\\\\lt172_exps\\\\gene\\\\outputs\\\\spots_pooled\\\\spots_r3_c0.txt'\n",
    "imdir=\"lt172_gene_r3\\\\export.n5\""
   ]
  },
  {
   "cell_type": "markdown",
   "metadata": {},
   "source": [
    "### Specify ROI ID, block size and image channel "
   ]
  },
  {
   "cell_type": "code",
   "execution_count": 4,
   "metadata": {},
   "outputs": [],
   "source": [
    "#Input information here: cell ID, image block size, channels\n",
    "cell_id = 15 \n",
    "\n",
    "#define the size of the block to display around the ROI\n",
    "dx,dy,dz=[100,100,50]  # in pixel \n",
    "channel_1='c3'\n",
    "channel_2='c0'"
   ]
  },
  {
   "cell_type": "markdown",
   "metadata": {},
   "source": [
    "### Load data"
   ]
  },
  {
   "cell_type": "code",
   "execution_count": 5,
   "metadata": {},
   "outputs": [
    {
     "data": {
      "text/html": [
       "<div>\n",
       "<style scoped>\n",
       "    .dataframe tbody tr th:only-of-type {\n",
       "        vertical-align: middle;\n",
       "    }\n",
       "\n",
       "    .dataframe tbody tr th {\n",
       "        vertical-align: top;\n",
       "    }\n",
       "\n",
       "    .dataframe thead th {\n",
       "        text-align: right;\n",
       "    }\n",
       "</style>\n",
       "<table border=\"1\" class=\"dataframe\">\n",
       "  <thead>\n",
       "    <tr style=\"text-align: right;\">\n",
       "      <th></th>\n",
       "      <th>z</th>\n",
       "      <th>y</th>\n",
       "      <th>x</th>\n",
       "      <th>area</th>\n",
       "    </tr>\n",
       "    <tr>\n",
       "      <th>roi</th>\n",
       "      <th></th>\n",
       "      <th></th>\n",
       "      <th></th>\n",
       "      <th></th>\n",
       "    </tr>\n",
       "  </thead>\n",
       "  <tbody>\n",
       "    <tr>\n",
       "      <th>1</th>\n",
       "      <td>158.002679</td>\n",
       "      <td>113.900479</td>\n",
       "      <td>250.167418</td>\n",
       "      <td>1469.498520</td>\n",
       "    </tr>\n",
       "    <tr>\n",
       "      <th>2</th>\n",
       "      <td>295.632291</td>\n",
       "      <td>50.414473</td>\n",
       "      <td>255.207682</td>\n",
       "      <td>1284.644760</td>\n",
       "    </tr>\n",
       "    <tr>\n",
       "      <th>3</th>\n",
       "      <td>158.609342</td>\n",
       "      <td>43.333067</td>\n",
       "      <td>347.254401</td>\n",
       "      <td>1356.453336</td>\n",
       "    </tr>\n",
       "    <tr>\n",
       "      <th>4</th>\n",
       "      <td>281.253706</td>\n",
       "      <td>57.066587</td>\n",
       "      <td>306.891305</td>\n",
       "      <td>1508.424456</td>\n",
       "    </tr>\n",
       "    <tr>\n",
       "      <th>5</th>\n",
       "      <td>279.531618</td>\n",
       "      <td>156.364789</td>\n",
       "      <td>237.923032</td>\n",
       "      <td>1414.131264</td>\n",
       "    </tr>\n",
       "    <tr>\n",
       "      <th>...</th>\n",
       "      <td>...</td>\n",
       "      <td>...</td>\n",
       "      <td>...</td>\n",
       "      <td>...</td>\n",
       "    </tr>\n",
       "    <tr>\n",
       "      <th>10038</th>\n",
       "      <td>185.404246</td>\n",
       "      <td>135.635883</td>\n",
       "      <td>183.955516</td>\n",
       "      <td>164.502072</td>\n",
       "    </tr>\n",
       "    <tr>\n",
       "      <th>10039</th>\n",
       "      <td>91.481847</td>\n",
       "      <td>46.423266</td>\n",
       "      <td>134.057193</td>\n",
       "      <td>468.533184</td>\n",
       "    </tr>\n",
       "    <tr>\n",
       "      <th>10040</th>\n",
       "      <td>163.406428</td>\n",
       "      <td>164.625958</td>\n",
       "      <td>75.953493</td>\n",
       "      <td>223.157592</td>\n",
       "    </tr>\n",
       "    <tr>\n",
       "      <th>10041</th>\n",
       "      <td>197.561995</td>\n",
       "      <td>132.605191</td>\n",
       "      <td>396.488357</td>\n",
       "      <td>295.854888</td>\n",
       "    </tr>\n",
       "    <tr>\n",
       "      <th>10042</th>\n",
       "      <td>141.406947</td>\n",
       "      <td>172.377102</td>\n",
       "      <td>57.531183</td>\n",
       "      <td>200.584104</td>\n",
       "    </tr>\n",
       "  </tbody>\n",
       "</table>\n",
       "<p>9723 rows × 4 columns</p>\n",
       "</div>"
      ],
      "text/plain": [
       "                z           y           x         area\n",
       "roi                                                   \n",
       "1      158.002679  113.900479  250.167418  1469.498520\n",
       "2      295.632291   50.414473  255.207682  1284.644760\n",
       "3      158.609342   43.333067  347.254401  1356.453336\n",
       "4      281.253706   57.066587  306.891305  1508.424456\n",
       "5      279.531618  156.364789  237.923032  1414.131264\n",
       "...           ...         ...         ...          ...\n",
       "10038  185.404246  135.635883  183.955516   164.502072\n",
       "10039   91.481847   46.423266  134.057193   468.533184\n",
       "10040  163.406428  164.625958   75.953493   223.157592\n",
       "10041  197.561995  132.605191  396.488357   295.854888\n",
       "10042  141.406947  172.377102   57.531183   200.584104\n",
       "\n",
       "[9723 rows x 4 columns]"
      ]
     },
     "execution_count": 5,
     "metadata": {},
     "output_type": "execute_result"
    }
   ],
   "source": [
    "roi = pd.read_csv(roi_dir,sep=',', index_col=0) #, index_col=1)\n",
    "roi"
   ]
  },
  {
   "cell_type": "code",
   "execution_count": 6,
   "metadata": {},
   "outputs": [],
   "source": [
    "# get n5 image data for channel 1\n",
    "im = zarr.open(store=zarr.N5Store(imdir), mode='r')\n",
    "_img = im[channel_1+'/s2']\n",
    "zdim, ydim, xdim = _img.shape"
   ]
  },
  {
   "cell_type": "code",
   "execution_count": 7,
   "metadata": {},
   "outputs": [
    {
     "data": {
      "text/plain": [
       "array([[ 50.56512472, 100.1071203 , 100.51405115]])"
      ]
     },
     "execution_count": 7,
     "metadata": {},
     "output_type": "execute_result"
    }
   ],
   "source": [
    "lb=imread(lb_dir)\n",
    "z=roi.loc[cell_id,'z']*2/0.84 # convert to pixel \n",
    "y=roi.loc[cell_id,'y']*2/0.92 # convert to pixel \n",
    "x=roi.loc[cell_id,'x']*2/0.92 # convert to pixel \n",
    "Z=int(z)\n",
    "Y=int(y)\n",
    "X=int(x)\n",
    "\n",
    "z_min, z_max = max(0, Z-dz), min(zdim, Z+dz)\n",
    "y_min, y_max = max(0, Y-dy), min(ydim, Y+dy)\n",
    "x_min, x_max = max(0, X-dx), min(xdim, X+dx)\n",
    "\n",
    "#Crop image to show the target cell and surrounding area\n",
    "lb_sub=lb[z_min:z_max, y_min:y_max, x_min:x_max]\n",
    "#Target Cell ID\n",
    "z0 = z - z_min\n",
    "y0 = y - y_min\n",
    "x0 = x - x_min\n",
    "a = np.array([[z0, y0, x0]])\n",
    "a"
   ]
  },
  {
   "cell_type": "markdown",
   "metadata": {},
   "source": [
    "### Display segmentation mask, image data and the position of the specified ROI"
   ]
  },
  {
   "cell_type": "code",
   "execution_count": 8,
   "metadata": {},
   "outputs": [
    {
     "name": "stderr",
     "output_type": "stream",
     "text": [
      "C:\\Users\\zeiss\\anaconda3\\envs\\easifish\\lib\\site-packages\\numpy\\core\\numeric.py:2449: FutureWarning: elementwise comparison failed; returning scalar instead, but in the future will perform elementwise comparison\n",
      "  return bool(asarray(a1 == a2).all())\n"
     ]
    },
    {
     "data": {
      "text/plain": [
       "<Labels layer 'labels' at 0x23449bfb640>"
      ]
     },
     "execution_count": 8,
     "metadata": {},
     "output_type": "execute_result"
    }
   ],
   "source": [
    "# get n5 image data for channel 1\n",
    "im = zarr.open(store=zarr.N5Store(imdir), mode='r')\n",
    "img_1 = im[channel_1+'/s2'][z_min:z_max, y_min:y_max, x_min:x_max]\n",
    "viewer.add_image(img_1,colormap='green',blending='additive')\n",
    "\n",
    "#get n5 image data for channel 2\n",
    "if channel_2!='':\n",
    "    im = zarr.open(store=zarr.N5Store(imdir), mode='r')   \n",
    "    img_2 = im[channel_2+'/s2'][z_min:z_max, y_min:y_max, x_min:x_max]\n",
    "    viewer.add_image(img_2.astype('float32'),colormap='gray',blending='additive')\n",
    "    \n",
    "# x, y, z are cell centroid location (in pixel)\n",
    "zo = z - z_min\n",
    "yo = y - y_min\n",
    "xo = x - x_min\n",
    "\n",
    "a = np.array([[zo, yo, xo]])\n",
    "\n",
    "viewer.add_points(a, size=5, face_color='red',edge_color='red',name='cell_centroid_position')\n",
    "viewer.add_labels(lb_sub.astype('uint32'),name='labels',blending='additive')"
   ]
  },
  {
   "cell_type": "markdown",
   "metadata": {},
   "source": [
    "### Spot detection can also be visualized "
   ]
  },
  {
   "cell_type": "code",
   "execution_count": 9,
   "metadata": {},
   "outputs": [],
   "source": [
    "spot=np.loadtxt(spot_dir,delimiter=',')\n",
    "vox=[0.92,0.92,0.84]  #current image voxel size\n",
    "spot[:,:3]=spot[:,:3]/vox"
   ]
  },
  {
   "cell_type": "markdown",
   "metadata": {},
   "source": [
    "### Display spot detection in selected image block"
   ]
  },
  {
   "cell_type": "code",
   "execution_count": 10,
   "metadata": {},
   "outputs": [],
   "source": [
    "_x = spot[:,0]\n",
    "_y = spot[:,1]\n",
    "_z = spot[:,2]\n",
    "conditions = [\n",
    "    _x <= x_max,\n",
    "    _y <= y_max,\n",
    "    _z <= z_max,\n",
    "    \n",
    "    _x >  x_min,\n",
    "    _y >  y_min,\n",
    "    _z >  z_min,\n",
    "]\n",
    "cond = (np.sum(conditions, axis=0) == 6) # all six conditions has to be satified to be pulled"
   ]
  },
  {
   "cell_type": "code",
   "execution_count": 11,
   "metadata": {},
   "outputs": [
    {
     "name": "stderr",
     "output_type": "stream",
     "text": [
      "C:\\Users\\zeiss\\anaconda3\\envs\\easifish\\lib\\site-packages\\numpy\\core\\numeric.py:2449: FutureWarning: elementwise comparison failed; returning scalar instead, but in the future will perform elementwise comparison\n",
      "  return bool(asarray(a1 == a2).all())\n"
     ]
    },
    {
     "data": {
      "text/plain": [
       "<Points layer 'detected_spots' at 0x2344985bca0>"
      ]
     },
     "execution_count": 11,
     "metadata": {},
     "output_type": "execute_result"
    }
   ],
   "source": [
    "b = spot[cond]\n",
    "\n",
    "bx=b[:,0]-x_min\n",
    "by=b[:,1]-y_min\n",
    "bz=b[:,2]-z_min\n",
    "point=np.stack((bz,by,bx),axis=-1)\n",
    "viewer.add_points(point, size=1, face_color='red',edge_color='red',name='detected_spots')"
   ]
  },
  {
   "cell_type": "code",
   "execution_count": 12,
   "metadata": {},
   "outputs": [
    {
     "data": {
      "text/html": [
       "<div>\n",
       "<style scoped>\n",
       "    .dataframe tbody tr th:only-of-type {\n",
       "        vertical-align: middle;\n",
       "    }\n",
       "\n",
       "    .dataframe tbody tr th {\n",
       "        vertical-align: top;\n",
       "    }\n",
       "\n",
       "    .dataframe thead th {\n",
       "        text-align: right;\n",
       "    }\n",
       "</style>\n",
       "<table border=\"1\" class=\"dataframe\">\n",
       "  <thead>\n",
       "    <tr style=\"text-align: right;\">\n",
       "      <th></th>\n",
       "      <th>r1_c0</th>\n",
       "      <th>r1_c1</th>\n",
       "      <th>r1_c2</th>\n",
       "      <th>r1_c4</th>\n",
       "      <th>r3_c0</th>\n",
       "      <th>r3_c1</th>\n",
       "      <th>r3_c2</th>\n",
       "      <th>r3_c4</th>\n",
       "      <th>r4_c0</th>\n",
       "      <th>r4_c1</th>\n",
       "      <th>...</th>\n",
       "      <th>r5_c4_log2</th>\n",
       "      <th>ybin</th>\n",
       "      <th>xbin</th>\n",
       "      <th>zbin</th>\n",
       "      <th>bins_zb</th>\n",
       "      <th>bins_zb_4p</th>\n",
       "      <th>bins_xb</th>\n",
       "      <th>clst_l1</th>\n",
       "      <th>clst_l2</th>\n",
       "      <th>clst_l3</th>\n",
       "    </tr>\n",
       "    <tr>\n",
       "      <th>roi</th>\n",
       "      <th></th>\n",
       "      <th></th>\n",
       "      <th></th>\n",
       "      <th></th>\n",
       "      <th></th>\n",
       "      <th></th>\n",
       "      <th></th>\n",
       "      <th></th>\n",
       "      <th></th>\n",
       "      <th></th>\n",
       "      <th></th>\n",
       "      <th></th>\n",
       "      <th></th>\n",
       "      <th></th>\n",
       "      <th></th>\n",
       "      <th></th>\n",
       "      <th></th>\n",
       "      <th></th>\n",
       "      <th></th>\n",
       "      <th></th>\n",
       "      <th></th>\n",
       "    </tr>\n",
       "  </thead>\n",
       "  <tbody>\n",
       "    <tr>\n",
       "      <th>1</th>\n",
       "      <td>21.728455</td>\n",
       "      <td>54.321137</td>\n",
       "      <td>0.000000</td>\n",
       "      <td>0.000000</td>\n",
       "      <td>36.938373</td>\n",
       "      <td>70.255337</td>\n",
       "      <td>5.069973</td>\n",
       "      <td>2.172845</td>\n",
       "      <td>15.934200</td>\n",
       "      <td>132.435176</td>\n",
       "      <td>...</td>\n",
       "      <td>0.000000</td>\n",
       "      <td>(262.626, 266.667]</td>\n",
       "      <td>(246.465, 250.505]</td>\n",
       "      <td>(157.576, 161.616]</td>\n",
       "      <td>(150, 200]</td>\n",
       "      <td>(100, 200]</td>\n",
       "      <td>(250, 300]</td>\n",
       "      <td>2</td>\n",
       "      <td>7</td>\n",
       "      <td>17</td>\n",
       "    </tr>\n",
       "    <tr>\n",
       "      <th>2</th>\n",
       "      <td>3.314009</td>\n",
       "      <td>28.997579</td>\n",
       "      <td>1.657004</td>\n",
       "      <td>1.657004</td>\n",
       "      <td>16.570045</td>\n",
       "      <td>84.507229</td>\n",
       "      <td>3.314009</td>\n",
       "      <td>3.314009</td>\n",
       "      <td>16.570045</td>\n",
       "      <td>24.855067</td>\n",
       "      <td>...</td>\n",
       "      <td>0.000000</td>\n",
       "      <td>(323.232, 327.273]</td>\n",
       "      <td>(254.545, 258.586]</td>\n",
       "      <td>(294.949, 298.99]</td>\n",
       "      <td>(250, 300]</td>\n",
       "      <td>(200, 300]</td>\n",
       "      <td>(250, 300]</td>\n",
       "      <td>2</td>\n",
       "      <td>7</td>\n",
       "      <td>17</td>\n",
       "    </tr>\n",
       "    <tr>\n",
       "      <th>3</th>\n",
       "      <td>6.277141</td>\n",
       "      <td>38.447487</td>\n",
       "      <td>0.000000</td>\n",
       "      <td>6.277141</td>\n",
       "      <td>10.984996</td>\n",
       "      <td>112.203892</td>\n",
       "      <td>3.138570</td>\n",
       "      <td>10.200354</td>\n",
       "      <td>17.262137</td>\n",
       "      <td>9.415711</td>\n",
       "      <td>...</td>\n",
       "      <td>0.000000</td>\n",
       "      <td>(331.313, 335.354]</td>\n",
       "      <td>(343.434, 347.475]</td>\n",
       "      <td>(157.576, 161.616]</td>\n",
       "      <td>(150, 200]</td>\n",
       "      <td>(100, 200]</td>\n",
       "      <td>(300, 350]</td>\n",
       "      <td>2</td>\n",
       "      <td>9</td>\n",
       "      <td>19</td>\n",
       "    </tr>\n",
       "    <tr>\n",
       "      <th>4</th>\n",
       "      <td>23.990102</td>\n",
       "      <td>35.279562</td>\n",
       "      <td>2.116774</td>\n",
       "      <td>0.000000</td>\n",
       "      <td>15.523007</td>\n",
       "      <td>69.853532</td>\n",
       "      <td>3.527956</td>\n",
       "      <td>4.233547</td>\n",
       "      <td>5.644730</td>\n",
       "      <td>261.532646</td>\n",
       "      <td>...</td>\n",
       "      <td>0.000000</td>\n",
       "      <td>(319.192, 323.232]</td>\n",
       "      <td>(303.03, 307.071]</td>\n",
       "      <td>(278.788, 282.828]</td>\n",
       "      <td>(250, 300]</td>\n",
       "      <td>(200, 300]</td>\n",
       "      <td>(300, 350]</td>\n",
       "      <td>2</td>\n",
       "      <td>7</td>\n",
       "      <td>17</td>\n",
       "    </tr>\n",
       "    <tr>\n",
       "      <th>5</th>\n",
       "      <td>6.773756</td>\n",
       "      <td>21.073906</td>\n",
       "      <td>0.752640</td>\n",
       "      <td>1.505279</td>\n",
       "      <td>27.847662</td>\n",
       "      <td>57.200603</td>\n",
       "      <td>3.763198</td>\n",
       "      <td>3.010558</td>\n",
       "      <td>16.558069</td>\n",
       "      <td>8.279035</td>\n",
       "      <td>...</td>\n",
       "      <td>0.000000</td>\n",
       "      <td>(218.182, 222.222]</td>\n",
       "      <td>(234.343, 238.384]</td>\n",
       "      <td>(278.788, 282.828]</td>\n",
       "      <td>(250, 300]</td>\n",
       "      <td>(200, 300]</td>\n",
       "      <td>(200, 250]</td>\n",
       "      <td>2</td>\n",
       "      <td>7</td>\n",
       "      <td>17</td>\n",
       "    </tr>\n",
       "    <tr>\n",
       "      <th>...</th>\n",
       "      <td>...</td>\n",
       "      <td>...</td>\n",
       "      <td>...</td>\n",
       "      <td>...</td>\n",
       "      <td>...</td>\n",
       "      <td>...</td>\n",
       "      <td>...</td>\n",
       "      <td>...</td>\n",
       "      <td>...</td>\n",
       "      <td>...</td>\n",
       "      <td>...</td>\n",
       "      <td>...</td>\n",
       "      <td>...</td>\n",
       "      <td>...</td>\n",
       "      <td>...</td>\n",
       "      <td>...</td>\n",
       "      <td>...</td>\n",
       "      <td>...</td>\n",
       "      <td>...</td>\n",
       "      <td>...</td>\n",
       "      <td>...</td>\n",
       "    </tr>\n",
       "    <tr>\n",
       "      <th>9951</th>\n",
       "      <td>4.183755</td>\n",
       "      <td>6.275633</td>\n",
       "      <td>0.000000</td>\n",
       "      <td>0.000000</td>\n",
       "      <td>10.459389</td>\n",
       "      <td>69.031965</td>\n",
       "      <td>0.000000</td>\n",
       "      <td>0.000000</td>\n",
       "      <td>4.183755</td>\n",
       "      <td>106.685764</td>\n",
       "      <td>...</td>\n",
       "      <td>0.000000</td>\n",
       "      <td>(254.545, 258.586]</td>\n",
       "      <td>(109.091, 113.131]</td>\n",
       "      <td>(339.394, 343.434]</td>\n",
       "      <td>(300, 350]</td>\n",
       "      <td>(300, 400]</td>\n",
       "      <td>(100, 150]</td>\n",
       "      <td>2</td>\n",
       "      <td>8</td>\n",
       "      <td>18</td>\n",
       "    </tr>\n",
       "    <tr>\n",
       "      <th>9987</th>\n",
       "      <td>0.000000</td>\n",
       "      <td>11.862459</td>\n",
       "      <td>0.000000</td>\n",
       "      <td>0.000000</td>\n",
       "      <td>5.083911</td>\n",
       "      <td>40.671289</td>\n",
       "      <td>18.641007</td>\n",
       "      <td>11.862459</td>\n",
       "      <td>13.557096</td>\n",
       "      <td>0.000000</td>\n",
       "      <td>...</td>\n",
       "      <td>0.000000</td>\n",
       "      <td>(177.778, 181.818]</td>\n",
       "      <td>(145.455, 149.495]</td>\n",
       "      <td>(113.131, 117.172]</td>\n",
       "      <td>(100, 150]</td>\n",
       "      <td>(100, 200]</td>\n",
       "      <td>(100, 150]</td>\n",
       "      <td>4</td>\n",
       "      <td>12</td>\n",
       "      <td>25</td>\n",
       "    </tr>\n",
       "    <tr>\n",
       "      <th>10009</th>\n",
       "      <td>0.000000</td>\n",
       "      <td>0.000000</td>\n",
       "      <td>6.177442</td>\n",
       "      <td>0.000000</td>\n",
       "      <td>4.118294</td>\n",
       "      <td>4.118294</td>\n",
       "      <td>2.059147</td>\n",
       "      <td>2.059147</td>\n",
       "      <td>0.000000</td>\n",
       "      <td>8.236589</td>\n",
       "      <td>...</td>\n",
       "      <td>0.000000</td>\n",
       "      <td>(294.949, 298.99]</td>\n",
       "      <td>(101.01, 105.051]</td>\n",
       "      <td>(323.232, 327.273]</td>\n",
       "      <td>(300, 350]</td>\n",
       "      <td>(300, 400]</td>\n",
       "      <td>(100, 150]</td>\n",
       "      <td>3</td>\n",
       "      <td>10</td>\n",
       "      <td>20</td>\n",
       "    </tr>\n",
       "    <tr>\n",
       "      <th>10021</th>\n",
       "      <td>0.000000</td>\n",
       "      <td>16.402983</td>\n",
       "      <td>0.000000</td>\n",
       "      <td>3.645107</td>\n",
       "      <td>3.645107</td>\n",
       "      <td>25.515751</td>\n",
       "      <td>5.467661</td>\n",
       "      <td>1.822554</td>\n",
       "      <td>0.000000</td>\n",
       "      <td>0.000000</td>\n",
       "      <td>...</td>\n",
       "      <td>0.000000</td>\n",
       "      <td>(12.121, 16.162]</td>\n",
       "      <td>(137.374, 141.414]</td>\n",
       "      <td>(133.333, 137.374]</td>\n",
       "      <td>(100, 150]</td>\n",
       "      <td>(100, 200]</td>\n",
       "      <td>(100, 150]</td>\n",
       "      <td>3</td>\n",
       "      <td>10</td>\n",
       "      <td>21</td>\n",
       "    </tr>\n",
       "    <tr>\n",
       "      <th>10037</th>\n",
       "      <td>0.000000</td>\n",
       "      <td>5.574554</td>\n",
       "      <td>7.432739</td>\n",
       "      <td>0.000000</td>\n",
       "      <td>20.440031</td>\n",
       "      <td>1.858185</td>\n",
       "      <td>3.716369</td>\n",
       "      <td>1.858185</td>\n",
       "      <td>1.858185</td>\n",
       "      <td>0.000000</td>\n",
       "      <td>...</td>\n",
       "      <td>1.515099</td>\n",
       "      <td>(109.091, 113.131]</td>\n",
       "      <td>(202.02, 206.061]</td>\n",
       "      <td>(238.384, 242.424]</td>\n",
       "      <td>(200, 250]</td>\n",
       "      <td>(200, 300]</td>\n",
       "      <td>(200, 250]</td>\n",
       "      <td>3</td>\n",
       "      <td>10</td>\n",
       "      <td>20</td>\n",
       "    </tr>\n",
       "  </tbody>\n",
       "</table>\n",
       "<p>8535 rows × 46 columns</p>\n",
       "</div>"
      ],
      "text/plain": [
       "           r1_c0      r1_c1     r1_c2     r1_c4      r3_c0       r3_c1  \\\n",
       "roi                                                                      \n",
       "1      21.728455  54.321137  0.000000  0.000000  36.938373   70.255337   \n",
       "2       3.314009  28.997579  1.657004  1.657004  16.570045   84.507229   \n",
       "3       6.277141  38.447487  0.000000  6.277141  10.984996  112.203892   \n",
       "4      23.990102  35.279562  2.116774  0.000000  15.523007   69.853532   \n",
       "5       6.773756  21.073906  0.752640  1.505279  27.847662   57.200603   \n",
       "...          ...        ...       ...       ...        ...         ...   \n",
       "9951    4.183755   6.275633  0.000000  0.000000  10.459389   69.031965   \n",
       "9987    0.000000  11.862459  0.000000  0.000000   5.083911   40.671289   \n",
       "10009   0.000000   0.000000  6.177442  0.000000   4.118294    4.118294   \n",
       "10021   0.000000  16.402983  0.000000  3.645107   3.645107   25.515751   \n",
       "10037   0.000000   5.574554  7.432739  0.000000  20.440031    1.858185   \n",
       "\n",
       "           r3_c2      r3_c4      r4_c0       r4_c1  ...  r5_c4_log2  \\\n",
       "roi                                                 ...               \n",
       "1       5.069973   2.172845  15.934200  132.435176  ...    0.000000   \n",
       "2       3.314009   3.314009  16.570045   24.855067  ...    0.000000   \n",
       "3       3.138570  10.200354  17.262137    9.415711  ...    0.000000   \n",
       "4       3.527956   4.233547   5.644730  261.532646  ...    0.000000   \n",
       "5       3.763198   3.010558  16.558069    8.279035  ...    0.000000   \n",
       "...          ...        ...        ...         ...  ...         ...   \n",
       "9951    0.000000   0.000000   4.183755  106.685764  ...    0.000000   \n",
       "9987   18.641007  11.862459  13.557096    0.000000  ...    0.000000   \n",
       "10009   2.059147   2.059147   0.000000    8.236589  ...    0.000000   \n",
       "10021   5.467661   1.822554   0.000000    0.000000  ...    0.000000   \n",
       "10037   3.716369   1.858185   1.858185    0.000000  ...    1.515099   \n",
       "\n",
       "                     ybin                xbin                zbin     bins_zb  \\\n",
       "roi                                                                             \n",
       "1      (262.626, 266.667]  (246.465, 250.505]  (157.576, 161.616]  (150, 200]   \n",
       "2      (323.232, 327.273]  (254.545, 258.586]   (294.949, 298.99]  (250, 300]   \n",
       "3      (331.313, 335.354]  (343.434, 347.475]  (157.576, 161.616]  (150, 200]   \n",
       "4      (319.192, 323.232]   (303.03, 307.071]  (278.788, 282.828]  (250, 300]   \n",
       "5      (218.182, 222.222]  (234.343, 238.384]  (278.788, 282.828]  (250, 300]   \n",
       "...                   ...                 ...                 ...         ...   \n",
       "9951   (254.545, 258.586]  (109.091, 113.131]  (339.394, 343.434]  (300, 350]   \n",
       "9987   (177.778, 181.818]  (145.455, 149.495]  (113.131, 117.172]  (100, 150]   \n",
       "10009   (294.949, 298.99]   (101.01, 105.051]  (323.232, 327.273]  (300, 350]   \n",
       "10021    (12.121, 16.162]  (137.374, 141.414]  (133.333, 137.374]  (100, 150]   \n",
       "10037  (109.091, 113.131]   (202.02, 206.061]  (238.384, 242.424]  (200, 250]   \n",
       "\n",
       "       bins_zb_4p     bins_xb  clst_l1  clst_l2  clst_l3  \n",
       "roi                                                       \n",
       "1      (100, 200]  (250, 300]        2        7       17  \n",
       "2      (200, 300]  (250, 300]        2        7       17  \n",
       "3      (100, 200]  (300, 350]        2        9       19  \n",
       "4      (200, 300]  (300, 350]        2        7       17  \n",
       "5      (200, 300]  (200, 250]        2        7       17  \n",
       "...           ...         ...      ...      ...      ...  \n",
       "9951   (300, 400]  (100, 150]        2        8       18  \n",
       "9987   (100, 200]  (100, 150]        4       12       25  \n",
       "10009  (300, 400]  (100, 150]        3       10       20  \n",
       "10021  (100, 200]  (100, 150]        3       10       21  \n",
       "10037  (200, 300]  (200, 250]        3       10       20  \n",
       "\n",
       "[8535 rows x 46 columns]"
      ]
     },
     "execution_count": 12,
     "metadata": {},
     "output_type": "execute_result"
    },
    {
     "name": "stderr",
     "output_type": "stream",
     "text": [
      "WARNING: Error drawing visual <Volume at 0x2344d22ea60>\n"
     ]
    }
   ],
   "source": [
    "f = 'D:\\\\SWAP\\\\Vincent\\\\lt172_exps\\\\gene\\\\outputs\\\\test-oct6_epsilon1\\\\clustering.csv'\n",
    "res = pd.read_csv(f, index_col=0)\n",
    "res"
   ]
  },
  {
   "cell_type": "code",
   "execution_count": 13,
   "metadata": {},
   "outputs": [
    {
     "data": {
      "text/plain": [
       "(9723, 8535)"
      ]
     },
     "execution_count": 13,
     "metadata": {},
     "output_type": "execute_result"
    }
   ],
   "source": [
    "len(roi), len(res)"
   ]
  },
  {
   "cell_type": "code",
   "execution_count": 14,
   "metadata": {},
   "outputs": [
    {
     "data": {
      "text/plain": [
       "(8535,)"
      ]
     },
     "execution_count": 14,
     "metadata": {},
     "output_type": "execute_result"
    }
   ],
   "source": [
    "comm = np.intersect1d(roi.index.values, \n",
    "                      res.index.values,\n",
    "                     )\n",
    "comm.shape"
   ]
  },
  {
   "cell_type": "code",
   "execution_count": 15,
   "metadata": {},
   "outputs": [],
   "source": [
    "cluster_cols = ['clst_l1', 'clst_l2', 'clst_l3'] \n",
    "roi2 = roi.join(res[cluster_cols]).dropna()\n",
    "roi2[cluster_cols] = roi2[cluster_cols].astype(int)  \n",
    "\n",
    "roi2sub = roi2[roi2['clst_l1']==1]\n",
    "_z = roi2sub['z'].values*2/0.84 # convert to pixel\n",
    "_y = roi2sub['y'].values*2/0.92 # convert to pixel\n",
    "_x = roi2sub['x'].values*2/0.92 # convert to pixel\n",
    "\n",
    "conditions = [\n",
    "    _x <= x_max,\n",
    "    _y <= y_max,\n",
    "    _z <= z_max,\n",
    "    \n",
    "    _x >  x_min,\n",
    "    _y >  y_min,\n",
    "    _z >  z_min,\n",
    "]\n",
    "cond = (np.sum(conditions, axis=0) == 6) # all six conditions has to be satified to be pulled\n",
    "points = np.vstack([_z-z_min,\n",
    "                    _y-y_min,\n",
    "                    _x-x_min]).T[cond]"
   ]
  },
  {
   "cell_type": "code",
   "execution_count": 16,
   "metadata": {},
   "outputs": [
    {
     "name": "stderr",
     "output_type": "stream",
     "text": [
      "C:\\Users\\zeiss\\anaconda3\\envs\\easifish\\lib\\site-packages\\numpy\\core\\numeric.py:2449: FutureWarning: elementwise comparison failed; returning scalar instead, but in the future will perform elementwise comparison\n",
      "  return bool(asarray(a1 == a2).all())\n"
     ]
    },
    {
     "data": {
      "text/plain": [
       "<Points layer 'cluster 1' at 0x23449b249a0>"
      ]
     },
     "execution_count": 16,
     "metadata": {},
     "output_type": "execute_result"
    }
   ],
   "source": [
    "# visualize the centroids of one cell type\n",
    "viewer.add_points(points, size=10, face_color='blue',edge_color='blue',name='cluster 1')"
   ]
  },
  {
   "cell_type": "code",
   "execution_count": 17,
   "metadata": {},
   "outputs": [
    {
     "data": {
      "text/plain": [
       "array([2, 4, 1, 3])"
      ]
     },
     "execution_count": 17,
     "metadata": {},
     "output_type": "execute_result"
    }
   ],
   "source": [
    "roi2['clst_l1'].unique()"
   ]
  },
  {
   "cell_type": "code",
   "execution_count": 18,
   "metadata": {},
   "outputs": [
    {
     "data": {
      "text/plain": [
       "<Labels layer 'clusters' at 0x2345152aa90>"
      ]
     },
     "execution_count": 18,
     "metadata": {},
     "output_type": "execute_result"
    },
    {
     "name": "stderr",
     "output_type": "stream",
     "text": [
      "WARNING: Error drawing visual <Volume at 0x2344d22ea60>\n",
      "WARNING: Error drawing visual <Volume at 0x2344d22ea60>\n",
      "WARNING: Error drawing visual <Volume at 0x2344d22ea60>\n"
     ]
    }
   ],
   "source": [
    "# visualize masks of all cell types (in diff colors)\n",
    "lookup = roi2['clst_l1']\n",
    "roiidx, inv = np.unique(lb_sub, return_inverse=True)\n",
    "# np.all(lb_sub == roiidx[inv].reshape(lb_sub.shape))\n",
    "clstlbs = lookup.reindex(roiidx).fillna(0).astype(int).values #.values\n",
    "masks_byclsts = clstlbs[inv].reshape(lb_sub.shape)\n",
    "viewer.add_labels(masks_byclsts.astype('uint32'), name='clusters',blending='additive')"
   ]
  }
 ],
 "metadata": {
  "kernelspec": {
   "display_name": "Python 3 (ipykernel)",
   "language": "python",
   "name": "python3"
  },
  "language_info": {
   "codemirror_mode": {
    "name": "ipython",
    "version": 3
   },
   "file_extension": ".py",
   "mimetype": "text/x-python",
   "name": "python",
   "nbconvert_exporter": "python",
   "pygments_lexer": "ipython3",
   "version": "3.9.12"
  }
 },
 "nbformat": 4,
 "nbformat_minor": 4
}
