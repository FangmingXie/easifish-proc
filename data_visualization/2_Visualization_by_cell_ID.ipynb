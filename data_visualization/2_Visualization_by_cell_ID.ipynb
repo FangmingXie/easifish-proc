{
 "cells": [
  {
   "cell_type": "markdown",
   "metadata": {},
   "source": [
    "### Load packages"
   ]
  },
  {
   "cell_type": "code",
   "execution_count": 1,
   "metadata": {
    "scrolled": true
   },
   "outputs": [],
   "source": [
    "import os, sys\n",
    "import numpy as np\n",
    "import pandas as pd\n",
    "from glob import glob \n",
    "from skimage.io import imread, imsave\n",
    "import zarr\n",
    "import napari"
   ]
  },
  {
   "cell_type": "markdown",
   "metadata": {},
   "source": [
    "### Start Napari viewer"
   ]
  },
  {
   "cell_type": "code",
   "execution_count": 2,
   "metadata": {},
   "outputs": [],
   "source": [
    "%gui qt\n",
    "napari.gui_qt()\n",
    "viewer = napari.Viewer(ndisplay=3)"
   ]
  },
  {
   "cell_type": "markdown",
   "metadata": {},
   "source": [
    "### Specify directory to data files"
   ]
  },
  {
   "cell_type": "code",
   "execution_count": 3,
   "metadata": {},
   "outputs": [],
   "source": [
    "roi_dir='/test/LHA3_R3_medium/spots/roi.csv'\n",
    "lb_dir='/test/LHA3_R3_medium/segmentation/LHA3_R3_medium-c2.tif'\n",
    "spot_dir='/test/LHA3_R5_medium/spots/LHA3_R5_medium-to-LHA3_R3_medium/merged_points_c3_warped.txt'\n",
    "imdir=\"/test/LHA3_R5_medium/registration/LHA3_R5_medium-to-LHA3_R3_medium/warped/\""
   ]
  },
  {
   "cell_type": "markdown",
   "metadata": {},
   "source": [
    "### Specify ROI ID, block size and image channel "
   ]
  },
  {
   "cell_type": "code",
   "execution_count": 24,
   "metadata": {},
   "outputs": [],
   "source": [
    "#Input information here: cell ID, image block size, channels\n",
    "cell_id=3 \n",
    "\n",
    "#define the size of the block to display around the ROI\n",
    "dx,dy,dz=[100,100,50]  # in pixel \n",
    "channel_1='c3'\n",
    "channel_2=''"
   ]
  },
  {
   "cell_type": "markdown",
   "metadata": {},
   "source": [
    "### Load data"
   ]
  },
  {
   "cell_type": "code",
   "execution_count": 25,
   "metadata": {},
   "outputs": [],
   "source": [
    "roi=pd.read_csv(roi_dir,sep=',', index_col=1)\n",
    "lb=imread(lb_dir)\n",
    "z=roi.loc[cell_id,'z']*2/0.84 # convert to pixel \n",
    "y=roi.loc[cell_id,'y']*2/0.92 # convert to pixel \n",
    "x=roi.loc[cell_id,'x']*2/0.92 # convert to pixel \n",
    "Z=int(z)\n",
    "Y=int(y)\n",
    "X=int(x)\n",
    "\n",
    "#Crop image to show the target cell and surrounding area\n",
    "lb_sub=lb[np.maximum(Z-dz,0):Z+dz,np.maximum(Y-dy,0):Y+dy,np.maximum(X-dx,0):X+dx]\n",
    "#Target Cell ID\n",
    "z0=z-Z+dz\n",
    "y0=y-Y+dy\n",
    "x0=x-X+dx\n",
    "a=np.array([[z0],[y0],[x0]])\n",
    "a=np.transpose(a)"
   ]
  },
  {
   "cell_type": "markdown",
   "metadata": {},
   "source": [
    "### Display segmentation mask, image data and the position of the specified ROI"
   ]
  },
  {
   "cell_type": "code",
   "execution_count": 26,
   "metadata": {},
   "outputs": [
    {
     "data": {
      "text/plain": [
       "<Labels layer 'labels' at 0x1c2c317110>"
      ]
     },
     "execution_count": 26,
     "metadata": {},
     "output_type": "execute_result"
    }
   ],
   "source": [
    "# get n5 image data for channel 1\n",
    "im = zarr.open(store=zarr.N5Store(imdir), mode='r')\n",
    "img_1 = im[channel_1+'/s2'][Z-dz:Z+dz,Y-dy:Y+dy,X-dx:X+dx]\n",
    "viewer.add_image(img_1.astype('float32'),colormap='green',blending='additive')\n",
    "#get n5 image data for channel 2\n",
    "if channel_2!='':\n",
    "    im = zarr.open(store=zarr.N5Store(imdir), mode='r')   \n",
    "    img_2 = im[channel_2+'/s2'][Z-dz:Z+dz,Y-dy:Y+dy,X-dx:X+dx]\n",
    "    viewer.add_image(img_2.astype('float32'),colormap='gray',blending='additive')\n",
    "zo=z-Z+dz\n",
    "yo=y-Y+dy\n",
    "xo=x-X+dx\n",
    "a=np.array([[zo],[yo],[xo]])\n",
    "a=np.transpose(a)\n",
    "viewer.add_points(a, size=5, face_color='red',edge_color='red',name='cell_centroid_position')\n",
    "lb_sub=lb[Z-dz:Z+dz,Y-dy:Y+dy,X-dx:X+dx]\n",
    "viewer.add_labels(lb_sub.astype('uint32'),name='labels',blending='additive')"
   ]
  },
  {
   "cell_type": "markdown",
   "metadata": {},
   "source": [
    "### Spot detection can also be visualized "
   ]
  },
  {
   "cell_type": "code",
   "execution_count": 30,
   "metadata": {},
   "outputs": [],
   "source": [
    "spot=np.loadtxt(spot_dir,delimiter=' ')\n",
    "vox=[0.92,0.92,0.84]  #current image voxel size\n",
    "spot[:,:3]=spot[:,:3]/vox"
   ]
  },
  {
   "cell_type": "markdown",
   "metadata": {},
   "source": [
    "### Display spot detection in selected image block"
   ]
  },
  {
   "cell_type": "code",
   "execution_count": 32,
   "metadata": {},
   "outputs": [
    {
     "data": {
      "text/plain": [
       "<Points layer 'detected_spots' at 0x1c2f0a2ed0>"
      ]
     },
     "execution_count": 32,
     "metadata": {},
     "output_type": "execute_result"
    }
   ],
   "source": [
    "\n",
    "b=spot[np.logical_and(spot[:,0]<=X+dx,spot[:,0]>X-dx)]\n",
    "b=b[np.logical_and(b[:,1]<=Y+dy,b[:,1]>Y-dy)]\n",
    "b=b[np.logical_and(b[:,2]<=Z+dz,b[:,2]>Z-dz)]\n",
    "bx=b[:,0]-X+dx\n",
    "by=b[:,1]-Y+dy\n",
    "bz=b[:,2]-Z+dz\n",
    "point=np.stack((bz,by,bx),axis=-1)\n",
    "viewer.add_points(point, size=1, face_color='red',edge_color='red',name='detected_spots')"
   ]
  }
 ],
 "metadata": {
  "kernelspec": {
   "display_name": "napari",
   "language": "python",
   "name": "napari"
  },
  "language_info": {
   "codemirror_mode": {
    "name": "ipython",
    "version": 3
   },
   "file_extension": ".py",
   "mimetype": "text/x-python",
   "name": "python",
   "nbconvert_exporter": "python",
   "pygments_lexer": "ipython3",
   "version": "3.9.16"
  }
 },
 "nbformat": 4,
 "nbformat_minor": 4
}
