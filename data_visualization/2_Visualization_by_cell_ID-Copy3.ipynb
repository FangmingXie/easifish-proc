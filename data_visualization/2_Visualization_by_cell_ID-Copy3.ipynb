{
 "cells": [
  {
   "cell_type": "markdown",
   "metadata": {},
   "source": [
    "### Load packages"
   ]
  },
  {
   "cell_type": "code",
   "execution_count": 1,
   "metadata": {
    "scrolled": true
   },
   "outputs": [],
   "source": [
    "import os, sys\n",
    "import numpy as np\n",
    "import pandas as pd\n",
    "from glob import glob \n",
    "from skimage.io import imread, imsave\n",
    "import zarr\n",
    "import napari"
   ]
  },
  {
   "cell_type": "code",
   "execution_count": 2,
   "metadata": {},
   "outputs": [
    {
     "data": {
      "text/plain": [
       "<zarr.hierarchy.Group '/' read-only>"
      ]
     },
     "execution_count": 2,
     "metadata": {},
     "output_type": "execute_result"
    }
   ],
   "source": [
    "ddir = '/u/scratch/f/f7xiesnm/demo_tiny/outputs'\n",
    "imdir    = ddir + '/LHA3_R3_tiny/stitching/export.n5'\n",
    "# imdir    = ddir + '/LHA3_R3_tiny/stitching/tiles.n5'\n",
    "im = zarr.open(store=zarr.N5Store(imdir), mode='r')\n",
    "im"
   ]
  },
  {
   "cell_type": "code",
   "execution_count": 3,
   "metadata": {},
   "outputs": [
    {
     "data": {
      "text/plain": [
       "['s0', 's1', 's2', 's3', 's4', 's5', 's6', 's7', 's8']"
      ]
     },
     "execution_count": 3,
     "metadata": {},
     "output_type": "execute_result"
    }
   ],
   "source": [
    "list(im.keys())\n",
    "list(im['c0'].keys())"
   ]
  },
  {
   "cell_type": "code",
   "execution_count": 4,
   "metadata": {},
   "outputs": [],
   "source": [
    "a = im['c0/s3'].astype(np.float32)"
   ]
  },
  {
   "cell_type": "markdown",
   "metadata": {
    "tags": []
   },
   "source": [
    "### Start Napari viewer"
   ]
  },
  {
   "cell_type": "code",
   "execution_count": 5,
   "metadata": {
    "scrolled": true
   },
   "outputs": [
    {
     "name": "stderr",
     "output_type": "stream",
     "text": [
      "libGL error: No matching fbConfigs or visuals found\n",
      "WARNING: Unrecognized OpenGL version\n",
      "WARNING: Unrecognized OpenGL version\n",
      "libGL error: failed to load driver: swrast\n"
     ]
    }
   ],
   "source": [
    "%gui qt\n",
    "napari.gui_qt()\n",
    "viewer = napari.Viewer(ndisplay=3)"
   ]
  },
  {
   "cell_type": "code",
   "execution_count": 6,
   "metadata": {},
   "outputs": [
    {
     "name": "stderr",
     "output_type": "stream",
     "text": [
      "WARNING: Unrecognized OpenGL version\n",
      "WARNING: Unrecognized OpenGL version\n",
      "WARNING: Unrecognized OpenGL version\n",
      "WARNING: Unrecognized OpenGL version\n",
      "WARNING: QOpenGLWidget: Failed to make context current\n",
      "WARNING: Unrecognized OpenGL version\n",
      "WARNING: Unrecognized OpenGL version\n",
      "WARNING: QOpenGLWidget: Failed to make context current\n"
     ]
    },
    {
     "data": {
      "text/plain": [
       "<Image layer 'a' at 0x2b3df8809790>"
      ]
     },
     "execution_count": 6,
     "metadata": {},
     "output_type": "execute_result"
    },
    {
     "name": "stderr",
     "output_type": "stream",
     "text": [
      "WARNING: Unrecognized OpenGL version\n",
      "WARNING: Unrecognized OpenGL version\n",
      "WARNING: composeAndFlush: makeCurrent() failed\n",
      "WARNING: composeAndFlush: makeCurrent() failed\n",
      "WARNING: Unrecognized OpenGL version\n",
      "WARNING: Unrecognized OpenGL version\n",
      "WARNING: QOpenGLWidget: Failed to make context current\n",
      "WARNING: composeAndFlush: makeCurrent() failed\n",
      "WARNING: composeAndFlush: makeCurrent() failed\n",
      "WARNING: composeAndFlush: makeCurrent() failed\n",
      "WARNING: composeAndFlush: makeCurrent() failed\n",
      "WARNING: composeAndFlush: makeCurrent() failed\n",
      "WARNING: composeAndFlush: makeCurrent() failed\n",
      "WARNING: composeAndFlush: makeCurrent() failed\n",
      "WARNING: composeAndFlush: makeCurrent() failed\n",
      "WARNING: composeAndFlush: makeCurrent() failed\n",
      "WARNING: composeAndFlush: makeCurrent() failed\n",
      "WARNING: composeAndFlush: makeCurrent() failed\n",
      "WARNING: composeAndFlush: makeCurrent() failed\n",
      "WARNING: composeAndFlush: makeCurrent() failed\n",
      "WARNING: composeAndFlush: makeCurrent() failed\n",
      "WARNING: composeAndFlush: makeCurrent() failed\n",
      "WARNING: composeAndFlush: makeCurrent() failed\n",
      "WARNING: composeAndFlush: makeCurrent() failed\n",
      "WARNING: composeAndFlush: makeCurrent() failed\n",
      "WARNING: composeAndFlush: makeCurrent() failed\n",
      "WARNING: composeAndFlush: makeCurrent() failed\n",
      "WARNING: composeAndFlush: makeCurrent() failed\n",
      "WARNING: composeAndFlush: makeCurrent() failed\n",
      "WARNING: composeAndFlush: makeCurrent() failed\n",
      "WARNING: composeAndFlush: makeCurrent() failed\n",
      "WARNING: composeAndFlush: makeCurrent() failed\n",
      "WARNING: composeAndFlush: makeCurrent() failed\n",
      "WARNING: composeAndFlush: makeCurrent() failed\n",
      "WARNING: composeAndFlush: makeCurrent() failed\n",
      "WARNING: composeAndFlush: makeCurrent() failed\n",
      "WARNING: composeAndFlush: makeCurrent() failed\n",
      "WARNING: composeAndFlush: makeCurrent() failed\n",
      "WARNING: composeAndFlush: makeCurrent() failed\n",
      "WARNING: composeAndFlush: makeCurrent() failed\n",
      "WARNING: composeAndFlush: makeCurrent() failed\n",
      "WARNING: composeAndFlush: makeCurrent() failed\n",
      "WARNING: composeAndFlush: makeCurrent() failed\n",
      "WARNING: composeAndFlush: makeCurrent() failed\n",
      "WARNING: composeAndFlush: makeCurrent() failed\n",
      "WARNING: composeAndFlush: makeCurrent() failed\n",
      "WARNING: composeAndFlush: makeCurrent() failed\n",
      "WARNING: composeAndFlush: makeCurrent() failed\n",
      "WARNING: composeAndFlush: makeCurrent() failed\n",
      "WARNING: composeAndFlush: makeCurrent() failed\n",
      "WARNING: composeAndFlush: makeCurrent() failed\n",
      "WARNING: composeAndFlush: makeCurrent() failed\n",
      "WARNING: composeAndFlush: makeCurrent() failed\n",
      "WARNING: composeAndFlush: makeCurrent() failed\n",
      "WARNING: composeAndFlush: makeCurrent() failed\n",
      "WARNING: composeAndFlush: makeCurrent() failed\n",
      "WARNING: composeAndFlush: makeCurrent() failed\n",
      "WARNING: composeAndFlush: makeCurrent() failed\n",
      "WARNING: composeAndFlush: makeCurrent() failed\n",
      "WARNING: composeAndFlush: makeCurrent() failed\n",
      "WARNING: composeAndFlush: makeCurrent() failed\n",
      "WARNING: composeAndFlush: makeCurrent() failed\n",
      "WARNING: composeAndFlush: makeCurrent() failed\n",
      "WARNING: composeAndFlush: makeCurrent() failed\n",
      "WARNING: composeAndFlush: makeCurrent() failed\n"
     ]
    }
   ],
   "source": [
    "viewer.add_image(a, colormap='green',blending='additive')"
   ]
  },
  {
   "cell_type": "code",
   "execution_count": null,
   "metadata": {},
   "outputs": [],
   "source": []
  },
  {
   "cell_type": "code",
   "execution_count": null,
   "metadata": {},
   "outputs": [],
   "source": []
  },
  {
   "cell_type": "code",
   "execution_count": null,
   "metadata": {},
   "outputs": [],
   "source": []
  },
  {
   "cell_type": "code",
   "execution_count": null,
   "metadata": {},
   "outputs": [],
   "source": []
  },
  {
   "cell_type": "markdown",
   "metadata": {},
   "source": [
    "### Specify directory to data files"
   ]
  },
  {
   "cell_type": "code",
   "execution_count": 3,
   "metadata": {},
   "outputs": [],
   "source": [
    "\n",
    "# ddir = '/u/home/f/f7xiesnm/try_multifish/results/outputs'\n",
    "\n",
    "# roi_dir  = ddir + '/LHA3_R3_tiny/spots/spots_rsfish_c0.csv'\n",
    "# lb_dir   = ddir + '/LHA3_R3_tiny/segmentation/LHA3_R3_tiny-c1.tif'\n",
    "# spot_dir = ddir + '/LHA3_R5_tiny/spots/LHA3_R5_tiny-to-LHA3_R3_tiny/spots_c0_warped.txt'\n",
    "# imdir    = ddir + '/LHA3_R5_tiny/registration/LHA3_R5_tiny-to-LHA3_R3_tiny/warped/'"
   ]
  },
  {
   "cell_type": "code",
   "execution_count": 17,
   "metadata": {},
   "outputs": [],
   "source": [
    "\n",
    "ddir = '/u/home/f/f7xiesnm/try_multifish/results/outputs'\n",
    "roi_dir  = ddir + '/LHA3_R3_tiny/spots/spots_rsfish_c0.csv'\n",
    "# lb_dir   = ddir + '/LHA3_R3_tiny/segmentation/LHA3_R3_tiny-c1.tif'\n",
    "# spot_dir = ddir + '/LHA3_R5_tiny/spots/LHA3_R5_tiny-to-LHA3_R3_tiny/spots_c0_warped.txt'\n",
    "# imdir    = ddir + '/LHA3_R5_tiny/registration/LHA3_R5_tiny-to-LHA3_R3_tiny/warped/'\n",
    "\n",
    "imdir    = ddir + '/LHA3_R3_tiny/stitching/export.n5'"
   ]
  },
  {
   "cell_type": "markdown",
   "metadata": {},
   "source": [
    "### Specify ROI ID, block size and image channel "
   ]
  },
  {
   "cell_type": "code",
   "execution_count": 9,
   "metadata": {},
   "outputs": [],
   "source": [
    "# #Input information here: cell ID, image block size, channels\n",
    "# cell_id=3 \n",
    "\n",
    "# #define the size of the block to display around the ROI\n",
    "# dx,dy,dz=[50,50,50]  # in pixel \n",
    "# channel_1='c0'\n",
    "# channel_2=''"
   ]
  },
  {
   "cell_type": "markdown",
   "metadata": {},
   "source": [
    "### Load data"
   ]
  },
  {
   "cell_type": "code",
   "execution_count": 18,
   "metadata": {},
   "outputs": [
    {
     "data": {
      "text/html": [
       "<div>\n",
       "<style scoped>\n",
       "    .dataframe tbody tr th:only-of-type {\n",
       "        vertical-align: middle;\n",
       "    }\n",
       "\n",
       "    .dataframe tbody tr th {\n",
       "        vertical-align: top;\n",
       "    }\n",
       "\n",
       "    .dataframe thead th {\n",
       "        text-align: right;\n",
       "    }\n",
       "</style>\n",
       "<table border=\"1\" class=\"dataframe\">\n",
       "  <thead>\n",
       "    <tr style=\"text-align: right;\">\n",
       "      <th></th>\n",
       "      <th>x</th>\n",
       "      <th>y</th>\n",
       "      <th>z</th>\n",
       "      <th>t</th>\n",
       "      <th>c</th>\n",
       "      <th>intensity</th>\n",
       "    </tr>\n",
       "  </thead>\n",
       "  <tbody>\n",
       "    <tr>\n",
       "      <th>0</th>\n",
       "      <td>207.2302</td>\n",
       "      <td>84.2284</td>\n",
       "      <td>30.8027</td>\n",
       "      <td>1</td>\n",
       "      <td>1</td>\n",
       "      <td>576.3672</td>\n",
       "    </tr>\n",
       "    <tr>\n",
       "      <th>1</th>\n",
       "      <td>217.1076</td>\n",
       "      <td>70.8227</td>\n",
       "      <td>18.0882</td>\n",
       "      <td>1</td>\n",
       "      <td>1</td>\n",
       "      <td>1700.6881</td>\n",
       "    </tr>\n",
       "    <tr>\n",
       "      <th>2</th>\n",
       "      <td>410.3447</td>\n",
       "      <td>65.0633</td>\n",
       "      <td>37.1541</td>\n",
       "      <td>1</td>\n",
       "      <td>1</td>\n",
       "      <td>622.3129</td>\n",
       "    </tr>\n",
       "    <tr>\n",
       "      <th>3</th>\n",
       "      <td>411.0812</td>\n",
       "      <td>76.5513</td>\n",
       "      <td>37.1661</td>\n",
       "      <td>1</td>\n",
       "      <td>1</td>\n",
       "      <td>680.6147</td>\n",
       "    </tr>\n",
       "    <tr>\n",
       "      <th>4</th>\n",
       "      <td>421.3228</td>\n",
       "      <td>70.6260</td>\n",
       "      <td>38.3514</td>\n",
       "      <td>1</td>\n",
       "      <td>1</td>\n",
       "      <td>649.7258</td>\n",
       "    </tr>\n",
       "    <tr>\n",
       "      <th>...</th>\n",
       "      <td>...</td>\n",
       "      <td>...</td>\n",
       "      <td>...</td>\n",
       "      <td>...</td>\n",
       "      <td>...</td>\n",
       "      <td>...</td>\n",
       "    </tr>\n",
       "    <tr>\n",
       "      <th>1147</th>\n",
       "      <td>1057.2425</td>\n",
       "      <td>680.4176</td>\n",
       "      <td>137.4911</td>\n",
       "      <td>1</td>\n",
       "      <td>1</td>\n",
       "      <td>653.0583</td>\n",
       "    </tr>\n",
       "    <tr>\n",
       "      <th>1148</th>\n",
       "      <td>1074.0729</td>\n",
       "      <td>738.8567</td>\n",
       "      <td>148.4004</td>\n",
       "      <td>1</td>\n",
       "      <td>1</td>\n",
       "      <td>471.6298</td>\n",
       "    </tr>\n",
       "    <tr>\n",
       "      <th>1149</th>\n",
       "      <td>358.7687</td>\n",
       "      <td>864.3359</td>\n",
       "      <td>140.2746</td>\n",
       "      <td>1</td>\n",
       "      <td>1</td>\n",
       "      <td>833.5345</td>\n",
       "    </tr>\n",
       "    <tr>\n",
       "      <th>1150</th>\n",
       "      <td>717.1795</td>\n",
       "      <td>764.7581</td>\n",
       "      <td>133.2157</td>\n",
       "      <td>1</td>\n",
       "      <td>1</td>\n",
       "      <td>928.0345</td>\n",
       "    </tr>\n",
       "    <tr>\n",
       "      <th>1151</th>\n",
       "      <td>633.9396</td>\n",
       "      <td>913.5081</td>\n",
       "      <td>142.2759</td>\n",
       "      <td>1</td>\n",
       "      <td>1</td>\n",
       "      <td>595.3865</td>\n",
       "    </tr>\n",
       "  </tbody>\n",
       "</table>\n",
       "<p>1152 rows × 6 columns</p>\n",
       "</div>"
      ],
      "text/plain": [
       "              x         y         z  t  c  intensity\n",
       "0      207.2302   84.2284   30.8027  1  1   576.3672\n",
       "1      217.1076   70.8227   18.0882  1  1  1700.6881\n",
       "2      410.3447   65.0633   37.1541  1  1   622.3129\n",
       "3      411.0812   76.5513   37.1661  1  1   680.6147\n",
       "4      421.3228   70.6260   38.3514  1  1   649.7258\n",
       "...         ...       ...       ... .. ..        ...\n",
       "1147  1057.2425  680.4176  137.4911  1  1   653.0583\n",
       "1148  1074.0729  738.8567  148.4004  1  1   471.6298\n",
       "1149   358.7687  864.3359  140.2746  1  1   833.5345\n",
       "1150   717.1795  764.7581  133.2157  1  1   928.0345\n",
       "1151   633.9396  913.5081  142.2759  1  1   595.3865\n",
       "\n",
       "[1152 rows x 6 columns]"
      ]
     },
     "execution_count": 18,
     "metadata": {},
     "output_type": "execute_result"
    }
   ],
   "source": [
    "roi=pd.read_csv(roi_dir, sep=',')#, index_col=1)\n",
    "roi"
   ]
  },
  {
   "cell_type": "code",
   "execution_count": 19,
   "metadata": {},
   "outputs": [
    {
     "name": "stderr",
     "output_type": "stream",
     "text": [
      "WARNING: Unrecognized OpenGL version\n",
      "WARNING: Unrecognized OpenGL version\n",
      "WARNING: Unrecognized OpenGL version\n",
      "WARNING: Unrecognized OpenGL version\n",
      "WARNING: QOpenGLWidget: Failed to make context current\n",
      "WARNING: Unrecognized OpenGL version\n",
      "WARNING: Unrecognized OpenGL version\n",
      "WARNING: QOpenGLWidget: Failed to make context current\n"
     ]
    },
    {
     "data": {
      "text/plain": [
       "<Points layer 'detected_spots' at 0x2b83681f1c40>"
      ]
     },
     "execution_count": 19,
     "metadata": {},
     "output_type": "execute_result"
    },
    {
     "name": "stderr",
     "output_type": "stream",
     "text": [
      "WARNING: Unrecognized OpenGL version\n",
      "WARNING: Unrecognized OpenGL version\n",
      "WARNING: composeAndFlush: makeCurrent() failed\n",
      "WARNING: composeAndFlush: makeCurrent() failed\n",
      "WARNING: composeAndFlush: makeCurrent() failed\n",
      "WARNING: composeAndFlush: makeCurrent() failed\n",
      "WARNING: composeAndFlush: makeCurrent() failed\n",
      "WARNING: composeAndFlush: makeCurrent() failed\n",
      "WARNING: composeAndFlush: makeCurrent() failed\n",
      "WARNING: composeAndFlush: makeCurrent() failed\n",
      "WARNING: composeAndFlush: makeCurrent() failed\n",
      "WARNING: composeAndFlush: makeCurrent() failed\n",
      "WARNING: composeAndFlush: makeCurrent() failed\n",
      "WARNING: composeAndFlush: makeCurrent() failed\n",
      "WARNING: composeAndFlush: makeCurrent() failed\n",
      "WARNING: composeAndFlush: makeCurrent() failed\n",
      "WARNING: composeAndFlush: makeCurrent() failed\n",
      "WARNING: composeAndFlush: makeCurrent() failed\n",
      "WARNING: composeAndFlush: makeCurrent() failed\n",
      "WARNING: composeAndFlush: makeCurrent() failed\n",
      "WARNING: composeAndFlush: makeCurrent() failed\n",
      "WARNING: composeAndFlush: makeCurrent() failed\n",
      "WARNING: composeAndFlush: makeCurrent() failed\n",
      "WARNING: composeAndFlush: makeCurrent() failed\n",
      "WARNING: composeAndFlush: makeCurrent() failed\n",
      "WARNING: composeAndFlush: makeCurrent() failed\n",
      "WARNING: composeAndFlush: makeCurrent() failed\n",
      "WARNING: composeAndFlush: makeCurrent() failed\n",
      "WARNING: composeAndFlush: makeCurrent() failed\n",
      "WARNING: composeAndFlush: makeCurrent() failed\n",
      "WARNING: composeAndFlush: makeCurrent() failed\n",
      "WARNING: composeAndFlush: makeCurrent() failed\n",
      "WARNING: composeAndFlush: makeCurrent() failed\n",
      "WARNING: OpenGL version could not be determined, which might be a sign that OpenGL is not loaded correctly.\n",
      "WARNING: Error drawing visual <vispy.visuals.mesh.MeshVisual object at 0x2b8353fcdeb0>\n",
      "Traceback (most recent call last):\n",
      "  File \"/u/home/f/f7xiesnm/.conda/envs/napari/lib/python3.9/site-packages/vispy/app/backends/_qt.py\", line 502, in mousePressEvent\n",
      "    self._vispy_mouse_press(\n",
      "  File \"/u/home/f/f7xiesnm/.conda/envs/napari/lib/python3.9/site-packages/vispy/app/base.py\", line 184, in _vispy_mouse_press\n",
      "    ev = self._vispy_canvas.events.mouse_press(**kwargs)\n",
      "  File \"/u/home/f/f7xiesnm/.conda/envs/napari/lib/python3.9/site-packages/vispy/util/event.py\", line 453, in __call__\n",
      "    self._invoke_callback(cb, event)\n",
      "  File \"/u/home/f/f7xiesnm/.conda/envs/napari/lib/python3.9/site-packages/vispy/util/event.py\", line 471, in _invoke_callback\n",
      "    _handle_exception(self.ignore_callback_errors,\n",
      "  File \"/u/home/f/f7xiesnm/.conda/envs/napari/lib/python3.9/site-packages/vispy/util/event.py\", line 469, in _invoke_callback\n",
      "    cb(event)\n",
      "  File \"/u/home/f/f7xiesnm/.conda/envs/napari/lib/python3.9/site-packages/napari/_vispy/canvas.py\", line 96, in _process_mouse_event\n",
      "    super()._process_mouse_event(event)\n",
      "  File \"/u/home/f/f7xiesnm/.conda/envs/napari/lib/python3.9/site-packages/vispy/scene/canvas.py\", line 354, in _process_mouse_event\n",
      "    picked = self.visual_at(event.pos)\n",
      "  File \"/u/home/f/f7xiesnm/.conda/envs/napari/lib/python3.9/site-packages/vispy/scene/canvas.py\", line 407, in visual_at\n",
      "    id_ = self._render_picking((fbpos[0], fbpos[1], 1, 1))\n",
      "  File \"/u/home/f/f7xiesnm/.conda/envs/napari/lib/python3.9/site-packages/vispy/scene/canvas.py\", line 492, in _render_picking\n",
      "    img = self.render(bgcolor=(0, 0, 0, 0), crop=crop)\n",
      "  File \"/u/home/f/f7xiesnm/.conda/envs/napari/lib/python3.9/site-packages/vispy/scene/canvas.py\", line 264, in render\n",
      "    self._draw_scene(bgcolor=bgcolor)\n",
      "  File \"/u/home/f/f7xiesnm/.conda/envs/napari/lib/python3.9/site-packages/vispy/scene/canvas.py\", line 277, in _draw_scene\n",
      "    self.draw_vWARNING: composeAndFlush: makeCurrent() failed\n",
      "isual(self.scene)\n",
      "  File \"/u/home/f/f7xiesnm/.conda/envs/napari/lib/python3.9/site-packages/vispy/scene/canvas.py\", line 315, in draw_visual\n",
      "    node.draw()\n",
      "  File \"/u/home/f/f7xiesnm/.conda/envs/napari/lib/python3.9/site-packages/vispy/scene/visuals.py\", line 103, in draw\n",
      "    self._visual_superclass.draw(self)\n",
      "  File \"/u/home/f/f7xiesnm/.conda/envs/napari/lib/python3.9/site-packages/vispy/visuals/visual.py\", line 605, in draw\n",
      "    v.draw()\n",
      "  File \"/u/home/f/f7xiesnm/.conda/envs/napari/lib/python3.9/site-packages/vispy/visuals/visual.py\", line 451, in draw\n",
      "    self._program.draw(self._vshare.draw_mode,\n",
      "  File \"/u/home/f/f7xiesnm/.conda/envs/napari/lib/python3.9/site-packages/vispy/visuals/shaders/program.py\", line 102, in draw\n",
      "    Program.draw(self, *args, **kwargs)\n",
      "  File \"/u/home/f/f7xiesnm/.conda/envs/napari/lib/python3.9/site-packages/vispy/gloo/program.py\", line 526, in draw\n",
      "    canvas.context.flush_commands()\n",
      "  File \"/u/home/f/f7xiesnm/.conda/envs/napari/lib/python3.9/site-packages/vispy/gloo/context.py\", line 172, in flush_commands\n",
      "    self.glir.flush(self.shared.parser)\n",
      "  File \"/u/home/f/f7xiesnm/.conda/envs/napari/lib/python3.9/site-packages/vispy/gloo/glir.py\", line 582, in flush\n",
      "    self._shared.flush(parser)\n",
      "  File \"/u/home/f/f7xiesnm/.conda/envs/napari/lib/python3.9/site-packages/vispy/gloo/glir.py\", line 504, in flush\n",
      "    parser.parse(self._filter(self.clear(), parser))\n",
      "  File \"/u/home/f/f7xiesnm/.conda/envs/napari/lib/python3.9/site-packages/vispy/gloo/glir.py\", line 822, in parse\n",
      "    self._parse(command)\n",
      "  File \"/u/home/f/f7xiesnm/.conda/envs/napari/lib/python3.9/site-packages/vispy/gloo/glir.py\", line 796, in _parse\n",
      "    ob.attach(*args)\n",
      "  File \"/u/home/f/f7xiesnm/.conda/envs/napari/lib/python3.9/site-packages/vispy/gloo/glir.py\", line 1785, in attach\n",
      "    self.deactivate()\n",
      "  File \"/u/home/f/f7xiesnm/.conda/envs/napari/lib/python3.9/site-packages/vispy/gloo/glir.py\", line 1756, in deactivate\n",
      "    gl.glBindFramebuffer(gl.GL_FRAMEBUFFER, stack[-1])\n",
      "IndexError: list index out of range\n",
      "WARNING: composeAndFlush: makeCurrent() failed\n",
      "WARNING: composeAndFlush: makeCurrent() failed\n",
      "WARNING: composeAndFlush: makeCurrent() failed\n",
      "WARNING: composeAndFlush: makeCurrent() failed\n",
      "WARNING: composeAndFlush: makeCurrent() failed\n",
      "WARNING: composeAndFlush: makeCurrent() failed\n",
      "WARNING: composeAndFlush: makeCurrent() failed\n",
      "WARNING: composeAndFlush: makeCurrent() failed\n",
      "WARNING: composeAndFlush: makeCurrent() failed\n",
      "WARNING: composeAndFlush: makeCurrent() failed\n",
      "WARNING: composeAndFlush: makeCurrent() failed\n",
      "WARNING: composeAndFlush: makeCurrent() failed\n",
      "WARNING: composeAndFlush: makeCurrent() failed\n",
      "WARNING: composeAndFlush: makeCurrent() failed\n",
      "WARNING: composeAndFlush: makeCurrent() failed\n",
      "WARNING: composeAndFlush: makeCurrent() failed\n",
      "WARNING: composeAndFlush: makeCurrent() failed\n",
      "WARNING: composeAndFlush: makeCurrent() failed\n",
      "WARNING: composeAndFlush: makeCurrent() failed\n",
      "WARNING: composeAndFlush: makeCurrent() failed\n",
      "WARNING: composeAndFlush: makeCurrent() failed\n",
      "WARNING: composeAndFlush: makeCurrent() failed\n",
      "WARNING: composeAndFlush: makeCurrent() failed\n",
      "WARNING: composeAndFlush: makeCurrent() failed\n",
      "WARNING: composeAndFlush: makeCurrent() failed\n",
      "WARNING: composeAndFlush: makeCurrent() failed\n",
      "WARNING: composeAndFlush: makeCurrent() failed\n",
      "WARNING: composeAndFlush: makeCurrent() failed\n",
      "WARNING: composeAndFlush: makeCurrent() failed\n",
      "WARNING: composeAndFlush: makeCurrent() failed\n",
      "WARNING: composeAndFlush: makeCurrent() failed\n",
      "WARNING: composeAndFlush: makeCurrent() failed\n",
      "WARNING: composeAndFlush: makeCurrent() failed\n",
      "WARNING: composeAndFlush: makeCurrent() failed\n",
      "WARNING: composeAndFlush: makeCurrent() failed\n",
      "WARNING: composeAndFlush: makeCurrent() failed\n",
      "WARNING: composeAndFlush: makeCurrent() failed\n",
      "WARNING: composeAndFlush: makeCurrent() failed\n",
      "WARNING: composeAndFlush: makeCurrent() failed\n",
      "WARNING: composeAndFlush: makeCurrent() failed\n",
      "WARNING: composeAndFlush: makeCurrent() failed\n",
      "WARNING: composeAndFlush: makeCurrent() failed\n",
      "WARNING: composeAndFlush: makeCurrent() failed\n",
      "WARNING: composeAndFlush: makeCurrent() failed\n",
      "WARNING: composeAndFlush: makeCurrent() failed\n",
      "WARNING: composeAndFlush: makeCurrent() failed\n",
      "WARNING: composeAndFlush: makeCurrent() failed\n",
      "WARNING: Error drawing visual <vispy.visuals.mesh.MeshVisual object at 0x2b8353fcdeb0>\n",
      "Traceback (most recent call last):\n",
      "  File \"/u/home/f/f7xiesnm/.conda/envs/napari/lib/python3.9/site-packages/vispy/app/backends/_qt.py\", line 502, in mousePressEvent\n",
      "    self._vispy_mouse_press(\n",
      "  File \"/u/home/f/f7xiesnm/.conda/envs/napari/lib/python3.9/site-packages/vispy/app/base.py\", line 184, in _vispy_mouse_press\n",
      "    ev = self._vispy_canvas.events.mouse_press(**kwargs)\n",
      "  File \"/u/home/f/f7xiesnm/.conda/envs/napari/lib/python3.9/site-packages/vispy/util/event.py\", line 453, in __call__\n",
      "    self._invoke_callback(cb, event)\n",
      "  File \"/u/home/f/f7xiesnm/.conda/envs/napari/lib/python3.9/site-packages/vispy/util/event.py\", line 471, in _invoke_callback\n",
      "    _handle_exception(self.ignore_callback_errors,\n",
      "  File \"/u/home/f/f7xiesnm/.conda/envs/napari/lib/python3.9/site-packages/vispy/util/event.py\", line 469, in _invoke_callback\n",
      "    cb(event)\n",
      "  File \"/u/home/f/f7xiesnm/.conda/envs/napari/lib/python3.9/site-packages/napari/_vispy/canvas.py\", line 96, in _process_mouse_event\n",
      "    super()._process_mouse_event(event)\n",
      "  File \"/u/home/f/f7xiesnm/.conda/envs/napari/lib/python3.9/site-packages/vispy/scene/canvas.py\", line 354, in _process_mouse_event\n",
      "    picked = self.visual_at(event.pos)\n",
      "  File \"/u/home/f/f7xiesnm/.conda/envs/napari/lib/python3.9/site-packages/vispy/scene/canvas.py\", line 407, in visual_at\n",
      "    id_ = self._render_picking((fbpos[0], fbpos[1], 1, 1))\n",
      "  File \"/u/home/f/f7xiesnm/.conda/envs/napari/lib/python3.9/site-packages/vispy/scene/canvas.py\", line 492, in _render_picking\n",
      "    img = self.render(bgcolor=(0, 0, 0, 0), crop=crop)\n",
      "  File \"/u/home/f/f7xiesnm/.conda/envs/napari/lib/python3.9/site-packages/vispy/scene/canvas.py\", line 264, in render\n",
      "    self._draw_scene(bgcolor=bgcolor)\n",
      "  File \"/u/home/f/f7xiesnm/.conda/envs/napari/lib/python3.9/site-packages/vispy/scene/canvas.py\", line 277, in _draw_scene\n",
      "    self.draw_visual(self.scene)\n",
      "  File \"/u/home/f/f7xiesnm/.conda/envs/napari/lib/python3.9/site-packages/vispy/scene/canvas.py\", line 315, in draw_visual\n",
      "    node.draw()\n",
      "  File \"/u/home/f/f7xiesnm/.conda/envs/napari/lib/python3.9/site-packages/vispy/scene/visuals.py\", line 103, in draw\n",
      "    self._visual_superclass.draw(self)\n",
      "  File \"/u/home/f/f7xiesnm/.conda/envs/napari/lib/python3.9/site-packages/vispy/visuals/visual.py\", line 605, in draw\n",
      "    v.draw()\n",
      "  File \"/u/home/f/f7xiesnm/.conda/envs/napari/lib/python3.9/site-packages/vispy/visuals/visual.py\", line 451, in draw\n",
      "    self._program.draw(self._vshare.draw_mode,\n",
      "  File \"/u/home/f/f7xiesnm/.conda/envs/napari/lib/python3.9/site-packages/vispy/visuals/shaders/program.py\", line 102, in draw\n",
      "    Program.draw(self, *args, **kwargs)\n",
      "  File \"/u/home/f/f7xiesnm/.conda/envs/napari/lib/python3.9/site-packages/vispy/gloo/program.py\", line 526, in draw\n",
      "    canvas.context.flush_commands()\n",
      "  File \"/u/home/f/f7xiesnm/.conda/envs/napari/lib/python3.9/site-packages/vispy/gloo/context.py\", line 172, in flush_commands\n",
      "    self.glir.flush(self.shared.parser)\n",
      "  File \"/u/home/f/f7xiesnm/.conda/envs/napari/lib/python3.9/site-packages/vispy/gloo/glir.py\", line 582, in flush\n",
      "    self._shared.flush(parser)\n",
      "  File \"/u/home/f/f7xiesnm/.conda/envs/napari/lib/python3.9/site-packages/vispy/gloo/glir.py\", line 504, in flush\n",
      "    parser.parse(self._filter(self.clear(), parser))\n",
      "  File \"/u/home/f/f7xiesnm/.conda/envs/napari/lib/python3.9/site-packages/vispy/gloo/glir.py\", line 822, in parse\n",
      "    self._parse(command)\n",
      "  File \"/u/home/f/f7xiesnm/.conda/envs/napari/lib/python3.9/site-packages/vispy/gloo/glir.py\", line 798, in _parse\n",
      "    ob.set_framebuffer(*args)\n",
      "  File \"/u/home/f/f7xiesnm/.conda/envs/napari/lib/python3.9/site-packages/vispy/gloo/glir.py\", line 1742, in set_framebuffer\n",
      "    self.deactivate()\n",
      "  File \"/u/home/f/f7xiesnm/.conda/envs/napari/lib/python3.9/site-packages/vispy/gloo/glir.py\", line 1756, in deactivate\n",
      "    gl.glBindFramebuffer(gl.GL_FRAMEBUFFER, stack[-1])\n",
      "IndexError: list index out of range\n",
      "WARNING: composeAndFlush: makeCurrent() failed\n",
      "WARNING: composeAndFlush: makeCurrent() failed\n",
      "WARNING: composeAndFlush: makeCurrent() failed\n",
      "WARNING: composeAndFlush: makeCurrent() failed\n",
      "WARNING: composeAndFlush: makeCurrent() failed\n",
      "WARNING: composeAndFlush: makeCurrent() failed\n",
      "WARNING: composeAndFlush: makeCurrent() failed\n",
      "WARNING: composeAndFlush: makeCurrent() failed\n",
      "WARNING: composeAndFlush: makeCurrent() failed\n",
      "WARNING: composeAndFlush: makeCurrent() failed\n",
      "WARNING: composeAndFlush: makeCurrent() failed\n",
      "WARNING: composeAndFlush: makeCurrent() failed\n",
      "WARNING: composeAndFlush: makeCurrent() failed\n"
     ]
    }
   ],
   "source": [
    "bx = roi['x'].values\n",
    "by = roi['y'].values\n",
    "bz = roi['z'].values\n",
    "point=np.stack((bx, by, bz),axis=-1)\n",
    "\n",
    "viewer.add_points(point, size=1, face_color='red',edge_color='red',name='detected_spots')"
   ]
  },
  {
   "cell_type": "code",
   "execution_count": 7,
   "metadata": {},
   "outputs": [],
   "source": [
    "# lb=imread(lb_dir)\n",
    "# z=roi.loc[cell_id,'z']*2/0.84 # convert to pixel \n",
    "# y=roi.loc[cell_id,'y']*2/0.92 # convert to pixel \n",
    "# x=roi.loc[cell_id,'x']*2/0.92 # convert to pixel \n",
    "# Z=int(z)\n",
    "# Y=int(y)\n",
    "# X=int(x)\n",
    "\n",
    "# #Crop image to show the target cell and surrounding area\n",
    "# lb_sub=lb[np.maximum(Z-dz,0):Z+dz,np.maximum(Y-dy,0):Y+dy,np.maximum(X-dx,0):X+dx]\n",
    "# #Target Cell ID\n",
    "# z0=z-Z+dz\n",
    "# y0=y-Y+dy\n",
    "# x0=x-X+dx\n",
    "# a=np.array([[z0],[y0],[x0]])\n",
    "# a=np.transpose(a)"
   ]
  },
  {
   "cell_type": "markdown",
   "metadata": {
    "tags": []
   },
   "source": [
    "### Display segmentation mask, image data and the position of the specified ROI"
   ]
  },
  {
   "cell_type": "code",
   "execution_count": 2,
   "metadata": {},
   "outputs": [
    {
     "ename": "NameError",
     "evalue": "name 'ddir' is not defined",
     "output_type": "error",
     "traceback": [
      "\u001b[0;31m---------------------------------------------------------------------------\u001b[0m",
      "\u001b[0;31mNameError\u001b[0m                                 Traceback (most recent call last)",
      "Cell \u001b[0;32mIn[2], line 1\u001b[0m\n\u001b[0;32m----> 1\u001b[0m imdir    \u001b[38;5;241m=\u001b[39m \u001b[43mddir\u001b[49m \u001b[38;5;241m+\u001b[39m \u001b[38;5;124m'\u001b[39m\u001b[38;5;124m/LHA3_R3_tiny/stitching/export.n5\u001b[39m\u001b[38;5;124m'\u001b[39m\n\u001b[1;32m      2\u001b[0m imdir    \u001b[38;5;241m=\u001b[39m ddir \u001b[38;5;241m+\u001b[39m \u001b[38;5;124m'\u001b[39m\u001b[38;5;124m/LHA3_R3_tiny/stitching/tiles.n5\u001b[39m\u001b[38;5;124m'\u001b[39m\n",
      "\u001b[0;31mNameError\u001b[0m: name 'ddir' is not defined"
     ]
    }
   ],
   "source": [
    "imdir    = ddir + '/LHA3_R3_tiny/stitching/export.n5'\n",
    "imdir    = ddir + '/LHA3_R3_tiny/stitching/tiles.n5'"
   ]
  },
  {
   "cell_type": "code",
   "execution_count": 16,
   "metadata": {
    "scrolled": true
   },
   "outputs": [
    {
     "data": {
      "text/plain": [
       "<zarr.hierarchy.Group '/' read-only>"
      ]
     },
     "execution_count": 16,
     "metadata": {},
     "output_type": "execute_result"
    }
   ],
   "source": [
    "# get n5 image data for channel 1\n",
    "im = zarr.open(store=zarr.N5Store(imdir), mode='r')\n",
    "im"
   ]
  },
  {
   "cell_type": "code",
   "execution_count": null,
   "metadata": {},
   "outputs": [],
   "source": [
    "# im['/'].shape"
   ]
  },
  {
   "cell_type": "code",
   "execution_count": null,
   "metadata": {},
   "outputs": [],
   "source": []
  },
  {
   "cell_type": "code",
   "execution_count": null,
   "metadata": {},
   "outputs": [],
   "source": []
  },
  {
   "cell_type": "code",
   "execution_count": null,
   "metadata": {},
   "outputs": [],
   "source": [
    "img_1 = im[channel_1+'/s2'][Z-dz:Z+dz,Y-dy:Y+dy,X-dx:X+dx]\n",
    "viewer.add_image(img_1.astype('float32'),colormap='green',blending='additive')\n",
    "\n",
    "# #get n5 image data for channel 2\n",
    "# if channel_2!='':\n",
    "#     im = zarr.open(store=zarr.N5Store(imdir), mode='r')   \n",
    "#     img_2 = im[channel_2+'/s2'][Z-dz:Z+dz,Y-dy:Y+dy,X-dx:X+dx]\n",
    "#     viewer.add_image(img_2.astype('float32'),colormap='gray',blending='additive')\n",
    "# zo=z-Z+dz\n",
    "# yo=y-Y+dy\n",
    "# xo=x-X+dx\n",
    "# a=np.array([[zo],[yo],[xo]])\n",
    "# a=np.transpose(a)\n",
    "# viewer.add_points(a, size=5, face_color='red',edge_color='red',name='cell_centroid_position')\n",
    "# lb_sub=lb[Z-dz:Z+dz,Y-dy:Y+dy,X-dx:X+dx]\n",
    "# viewer.add_labels(lb_sub.astype('uint32'),name='labels',blending='additive')"
   ]
  },
  {
   "cell_type": "markdown",
   "metadata": {},
   "source": [
    "### Spot detection can also be visualized "
   ]
  },
  {
   "cell_type": "code",
   "execution_count": 30,
   "metadata": {},
   "outputs": [],
   "source": [
    "spot=np.loadtxt(spot_dir,delimiter=' ')\n",
    "vox=[0.92,0.92,0.84]  #current image voxel size\n",
    "spot[:,:3]=spot[:,:3]/vox"
   ]
  },
  {
   "cell_type": "markdown",
   "metadata": {},
   "source": [
    "### Display spot detection in selected image block"
   ]
  },
  {
   "cell_type": "code",
   "execution_count": 32,
   "metadata": {},
   "outputs": [
    {
     "data": {
      "text/plain": [
       "<Points layer 'detected_spots' at 0x1c2f0a2ed0>"
      ]
     },
     "execution_count": 32,
     "metadata": {},
     "output_type": "execute_result"
    }
   ],
   "source": [
    "\n",
    "b=spot[np.logical_and(spot[:,0]<=X+dx,spot[:,0]>X-dx)]\n",
    "b=b[np.logical_and(b[:,1]<=Y+dy,b[:,1]>Y-dy)]\n",
    "b=b[np.logical_and(b[:,2]<=Z+dz,b[:,2]>Z-dz)]\n",
    "bx=b[:,0]-X+dx\n",
    "by=b[:,1]-Y+dy\n",
    "bz=b[:,2]-Z+dz\n",
    "point=np.stack((bz,by,bx),axis=-1)\n",
    "viewer.add_points(point, size=1, face_color='red',edge_color='red',name='detected_spots')"
   ]
  }
 ],
 "metadata": {
  "kernelspec": {
   "display_name": "napari",
   "language": "python",
   "name": "napari"
  },
  "language_info": {
   "codemirror_mode": {
    "name": "ipython",
    "version": 3
   },
   "file_extension": ".py",
   "mimetype": "text/x-python",
   "name": "python",
   "nbconvert_exporter": "python",
   "pygments_lexer": "ipython3",
   "version": "3.9.16"
  }
 },
 "nbformat": 4,
 "nbformat_minor": 4
}
